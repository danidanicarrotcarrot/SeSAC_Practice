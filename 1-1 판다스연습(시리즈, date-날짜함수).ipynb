{
 "cells": [
  {
   "cell_type": "markdown",
   "id": "4bdcc841-3cc8-496a-9a68-abab9c81cb05",
   "metadata": {},
   "source": [
    "# 판다스 설명\n",
    "- series, DataFrame등의 자료구조를 활용한 데이터 분석 기능을 제공해주는 라이브러리\n",
    "- 시리즈(1차원 배열) 데이터프레임(2차원 행렬구조)\n",
    "\n",
    "## 판다스의 목적\n",
    "- 서로 다른 유형의 데이터를 공통된 포맷으로 정리하는 것\n",
    "\n",
    "## series\n",
    "- numpy의 ndarray를 기반으로 인덱싱 기능을 추가하여 1차원 배열을 나타냄\n",
    "\n"
   ]
  },
  {
   "cell_type": "code",
   "execution_count": 1,
   "id": "a4baf02a-591d-4399-96d0-7e2d9ce6033b",
   "metadata": {},
   "outputs": [],
   "source": [
    "# import\n",
    "\n",
    "import pandas as pd\n",
    "import numpy as np"
   ]
  },
  {
   "cell_type": "code",
   "execution_count": 2,
   "id": "7e6e6018-9d5b-47f5-b238-0775aac854d5",
   "metadata": {},
   "outputs": [
    {
     "data": {
      "text/plain": [
       "0    1\n",
       "1    2\n",
       "2    3\n",
       "dtype: int64"
      ]
     },
     "execution_count": 2,
     "metadata": {},
     "output_type": "execute_result"
    }
   ],
   "source": [
    "# series 생성하기 (리스트)\n",
    "s = pd.Series([1,2,3])\n",
    "s"
   ]
  },
  {
   "cell_type": "code",
   "execution_count": 92,
   "id": "7f3ddc83-535e-418b-85f5-b8239edb58b1",
   "metadata": {},
   "outputs": [
    {
     "data": {
      "text/plain": [
       "0    1.0\n",
       "1    2.0\n",
       "2    3.0\n",
       "dtype: float64"
      ]
     },
     "execution_count": 92,
     "metadata": {},
     "output_type": "execute_result"
    }
   ],
   "source": [
    "# (튜플)\n",
    "s = pd.Series((1.0, 2.0, 3.0))\n",
    "s"
   ]
  },
  {
   "cell_type": "code",
   "execution_count": 93,
   "id": "a11e50ff-ed2d-4d85-8328-44d032ac4054",
   "metadata": {},
   "outputs": [
    {
     "data": {
      "text/plain": [
       "0    a\n",
       "1    a\n",
       "2    c\n",
       "dtype: object"
      ]
     },
     "execution_count": 93,
     "metadata": {},
     "output_type": "execute_result"
    }
   ],
   "source": [
    "s2 = pd.Series(['a', 'a', 'c'])\n",
    "s2"
   ]
  },
  {
   "cell_type": "code",
   "execution_count": 94,
   "id": "a88de0e2-b1f0-41c4-9415-914b1b64c9c7",
   "metadata": {},
   "outputs": [
    {
     "data": {
      "text/plain": [
       "0      a\n",
       "1      1\n",
       "2    3.0\n",
       "dtype: object"
      ]
     },
     "execution_count": 94,
     "metadata": {},
     "output_type": "execute_result"
    }
   ],
   "source": [
    "# 리스트내에 서로 다른 type의 data가 있으면 형변환 일어남- 문자열로 변환됨\n",
    "s_1 = pd.Series(['a',1,3.0]) #dtype: object\n",
    "s_1"
   ]
  },
  {
   "cell_type": "code",
   "execution_count": 95,
   "id": "3cf6ebda-005e-4400-8629-c9210baf1fa2",
   "metadata": {},
   "outputs": [
    {
     "data": {
      "text/plain": [
       "0    10\n",
       "1    11\n",
       "2    12\n",
       "3    13\n",
       "dtype: int64"
      ]
     },
     "execution_count": 95,
     "metadata": {},
     "output_type": "execute_result"
    }
   ],
   "source": [
    "s = pd.Series(range(10,14)) # index 인수는 생략됨\n",
    "s"
   ]
  },
  {
   "cell_type": "code",
   "execution_count": 96,
   "id": "d5bc753d-4087-4cd1-976b-da0006f5b055",
   "metadata": {},
   "outputs": [
    {
     "data": {
      "text/plain": [
       "range(10, 14)"
      ]
     },
     "execution_count": 96,
     "metadata": {},
     "output_type": "execute_result"
    }
   ],
   "source": [
    "range(10, 14)"
   ]
  },
  {
   "cell_type": "code",
   "execution_count": 97,
   "id": "1e706efd-9e96-4131-b28f-0aa3d959d0b6",
   "metadata": {},
   "outputs": [
    {
     "data": {
      "text/plain": [
       "array([  0,   1,   2,   3,   4,   5,   6,   7,   8,   9,  10,  11,  12,\n",
       "        13,  14,  15,  16,  17,  18,  19,  20,  21,  22,  23,  24,  25,\n",
       "        26,  27,  28,  29,  30,  31,  32,  33,  34,  35,  36,  37,  38,\n",
       "        39,  40,  41,  42,  43,  44,  45,  46,  47,  48,  49,  50,  51,\n",
       "        52,  53,  54,  55,  56,  57,  58,  59,  60,  61,  62,  63,  64,\n",
       "        65,  66,  67,  68,  69,  70,  71,  72,  73,  74,  75,  76,  77,\n",
       "        78,  79,  80,  81,  82,  83,  84,  85,  86,  87,  88,  89,  90,\n",
       "        91,  92,  93,  94,  95,  96,  97,  98,  99, 100, 101, 102, 103,\n",
       "       104, 105, 106, 107, 108, 109, 110, 111, 112, 113, 114, 115, 116,\n",
       "       117, 118, 119, 120, 121, 122, 123, 124, 125, 126, 127, 128, 129,\n",
       "       130, 131, 132, 133, 134, 135, 136, 137, 138, 139, 140, 141, 142,\n",
       "       143, 144, 145, 146, 147, 148, 149, 150, 151, 152, 153, 154, 155,\n",
       "       156, 157, 158, 159, 160, 161, 162, 163, 164, 165, 166, 167, 168,\n",
       "       169, 170, 171, 172, 173, 174, 175, 176, 177, 178, 179, 180, 181,\n",
       "       182, 183, 184, 185, 186, 187, 188, 189, 190, 191, 192, 193, 194,\n",
       "       195, 196, 197, 198, 199])"
      ]
     },
     "execution_count": 97,
     "metadata": {},
     "output_type": "execute_result"
    }
   ],
   "source": [
    "np.arange(200)"
   ]
  },
  {
   "cell_type": "code",
   "execution_count": 98,
   "id": "d20b7e00-e3f1-418f-9c97-96a2af7eafdc",
   "metadata": {},
   "outputs": [
    {
     "data": {
      "text/plain": [
       "0        0\n",
       "1        1\n",
       "2        2\n",
       "3        3\n",
       "4        4\n",
       "      ... \n",
       "195    195\n",
       "196    196\n",
       "197    197\n",
       "198    198\n",
       "199    199\n",
       "Length: 200, dtype: int32"
      ]
     },
     "execution_count": 98,
     "metadata": {},
     "output_type": "execute_result"
    }
   ],
   "source": [
    "s3 = pd.Series(np.arange(200))\n",
    "s3"
   ]
  },
  {
   "cell_type": "code",
   "execution_count": 99,
   "id": "2603bacd-d1c9-4acc-ab76-2f84ac06b647",
   "metadata": {},
   "outputs": [
    {
     "data": {
      "text/plain": [
       "0    1.0\n",
       "1    2.0\n",
       "2    3.0\n",
       "3    NaN\n",
       "4    6.0\n",
       "5    8.0\n",
       "dtype: float64"
      ]
     },
     "execution_count": 99,
     "metadata": {},
     "output_type": "execute_result"
    }
   ],
   "source": [
    "# NaN은 np.nan 속성을 이용해서 생성\n",
    "s=pd.Series([1,2,3,np.nan,6,8])\n",
    "s\n",
    "# dtype: float64\n",
    "# 판다스가 처리하는 자료구조인 시리즈와 데이터프레임에서 결측치가 있는 경우는 datatype이 float으로 변경"
   ]
  },
  {
   "cell_type": "code",
   "execution_count": 100,
   "id": "d9c71a9b-cf1c-418c-9ffb-a69e40157d1a",
   "metadata": {},
   "outputs": [
    {
     "data": {
      "text/plain": [
       "1    10\n",
       "2    20\n",
       "3    30\n",
       "dtype: int64"
      ]
     },
     "execution_count": 100,
     "metadata": {},
     "output_type": "execute_result"
    }
   ],
   "source": [
    "# 인덱스 명시해서 시리즈 만들기\n",
    "s=pd.Series([10,20,30],index=[1,2,3])\n",
    "s"
   ]
  },
  {
   "cell_type": "code",
   "execution_count": 101,
   "id": "1c888f7d-3cf9-43a4-a9ee-2a2d5e005f0d",
   "metadata": {},
   "outputs": [
    {
     "data": {
      "text/plain": [
       "홍길동     95\n",
       "이몽룡    100\n",
       "성춘향     88\n",
       "dtype: int64"
      ]
     },
     "execution_count": 101,
     "metadata": {},
     "output_type": "execute_result"
    }
   ],
   "source": [
    "s= pd.Series([95,100,88], index = ['홍길동','이몽룡','성춘향'])\n",
    "s"
   ]
  },
  {
   "cell_type": "code",
   "execution_count": 102,
   "id": "272d99c8-a1c5-4213-8967-91766251a52b",
   "metadata": {},
   "outputs": [
    {
     "data": {
      "text/plain": [
       "1    10\n",
       "2    20\n",
       "3    30\n",
       "dtype: int64"
      ]
     },
     "execution_count": 102,
     "metadata": {},
     "output_type": "execute_result"
    }
   ],
   "source": [
    "s0=pd.Series([10,20,30],index=[1,2,3])\n",
    "s0"
   ]
  },
  {
   "cell_type": "code",
   "execution_count": 103,
   "id": "0cdaecac-dff7-436a-abbf-70193da9857b",
   "metadata": {},
   "outputs": [
    {
     "data": {
      "text/plain": [
       "Index([1, 2, 3], dtype='int64')"
      ]
     },
     "execution_count": 103,
     "metadata": {},
     "output_type": "execute_result"
    }
   ],
   "source": [
    "s0.index"
   ]
  },
  {
   "cell_type": "code",
   "execution_count": 104,
   "id": "8360e820-9000-4119-8689-35d51ee2f87a",
   "metadata": {},
   "outputs": [
    {
     "data": {
      "text/plain": [
       "RangeIndex(start=0, stop=3, step=1)"
      ]
     },
     "execution_count": 104,
     "metadata": {},
     "output_type": "execute_result"
    }
   ],
   "source": [
    "s00 = pd.Series([1, 2, 3]) # index를 명시하지 않음\n",
    "s00.index # 범위 인덱스가 생성"
   ]
  },
  {
   "cell_type": "code",
   "execution_count": 105,
   "id": "778f572e-470d-42b2-8abc-487c8fc4e6e4",
   "metadata": {},
   "outputs": [
    {
     "data": {
      "text/plain": [
       "Index(['서울', '부산', '인천', '대구'], dtype='object')"
      ]
     },
     "execution_count": 105,
     "metadata": {},
     "output_type": "execute_result"
    }
   ],
   "source": [
    "s= pd.Series([9904312,3448737,289045,2466052],\n",
    "                    index=[\"서울\",\"부산\",\"인천\",\"대구\"])\n",
    "s.index #Index(['서울', '부산', '인천', '대구'], dtype='object')"
   ]
  },
  {
   "cell_type": "code",
   "execution_count": 106,
   "id": "8c667b31-1fbb-43ed-a2cf-0e384e240825",
   "metadata": {},
   "outputs": [
    {
     "data": {
      "text/plain": [
       "광역시\n",
       "서울    9904312\n",
       "부산    3448737\n",
       "인천     289045\n",
       "대구    2466052\n",
       "dtype: int64"
      ]
     },
     "execution_count": 106,
     "metadata": {},
     "output_type": "execute_result"
    }
   ],
   "source": [
    "# 시리즈.index.name 속성 : 시리즈의 인덱스에 이름을 붙일 수 있음\n",
    "s.index.name = '광역시'\n",
    "s"
   ]
  },
  {
   "cell_type": "code",
   "execution_count": 107,
   "id": "0f5468d6-cad2-4afc-9a4c-4c5934a389c9",
   "metadata": {},
   "outputs": [
    {
     "data": {
      "text/plain": [
       "Index(['서울', '부산', '인천', '대구'], dtype='object', name='광역시')"
      ]
     },
     "execution_count": 107,
     "metadata": {},
     "output_type": "execute_result"
    }
   ],
   "source": [
    "s.index"
   ]
  },
  {
   "cell_type": "code",
   "execution_count": 108,
   "id": "35f7bc5d-64ea-4705-85d2-01ff439a5449",
   "metadata": {},
   "outputs": [
    {
     "data": {
      "text/plain": [
       "array([9904312, 3448737,  289045, 2466052], dtype=int64)"
      ]
     },
     "execution_count": 108,
     "metadata": {},
     "output_type": "execute_result"
    }
   ],
   "source": [
    "s.values"
   ]
  },
  {
   "cell_type": "code",
   "execution_count": 109,
   "id": "f6642b8c-a8ee-48a3-8e74-2566ade65bd0",
   "metadata": {},
   "outputs": [
    {
     "data": {
      "text/plain": [
       "광역시\n",
       "서울    9904312\n",
       "부산    3448737\n",
       "인천     289045\n",
       "대구    2466052\n",
       "Name: 인구, dtype: int64"
      ]
     },
     "execution_count": 109,
     "metadata": {},
     "output_type": "execute_result"
    }
   ],
   "source": [
    "s.name = '인구'\n",
    "s"
   ]
  },
  {
   "cell_type": "markdown",
   "id": "ceca495b-3d54-40d2-8fb6-2eb7c95afc50",
   "metadata": {},
   "source": [
    "- 인덱싱 : 데이터에서 특정한 데이터를 골라내는 것\n",
    "- 인덱스를 별도 지정하지 않으면 0부터 시작하는 정수형 인덱스가 지정됨"
   ]
  },
  {
   "cell_type": "code",
   "execution_count": 110,
   "id": "51182e4f-18a9-43fa-887b-b8556aed9131",
   "metadata": {},
   "outputs": [
    {
     "name": "stdout",
     "output_type": "stream",
     "text": [
      "Index(['서울', '부산', '인천', '대구'], dtype='object', name='광역시')\n"
     ]
    },
    {
     "data": {
      "text/plain": [
       "289045"
      ]
     },
     "execution_count": 110,
     "metadata": {},
     "output_type": "execute_result"
    }
   ],
   "source": [
    "print(s.index) # 문자열형 인덱스\n",
    "s['인천'] # 문자형 인덱스로 접근\n",
    "# s[2] # 위치 인덱스 사용 가능"
   ]
  },
  {
   "cell_type": "code",
   "execution_count": 111,
   "id": "524b5ae9-731a-4dd4-8de8-6e94af63abbd",
   "metadata": {},
   "outputs": [
    {
     "data": {
      "text/plain": [
       "1"
      ]
     },
     "execution_count": 111,
     "metadata": {},
     "output_type": "execute_result"
    }
   ],
   "source": [
    "# 정수형 인덱스인 경우\n",
    "s03 = pd.Series([1,2,3], index=[1,2,3])\n",
    "s03\n",
    "s03[1] # 명시적 인덱스(정수인덱스임) 사용\n",
    "# s03[0] # 위치인덱스 접근 - KeyError\n",
    "# 정수인덱스인 경우 위치인덱스는 사용 불가"
   ]
  },
  {
   "cell_type": "code",
   "execution_count": 112,
   "id": "2d63ee8f-11b5-4c1f-8c62-dc28448262a4",
   "metadata": {},
   "outputs": [
    {
     "data": {
      "text/plain": [
       "3448737"
      ]
     },
     "execution_count": 112,
     "metadata": {},
     "output_type": "execute_result"
    }
   ],
   "source": [
    "# 문자형 인덱스(부산 데이터 추출)\n",
    "s['부산']"
   ]
  },
  {
   "cell_type": "code",
   "execution_count": 113,
   "id": "fa378a1f-ccb4-46d0-b911-0f959cb64e61",
   "metadata": {},
   "outputs": [
    {
     "name": "stderr",
     "output_type": "stream",
     "text": [
      "C:\\Users\\user\\AppData\\Local\\Temp\\ipykernel_11068\\4046422232.py:2: FutureWarning: Series.__getitem__ treating keys as positions is deprecated. In a future version, integer keys will always be treated as labels (consistent with DataFrame behavior). To access a value by position, use `ser.iloc[pos]`\n",
      "  s[3], s['대구']\n"
     ]
    },
    {
     "data": {
      "text/plain": [
       "(2466052, 2466052)"
      ]
     },
     "execution_count": 113,
     "metadata": {},
     "output_type": "execute_result"
    }
   ],
   "source": [
    "# 두개 이상의 인덱싱 코드를 나열하면 - 튜플형태로 반환\n",
    "s[3], s['대구']"
   ]
  },
  {
   "cell_type": "code",
   "execution_count": 114,
   "id": "416e5879-bc02-4bac-b84c-ca8439550b7e",
   "metadata": {},
   "outputs": [
    {
     "data": {
      "text/plain": [
       "광역시\n",
       "서울    9904312\n",
       "부산    3448737\n",
       "인천     289045\n",
       "대구    2466052\n",
       "Name: 인구, dtype: int64"
      ]
     },
     "execution_count": 114,
     "metadata": {},
     "output_type": "execute_result"
    }
   ],
   "source": [
    "# 노트북 팁\n",
    "# 데이터에 두번 접근\n",
    "s\n",
    "s # 마지막 연산에 대해서만 접근 결과를 보여줌"
   ]
  },
  {
   "cell_type": "code",
   "execution_count": 115,
   "id": "fd574347-1205-496f-83b4-6675678b3716",
   "metadata": {},
   "outputs": [
    {
     "name": "stdout",
     "output_type": "stream",
     "text": [
      "광역시\n",
      "서울    9904312\n",
      "부산    3448737\n",
      "인천     289045\n",
      "대구    2466052\n",
      "Name: 인구, dtype: int64\n"
     ]
    },
    {
     "name": "stderr",
     "output_type": "stream",
     "text": [
      "C:\\Users\\user\\AppData\\Local\\Temp\\ipykernel_11068\\2510924453.py:3: FutureWarning: Series.__getitem__ treating keys as positions is deprecated. In a future version, integer keys will always be treated as labels (consistent with DataFrame behavior). To access a value by position, use `ser.iloc[pos]`\n",
      "  s[0],s[3],s[1] #(9904312, 2466052, 3448737)\n",
      "C:\\Users\\user\\AppData\\Local\\Temp\\ipykernel_11068\\2510924453.py:5: FutureWarning: Series.__getitem__ treating keys as positions is deprecated. In a future version, integer keys will always be treated as labels (consistent with DataFrame behavior). To access a value by position, use `ser.iloc[pos]`\n",
      "  s[[0,3,1]] #- 인덱스 리스트 내의 해당 인덱스의 item을 추출 후 시리즈 형태로 반환\n"
     ]
    },
    {
     "data": {
      "text/plain": [
       "광역시\n",
       "서울    9904312\n",
       "대구    2466052\n",
       "부산    3448737\n",
       "Name: 인구, dtype: int64"
      ]
     },
     "execution_count": 115,
     "metadata": {},
     "output_type": "execute_result"
    }
   ],
   "source": [
    "print(s)\n",
    "# s[0,3,1] #KeyError: 'key of type tuple not found and not a MultiIndex'\n",
    "s[0],s[3],s[1] #(9904312, 2466052, 3448737)\n",
    "# 시리즈명[[인덱스리스트]] - 시리즈형태로 반환\n",
    "s[[0,3,1]] #- 인덱스 리스트 내의 해당 인덱스의 item을 추출 후 시리즈 형태로 반환"
   ]
  },
  {
   "cell_type": "markdown",
   "id": "082bec6b-765f-47a2-b942-9726a2028053",
   "metadata": {},
   "source": [
    "- 시리즈 슬라이싱"
   ]
  },
  {
   "cell_type": "code",
   "execution_count": 116,
   "id": "479b3b3b-69c1-418f-b728-a3a647331d77",
   "metadata": {},
   "outputs": [
    {
     "name": "stdout",
     "output_type": "stream",
     "text": [
      "광역시\n",
      "서울    9904312\n",
      "부산    3448737\n",
      "인천     289045\n",
      "대구    2466052\n",
      "Name: 인구, dtype: int64\n"
     ]
    },
    {
     "data": {
      "text/plain": [
       "광역시\n",
       "부산    3448737\n",
       "인천     289045\n",
       "Name: 인구, dtype: int64"
      ]
     },
     "execution_count": 116,
     "metadata": {},
     "output_type": "execute_result"
    }
   ],
   "source": [
    "print(s)\n",
    "# s[[1,2]]\n",
    "# s[['부산', '인천']]\n",
    "s[1:3] # 시리즈 슬라이싱을 사용하면 시리즈로 반환"
   ]
  },
  {
   "cell_type": "code",
   "execution_count": 117,
   "id": "fd2e9ac3-1f16-4daa-9bd4-14126dd2ed45",
   "metadata": {},
   "outputs": [
    {
     "data": {
      "text/plain": [
       "광역시\n",
       "부산    3448737\n",
       "인천     289045\n",
       "대구    2466052\n",
       "Name: 인구, dtype: int64"
      ]
     },
     "execution_count": 117,
     "metadata": {},
     "output_type": "execute_result"
    }
   ],
   "source": [
    "# 문자인덱스를 이용한 슬라이싱 가능\n",
    "# 표시된 문자인덱스 범위 모두 추출\n",
    "s[\"부산\":\"대구\"]"
   ]
  },
  {
   "cell_type": "code",
   "execution_count": 118,
   "id": "26d0ed57-d7b9-4624-b3a1-cbc94adac21d",
   "metadata": {},
   "outputs": [
    {
     "name": "stdout",
     "output_type": "stream",
     "text": [
      "1    100\n",
      "2    200\n",
      "3    300\n",
      "4    400\n",
      "dtype: int64\n"
     ]
    },
    {
     "data": {
      "text/plain": [
       "3    300\n",
       "4    400\n",
       "dtype: int64"
      ]
     },
     "execution_count": 118,
     "metadata": {},
     "output_type": "execute_result"
    }
   ],
   "source": [
    "# 정수형 인덱스를 명시했을 경우\n",
    "s_01 = pd.Series([100,200,300,400], index=[1,2,3,4])\n",
    "print(s_01)\n",
    "s_01[[2,3,4]]\n",
    "# 슬라이싱 사용 - # 0-base 슬라이싱을 사용\n",
    "s_01[2:4]\n",
    "# 시리즈의 인덱스를 명시할때는 가급적이면 문자형으로 명시하는 것이 좋다"
   ]
  },
  {
   "cell_type": "code",
   "execution_count": 119,
   "id": "a19be255-e39e-43a6-b9d7-c2c2786c5ed0",
   "metadata": {},
   "outputs": [
    {
     "data": {
      "text/plain": [
       "a    0\n",
       "b    1\n",
       "c    2\n",
       "dtype: int64"
      ]
     },
     "execution_count": 119,
     "metadata": {},
     "output_type": "execute_result"
    }
   ],
   "source": [
    "# 인덱스를 문자값으로 지정한 시리즈\n",
    "s0 = pd.Series(range(3),index=['a','b','c'])\n",
    "s0"
   ]
  },
  {
   "cell_type": "code",
   "execution_count": 120,
   "id": "2873b512-7549-433d-8f33-70f54b772d9e",
   "metadata": {},
   "outputs": [
    {
     "data": {
      "text/plain": [
       "0"
      ]
     },
     "execution_count": 120,
     "metadata": {},
     "output_type": "execute_result"
    }
   ],
   "source": [
    "s0['a']\n",
    "s0.a"
   ]
  },
  {
   "cell_type": "code",
   "execution_count": 121,
   "id": "059c7acd-b802-4f17-96fe-0a724efa8511",
   "metadata": {},
   "outputs": [
    {
     "name": "stdout",
     "output_type": "stream",
     "text": [
      "광역시\n",
      "서울    9904312\n",
      "부산    3448737\n",
      "인천     289045\n",
      "대구    2466052\n",
      "Name: 인구, dtype: int64\n"
     ]
    },
    {
     "data": {
      "text/plain": [
       "9904312"
      ]
     },
     "execution_count": 121,
     "metadata": {},
     "output_type": "execute_result"
    }
   ],
   "source": [
    "print(s) # 한글문자 인덱스\n",
    "s['서울']\n",
    "s.서울"
   ]
  },
  {
   "cell_type": "code",
   "execution_count": 122,
   "id": "04a851ba-b539-4fed-a201-9f266f911b34",
   "metadata": {},
   "outputs": [
    {
     "data": {
      "text/plain": [
       "10000000"
      ]
     },
     "execution_count": 122,
     "metadata": {},
     "output_type": "execute_result"
    }
   ],
   "source": [
    "# 인덱스를 통한 데이터 업데이트\n",
    "s['서울'] = 10000000\n",
    "s['서울']"
   ]
  },
  {
   "cell_type": "code",
   "execution_count": 123,
   "id": "4e851bb2-8bcc-4cd7-9c33-94aeef214493",
   "metadata": {},
   "outputs": [
    {
     "data": {
      "text/plain": [
       "광역시\n",
       "서울    10000000\n",
       "부산     3448737\n",
       "인천      289045\n",
       "대구     2466052\n",
       "Name: 인구, dtype: int64"
      ]
     },
     "execution_count": 123,
     "metadata": {},
     "output_type": "execute_result"
    }
   ],
   "source": [
    "s"
   ]
  },
  {
   "cell_type": "code",
   "execution_count": 124,
   "id": "5a679377-79ea-4a33-9e73-0e52f2844176",
   "metadata": {},
   "outputs": [
    {
     "name": "stdout",
     "output_type": "stream",
     "text": [
      "Index(['서울', '부산', '인천', '대구'], dtype='object', name='광역시')\n"
     ]
    },
    {
     "data": {
      "text/plain": [
       "광역시\n",
       "서울    0\n",
       "부산    1\n",
       "인천    2\n",
       "대구    3\n",
       "dtype: int32"
      ]
     },
     "execution_count": 124,
     "metadata": {},
     "output_type": "execute_result"
    }
   ],
   "source": [
    "# 인덱스 재사용하기\n",
    "print(s.index)\n",
    "s1 = pd.Series(np.arange(4),s.index)\n",
    "s1"
   ]
  },
  {
   "cell_type": "markdown",
   "id": "348aa015-848a-46de-ab4c-b7f59b7f15d0",
   "metadata": {},
   "source": [
    "## 시리즈 연산"
   ]
  },
  {
   "cell_type": "code",
   "execution_count": 125,
   "id": "48586fad-1e00-4970-be90-6a3ae63f00e1",
   "metadata": {},
   "outputs": [
    {
     "data": {
      "text/plain": [
       "광역시\n",
       "서울    10000000\n",
       "부산     3448737\n",
       "인천      289045\n",
       "대구     2466052\n",
       "Name: 인구, dtype: int64"
      ]
     },
     "execution_count": 125,
     "metadata": {},
     "output_type": "execute_result"
    }
   ],
   "source": [
    "# 문자 인덱스의 시리즈 s 확인 후 연산 실습\n",
    "s\n",
    "# 도시\n",
    "# 서울 9904312\n",
    "# 부산 3448737\n",
    "# 인천 289045\n",
    "# 대구 2466052\n",
    "# Name: 인구, dtype: int64"
   ]
  },
  {
   "cell_type": "code",
   "execution_count": 126,
   "id": "4cbc0da1-1b01-4218-a55a-2a46863ed6df",
   "metadata": {},
   "outputs": [
    {
     "data": {
      "text/plain": [
       "0    5\n",
       "1    6\n",
       "2    7\n",
       "dtype: int64"
      ]
     },
     "execution_count": 126,
     "metadata": {},
     "output_type": "execute_result"
    }
   ],
   "source": [
    "# 벡터화 연산(집합적 자료형의 원소 각각을 독립적으로 계산하는 방법)\n",
    "\n",
    "# 시리즈 원소 각각에 대하여 + 4 연산을 진행 - 벡터화 연산\n",
    "pd.Series([1,2,3]) + 4"
   ]
  },
  {
   "cell_type": "code",
   "execution_count": 127,
   "id": "39e41b5e-a3ad-4834-ac5e-bbcb74e20322",
   "metadata": {},
   "outputs": [
    {
     "name": "stdout",
     "output_type": "stream",
     "text": [
      "광역시\n",
      "서울    10000000\n",
      "부산     3448737\n",
      "인천      289045\n",
      "대구     2466052\n",
      "Name: 인구, dtype: int64\n"
     ]
    },
    {
     "data": {
      "text/plain": [
       "광역시\n",
       "서울    10.000000\n",
       "부산     3.448737\n",
       "인천     0.289045\n",
       "대구     2.466052\n",
       "Name: 인구, dtype: float64"
      ]
     },
     "execution_count": 127,
     "metadata": {},
     "output_type": "execute_result"
    }
   ],
   "source": [
    "# s 시리즈의 단위가 커서 단위를 변경하고 자 함 1/1000000\n",
    "# 시리즈 자체를 1000000으로 나누면 됨, 벡터화연산을 진행 함\n",
    "print(s)\n",
    "s/1000000 # 대입하지 않았음"
   ]
  },
  {
   "cell_type": "code",
   "execution_count": 128,
   "id": "72dc28d6-6fb8-4a4b-b478-cad50a76f762",
   "metadata": {},
   "outputs": [
    {
     "data": {
      "text/plain": [
       "광역시\n",
       "서울    10000000\n",
       "부산     3448737\n",
       "인천      289045\n",
       "대구     2466052\n",
       "Name: 인구, dtype: int64"
      ]
     },
     "execution_count": 128,
     "metadata": {},
     "output_type": "execute_result"
    }
   ],
   "source": [
    "s"
   ]
  },
  {
   "cell_type": "code",
   "execution_count": 129,
   "id": "811772f8-5dd7-4598-9fa8-ad0a9a99e2f5",
   "metadata": {},
   "outputs": [
    {
     "data": {
      "text/plain": [
       "광역시\n",
       "부산    3448737\n",
       "Name: 인구, dtype: int64"
      ]
     },
     "execution_count": 129,
     "metadata": {},
     "output_type": "execute_result"
    }
   ],
   "source": [
    "# 벡터화 인덱싱도 가능\n",
    "# 시리즈[조건]\n",
    "# s시리즈 값 중 2500000 보다 크고 5000000보다 작은 원소를 추출\n",
    "s[(s>250e4) & (s<500e4)]\n",
    "# s 시리즈 각 원소값 각각에 대해서 조건식을 확인해서 결과가 True인 원소를 반환"
   ]
  },
  {
   "cell_type": "markdown",
   "id": "723792f9-d039-405e-bede-7dd9250841c6",
   "metadata": {},
   "source": [
    "- Boolean selection\n",
    "- boolean Series가 []와 함께 사용되면 True 값에 해당하는 값만 새로 반환되는 Series객체에 포함됨\n",
    "- 다중조건의 경우, &(and), |(or)를 사용하여 연결 가능"
   ]
  },
  {
   "cell_type": "code",
   "execution_count": 130,
   "id": "5fd2bf30-31ab-40f1-9919-0d7f0c8ce153",
   "metadata": {},
   "outputs": [
    {
     "data": {
      "text/plain": [
       "1     0\n",
       "2     1\n",
       "3     2\n",
       "4     3\n",
       "5     4\n",
       "6     5\n",
       "7     6\n",
       "8     7\n",
       "9     8\n",
       "10    9\n",
       "dtype: int32"
      ]
     },
     "execution_count": 130,
     "metadata": {},
     "output_type": "execute_result"
    }
   ],
   "source": [
    "s0 = pd.Series(np.arange(10), np.arange(10)+1)\n",
    "s0"
   ]
  },
  {
   "cell_type": "code",
   "execution_count": 131,
   "id": "1f721c52-3d17-4c21-ba01-23eec01e724c",
   "metadata": {},
   "outputs": [
    {
     "data": {
      "text/plain": [
       "1     False\n",
       "2     False\n",
       "3     False\n",
       "4     False\n",
       "5     False\n",
       "6     False\n",
       "7      True\n",
       "8      True\n",
       "9      True\n",
       "10     True\n",
       "dtype: bool"
      ]
     },
     "execution_count": 131,
     "metadata": {},
     "output_type": "execute_result"
    }
   ],
   "source": [
    "s0>5"
   ]
  },
  {
   "cell_type": "code",
   "execution_count": 132,
   "id": "794c8e50-8357-4c30-9707-8fe2a819af8d",
   "metadata": {},
   "outputs": [
    {
     "data": {
      "text/plain": [
       "7     6\n",
       "8     7\n",
       "9     8\n",
       "10    9\n",
       "dtype: int32"
      ]
     },
     "execution_count": 132,
     "metadata": {},
     "output_type": "execute_result"
    }
   ],
   "source": [
    "s0[s0>5]"
   ]
  },
  {
   "cell_type": "code",
   "execution_count": 133,
   "id": "0fd436cd-acde-4391-86b6-9ea7b860c8bc",
   "metadata": {},
   "outputs": [
    {
     "data": {
      "text/plain": [
       "1    0\n",
       "3    2\n",
       "5    4\n",
       "7    6\n",
       "9    8\n",
       "dtype: int32"
      ]
     },
     "execution_count": 133,
     "metadata": {},
     "output_type": "execute_result"
    }
   ],
   "source": [
    "# 짝수 값만 추출\n",
    "s0[s0%2==0]"
   ]
  },
  {
   "cell_type": "code",
   "execution_count": 134,
   "id": "fac1fb1e-a7f0-47e5-be9e-282ca0ac465c",
   "metadata": {},
   "outputs": [
    {
     "data": {
      "text/plain": [
       "array([False, False, False, False, False,  True,  True,  True,  True,\n",
       "        True])"
      ]
     },
     "execution_count": 134,
     "metadata": {},
     "output_type": "execute_result"
    }
   ],
   "source": [
    "# 인덱스에도 관계연산이 가능\n",
    "s0.index > 5"
   ]
  },
  {
   "cell_type": "code",
   "execution_count": 135,
   "id": "db2923d2-b3ff-4d92-9199-243bab4f161b",
   "metadata": {},
   "outputs": [
    {
     "data": {
      "text/plain": [
       "6     5\n",
       "7     6\n",
       "8     7\n",
       "9     8\n",
       "10    9\n",
       "dtype: int32"
      ]
     },
     "execution_count": 135,
     "metadata": {},
     "output_type": "execute_result"
    }
   ],
   "source": [
    "s0[s0.index>5]"
   ]
  },
  {
   "cell_type": "code",
   "execution_count": 136,
   "id": "bbab9c28-0e1b-495a-bb5e-a29f5e823e29",
   "metadata": {},
   "outputs": [
    {
     "data": {
      "text/plain": [
       "7    6\n",
       "8    7\n",
       "dtype: int32"
      ]
     },
     "execution_count": 136,
     "metadata": {},
     "output_type": "execute_result"
    }
   ],
   "source": [
    "# s0의 value가 5를 초과하고 8미만인 아이템(원소)만 추출하시오\n",
    "s0[(s0>5) & (s0<8)]"
   ]
  },
  {
   "cell_type": "code",
   "execution_count": 137,
   "id": "ea3e3b11-cc73-423a-ba1c-f6828bc32da9",
   "metadata": {},
   "outputs": [
    {
     "data": {
      "text/plain": [
       "3"
      ]
     },
     "execution_count": 137,
     "metadata": {},
     "output_type": "execute_result"
    }
   ],
   "source": [
    "(s0 >= 7).sum() # True의 개수 총 합"
   ]
  },
  {
   "cell_type": "code",
   "execution_count": 138,
   "id": "da7df085-40f6-4574-8f6b-b2767d5e2bf7",
   "metadata": {},
   "outputs": [
    {
     "data": {
      "text/plain": [
       "24"
      ]
     },
     "execution_count": 138,
     "metadata": {},
     "output_type": "execute_result"
    }
   ],
   "source": [
    "(s0[s0 >= 7]).sum() # 조건의 결과가 True인 원소들의 합"
   ]
  },
  {
   "cell_type": "code",
   "execution_count": 139,
   "id": "096d9440-aa67-4c28-9386-28ea60782488",
   "metadata": {},
   "outputs": [
    {
     "data": {
      "text/plain": [
       "a    1\n",
       "b    2\n",
       "c    3\n",
       "d    4\n",
       "dtype: int64"
      ]
     },
     "execution_count": 139,
     "metadata": {},
     "output_type": "execute_result"
    }
   ],
   "source": [
    "# 두 시리즈간의 연산\n",
    "num_s1=pd.Series([1,2,3,4],index=['a','b','c','d'])\n",
    "num_s1"
   ]
  },
  {
   "cell_type": "code",
   "execution_count": 140,
   "id": "4d58ffc8-262d-4d4d-9130-4220015c9e9a",
   "metadata": {},
   "outputs": [
    {
     "data": {
      "text/plain": [
       "b    5\n",
       "c    6\n",
       "d    7\n",
       "a    8\n",
       "dtype: int64"
      ]
     },
     "execution_count": 140,
     "metadata": {},
     "output_type": "execute_result"
    }
   ],
   "source": [
    "num_s2=pd.Series([5,6,7,8],index=['b','c','d','a'])\n",
    "num_s2"
   ]
  },
  {
   "cell_type": "code",
   "execution_count": 141,
   "id": "79bd3be5-0d1b-4dbc-8a43-7b6841a67d99",
   "metadata": {},
   "outputs": [
    {
     "data": {
      "text/plain": [
       "a     9\n",
       "b     7\n",
       "c     9\n",
       "d    11\n",
       "dtype: int64"
      ]
     },
     "execution_count": 141,
     "metadata": {},
     "output_type": "execute_result"
    }
   ],
   "source": [
    "num_s1 + num_s2 # 시리즈간의 연산은 같은 인덱스를 찾아 연산을 진행함"
   ]
  },
  {
   "cell_type": "code",
   "execution_count": 142,
   "id": "edc84ffc-3753-4e17-b272-c8ad46df622d",
   "metadata": {},
   "outputs": [],
   "source": [
    "num_s3=pd.Series([5,6,7,8],index=['e','b','f','g'])\n",
    "num_s4=pd.Series([1,2,3,4],index=['a','b','c','d'])"
   ]
  },
  {
   "cell_type": "code",
   "execution_count": 143,
   "id": "4fa230a5-bd70-44f9-b35e-230cb9ab5dac",
   "metadata": {},
   "outputs": [
    {
     "data": {
      "text/plain": [
       "a    NaN\n",
       "b    4.0\n",
       "c    NaN\n",
       "d    NaN\n",
       "e    NaN\n",
       "f    NaN\n",
       "g    NaN\n",
       "dtype: float64"
      ]
     },
     "execution_count": 143,
     "metadata": {},
     "output_type": "execute_result"
    }
   ],
   "source": [
    "# 동일한 인덱스는 연산을 진행하고 나머지 인덱스는 연산처리가 불가능 해서 NaN값으로 처리\n",
    "num_s3 - num_s4"
   ]
  },
  {
   "cell_type": "code",
   "execution_count": 144,
   "id": "e743ced0-d573-4a28-9584-68dc63af098c",
   "metadata": {},
   "outputs": [
    {
     "data": {
      "text/plain": [
       "array([4, 4, 4, 4], dtype=int64)"
      ]
     },
     "execution_count": 144,
     "metadata": {},
     "output_type": "execute_result"
    }
   ],
   "source": [
    "num_s3.values - num_s4.values\n",
    "# values 속성을 사용해 값만을 추출해 연산을 진행하게 되면 시리즈의 형태가 사라지므로\n",
    "# 동일 위치 원소들끼리 연산을 진행\n",
    "# 시리즈.values는 array 형태 반환"
   ]
  },
  {
   "cell_type": "markdown",
   "id": "55d36373-a34c-4250-9cc8-f34913b72711",
   "metadata": {},
   "source": [
    "딕셔너리와 시리즈의 관계\n",
    "\n",
    "- 시리즈 객체는 라벨에 의해 인덱싱이 가능함\n",
    "- 실질적으로는 라벨을 key로 가지는 딕셔너리 형과 같다고 볼 수 있음\n",
    "- 딕셔너리에서 제공하는 대부분의 연산자 사용 가능"
   ]
  },
  {
   "cell_type": "code",
   "execution_count": 145,
   "id": "fe36298e-523c-4f3c-af5a-b0e45159253c",
   "metadata": {},
   "outputs": [
    {
     "data": {
      "text/plain": [
       "광역시\n",
       "서울    10000000\n",
       "부산     3448737\n",
       "인천      289045\n",
       "대구     2466052\n",
       "Name: 인구, dtype: int64"
      ]
     },
     "execution_count": 145,
     "metadata": {},
     "output_type": "execute_result"
    }
   ],
   "source": [
    "s"
   ]
  },
  {
   "cell_type": "code",
   "execution_count": 146,
   "id": "617a47c4-9455-4e2c-93a9-5434c91401a5",
   "metadata": {},
   "outputs": [
    {
     "data": {
      "text/plain": [
       "True"
      ]
     },
     "execution_count": 146,
     "metadata": {},
     "output_type": "execute_result"
    }
   ],
   "source": [
    "# 인덱스가 서울인 원소가 시리즈에 있는지 확인\n",
    "'서울' in s"
   ]
  },
  {
   "cell_type": "code",
   "execution_count": 147,
   "id": "5c6d77fe-621a-4969-b3ef-03811d39756a",
   "metadata": {},
   "outputs": [
    {
     "data": {
      "text/plain": [
       "False"
      ]
     },
     "execution_count": 147,
     "metadata": {},
     "output_type": "execute_result"
    }
   ],
   "source": [
    "'대전' in s"
   ]
  },
  {
   "cell_type": "code",
   "execution_count": 148,
   "id": "960dbae9-8df5-44eb-bbe0-3611dc71a7fd",
   "metadata": {},
   "outputs": [
    {
     "data": {
      "text/plain": [
       "True"
      ]
     },
     "execution_count": 148,
     "metadata": {},
     "output_type": "execute_result"
    }
   ],
   "source": [
    "'대전' not in s"
   ]
  },
  {
   "cell_type": "code",
   "execution_count": 149,
   "id": "29a55a40-642b-4496-96fd-28a829a4c8fd",
   "metadata": {},
   "outputs": [
    {
     "data": {
      "text/plain": [
       "<zip at 0x20493d23e80>"
      ]
     },
     "execution_count": 149,
     "metadata": {},
     "output_type": "execute_result"
    }
   ],
   "source": [
    "# 딕셔너리의 items() 함수 시리즈에 사용 가능\n",
    "s.items() # zip 객체"
   ]
  },
  {
   "cell_type": "code",
   "execution_count": 150,
   "id": "8233584b-11e0-46a9-98cb-4b437b01c85e",
   "metadata": {},
   "outputs": [
    {
     "data": {
      "text/plain": [
       "[('서울', 10000000), ('부산', 3448737), ('인천', 289045), ('대구', 2466052)]"
      ]
     },
     "execution_count": 150,
     "metadata": {},
     "output_type": "execute_result"
    }
   ],
   "source": [
    "list(s.items())"
   ]
  },
  {
   "cell_type": "code",
   "execution_count": 151,
   "id": "c02a268e-6e30-440d-96db-b074dc9f64bd",
   "metadata": {},
   "outputs": [
    {
     "name": "stdout",
     "output_type": "stream",
     "text": [
      "서울=10000000\n",
      "부산=3448737\n",
      "인천=289045\n",
      "대구=2466052\n"
     ]
    }
   ],
   "source": [
    "# 시리즈 각 원소 출력\n",
    "for k, v in s.items():\n",
    "    print('%s=%d'%(k, v))"
   ]
  },
  {
   "cell_type": "markdown",
   "id": "1796e8d8-bb20-4b82-883b-06132e54c65f",
   "metadata": {},
   "source": [
    "딕셔너리로 시리즈 만들기\n",
    "- Series({key:value,key1:value1....})\n",
    "- 인덱스 -> key\n",
    "- 값 -> value"
   ]
  },
  {
   "cell_type": "code",
   "execution_count": 152,
   "id": "808ca623-a308-4f82-8c7c-b687df5389e8",
   "metadata": {},
   "outputs": [
    {
     "data": {
      "text/plain": [
       "홍길동     96\n",
       "이몽룡    100\n",
       "성춘향     88\n",
       "dtype: int64"
      ]
     },
     "execution_count": 152,
     "metadata": {},
     "output_type": "execute_result"
    }
   ],
   "source": [
    "scores = {'홍길동':96, '이몽룡':100, '성춘향':88}\n",
    "s=pd.Series(scores)\n",
    "s"
   ]
  },
  {
   "cell_type": "code",
   "execution_count": 153,
   "id": "881c41cd-90bb-4cf5-aee2-eeb98abd2d3c",
   "metadata": {},
   "outputs": [
    {
     "data": {
      "text/plain": [
       "서울    9631482\n",
       "부산    3393191\n",
       "인천    2632035\n",
       "대전    1490158\n",
       "dtype: int64"
      ]
     },
     "execution_count": 153,
     "metadata": {},
     "output_type": "execute_result"
    }
   ],
   "source": [
    "city = {'서울':9631482,'부산':3393191,'인천':2632035,'대전':1490158}\n",
    "s=pd.Series(city)\n",
    "s"
   ]
  },
  {
   "cell_type": "markdown",
   "id": "98b4752b-9536-4042-a8b9-d3da1d176b7b",
   "metadata": {},
   "source": [
    "- 딕셔너리의 원소는 순서를 갖지 않는다.\n",
    "- 딕셔너리로 생성된 시리즈의 원소도 순서가 보장되지 않는다.\n",
    "- 만약 순서를 보장하고 싶으면 인덱스를 리스트로 지정해야 한다."
   ]
  },
  {
   "cell_type": "code",
   "execution_count": 154,
   "id": "7c604c59-e0b9-4929-b1a7-fd32d892b10e",
   "metadata": {},
   "outputs": [
    {
     "data": {
      "text/plain": [
       "서울    9631482\n",
       "부산    3393191\n",
       "인천    2632035\n",
       "대전    1490158\n",
       "dtype: int64"
      ]
     },
     "execution_count": 154,
     "metadata": {},
     "output_type": "execute_result"
    }
   ],
   "source": [
    "city = {'서울':9631482,'부산':3393191,'인천':2632035,'대전':1490158}\n",
    "s=pd.Series(city,index=city.keys())\n",
    "s"
   ]
  },
  {
   "cell_type": "code",
   "execution_count": 155,
   "id": "4b9025c6-3e96-4c97-9168-92c556f27b28",
   "metadata": {},
   "outputs": [
    {
     "data": {
      "text/plain": [
       "부산    3393191\n",
       "인천    2632035\n",
       "서울    9631482\n",
       "대전    1490158\n",
       "dtype: int64"
      ]
     },
     "execution_count": 155,
     "metadata": {},
     "output_type": "execute_result"
    }
   ],
   "source": [
    "s=pd.Series(city, index=['부산','인천','서울','대전'])\n",
    "s"
   ]
  },
  {
   "cell_type": "markdown",
   "id": "0beacd3a-c7a0-456d-94ed-1e5be2e111bf",
   "metadata": {},
   "source": [
    "시리즈 데이터의 갱신,추가, 삭제\n",
    "- 인덱싱을 이용하면 딕셔너리 처럼 갱신, 추가 가능"
   ]
  },
  {
   "cell_type": "code",
   "execution_count": 156,
   "id": "38788f1d-8184-4e20-b216-bbd0407381c6",
   "metadata": {},
   "outputs": [
    {
     "data": {
      "text/plain": [
       "부산    3393191\n",
       "인천    2632035\n",
       "서울    9631482\n",
       "대전    1490158\n",
       "dtype: int64"
      ]
     },
     "execution_count": 156,
     "metadata": {},
     "output_type": "execute_result"
    }
   ],
   "source": [
    "s"
   ]
  },
  {
   "cell_type": "code",
   "execution_count": 157,
   "id": "2d7b965d-6ac4-4409-ad7f-d42402193048",
   "metadata": {},
   "outputs": [
    {
     "data": {
      "text/plain": [
       "부산    1630000\n",
       "인천    2632035\n",
       "서울    9631482\n",
       "대전    1490158\n",
       "dtype: int64"
      ]
     },
     "execution_count": 157,
     "metadata": {},
     "output_type": "execute_result"
    }
   ],
   "source": [
    "# s 시리즈의 부산의 인구 값을 1630000으로 변경\n",
    "s['부산'] = 1630000\n",
    "s"
   ]
  },
  {
   "cell_type": "code",
   "execution_count": 158,
   "id": "8eb075f8-66a4-43a3-babd-f07fbc7fefad",
   "metadata": {},
   "outputs": [
    {
     "data": {
      "text/plain": [
       "부산    1630000\n",
       "인천    2632035\n",
       "대전    1490158\n",
       "dtype: int64"
      ]
     },
     "execution_count": 158,
     "metadata": {},
     "output_type": "execute_result"
    }
   ],
   "source": [
    "# 시리즈 내 원소 삭제 - del 명령어\n",
    "del s['서울']\n",
    "s"
   ]
  },
  {
   "cell_type": "code",
   "execution_count": 159,
   "id": "753ce67c-24a3-438f-aecc-cd761a534c53",
   "metadata": {},
   "outputs": [],
   "source": [
    "# 시리즈에 새로운 원소 추가\n",
    "s['대구'] = 1875000"
   ]
  },
  {
   "cell_type": "code",
   "execution_count": 160,
   "id": "cd9ec153-9779-42c9-bbc9-702d5a0c24c8",
   "metadata": {},
   "outputs": [
    {
     "data": {
      "text/plain": [
       "부산    1630000\n",
       "인천    2632035\n",
       "대전    1490158\n",
       "대구    1875000\n",
       "dtype: int64"
      ]
     },
     "execution_count": 160,
     "metadata": {},
     "output_type": "execute_result"
    }
   ],
   "source": [
    "s"
   ]
  },
  {
   "cell_type": "markdown",
   "id": "8adb5953-ee5d-47db-ac46-c01b3c10a0d1",
   "metadata": {},
   "source": [
    "Series 함수\n",
    "- size, shape, unique, count, value_counts 함수\n",
    "- size : 개수 반환\n",
    "- shape : 튜플 형태로 shape 반환\n",
    "- unique : 유일한 값만 ndarray로 반환\n",
    "- count : NaN을 제외한 개수를 반환\n",
    "- mean : NaN을 제외한 평균\n",
    "- value_counts : NaN을 제외하고 각 값들의 빈도를 반환"
   ]
  },
  {
   "cell_type": "code",
   "execution_count": 161,
   "id": "68e1dfde-e56b-492e-a2c3-798f64dae0ec",
   "metadata": {},
   "outputs": [
    {
     "data": {
      "text/plain": [
       "0     1.0\n",
       "1     1.0\n",
       "2     2.0\n",
       "3     1.0\n",
       "4     2.0\n",
       "5     2.0\n",
       "6     2.0\n",
       "7     1.0\n",
       "8     1.0\n",
       "9     3.0\n",
       "10    3.0\n",
       "11    4.0\n",
       "12    5.0\n",
       "13    5.0\n",
       "14    7.0\n",
       "15    NaN\n",
       "dtype: float64"
      ]
     },
     "execution_count": 161,
     "metadata": {},
     "output_type": "execute_result"
    }
   ],
   "source": [
    "s1 = pd.Series([1, 1, 2, 1, 2, 2, 2, 1, 1, 3, 3, 4, 5, 5, 7, np.NaN])\n",
    "s1"
   ]
  },
  {
   "cell_type": "code",
   "execution_count": 162,
   "id": "be4b0e0e-f8a9-47b6-ae0e-83d71498c41b",
   "metadata": {},
   "outputs": [
    {
     "data": {
      "text/plain": [
       "16"
      ]
     },
     "execution_count": 162,
     "metadata": {},
     "output_type": "execute_result"
    }
   ],
   "source": [
    "len(s1)"
   ]
  },
  {
   "cell_type": "code",
   "execution_count": 163,
   "id": "8094b12f-83d4-4b8b-a71d-9b4aaac33ccf",
   "metadata": {},
   "outputs": [
    {
     "data": {
      "text/plain": [
       "16"
      ]
     },
     "execution_count": 163,
     "metadata": {},
     "output_type": "execute_result"
    }
   ],
   "source": [
    "s1.size"
   ]
  },
  {
   "cell_type": "code",
   "execution_count": 164,
   "id": "048921f4-a023-49f1-8072-522e072c8d68",
   "metadata": {},
   "outputs": [
    {
     "data": {
      "text/plain": [
       "(16,)"
      ]
     },
     "execution_count": 164,
     "metadata": {},
     "output_type": "execute_result"
    }
   ],
   "source": [
    "s1.shape # 차원으로 표현하기 때문에 튜플형태로 출력"
   ]
  },
  {
   "cell_type": "code",
   "execution_count": 165,
   "id": "3d460916-272d-49e4-bdcd-ee6e4ed3793d",
   "metadata": {},
   "outputs": [
    {
     "data": {
      "text/plain": [
       "array([ 1.,  2.,  3.,  4.,  5.,  7., nan])"
      ]
     },
     "execution_count": 165,
     "metadata": {},
     "output_type": "execute_result"
    }
   ],
   "source": [
    "s1.unique() # nan도 하나의 값으로 보고 표현되어짐"
   ]
  },
  {
   "cell_type": "code",
   "execution_count": 166,
   "id": "abc24949-6e92-419d-a8d0-ce8462e06177",
   "metadata": {},
   "outputs": [
    {
     "data": {
      "text/plain": [
       "15"
      ]
     },
     "execution_count": 166,
     "metadata": {},
     "output_type": "execute_result"
    }
   ],
   "source": [
    "s1.count() # nan을 제외한 원소의 개수"
   ]
  },
  {
   "cell_type": "code",
   "execution_count": 168,
   "id": "afb8e880-8c13-4ee2-a51b-52d5d857e263",
   "metadata": {},
   "outputs": [
    {
     "name": "stdout",
     "output_type": "stream",
     "text": [
      "nan\n",
      "0    2.0\n",
      "1    2.0\n",
      "2    2.0\n",
      "3    2.0\n",
      "4    NaN\n",
      "dtype: float64\n"
     ]
    },
    {
     "data": {
      "text/plain": [
       "2.0"
      ]
     },
     "execution_count": 168,
     "metadata": {},
     "output_type": "execute_result"
    }
   ],
   "source": [
    "a = np.array([2,2,2,2,np.NaN]) # array 타입\n",
    "print(a.mean()) # array에 대해 mean() 적용하면 nan이 포함된 계산을 진행 - nan이 반환\n",
    "\n",
    "b=pd.Series(a) # 배열을 시리즈로 변경\n",
    "print(b)\n",
    "b.mean() # NaN 빼고 계산"
   ]
  },
  {
   "cell_type": "code",
   "execution_count": 169,
   "id": "be8259ce-0568-4484-8a59-d6307df7dc47",
   "metadata": {},
   "outputs": [
    {
     "data": {
      "text/plain": [
       "0     1.0\n",
       "1     1.0\n",
       "2     2.0\n",
       "3     1.0\n",
       "4     2.0\n",
       "5     2.0\n",
       "6     2.0\n",
       "7     1.0\n",
       "8     1.0\n",
       "9     3.0\n",
       "10    3.0\n",
       "11    4.0\n",
       "12    5.0\n",
       "13    5.0\n",
       "14    7.0\n",
       "15    NaN\n",
       "dtype: float64"
      ]
     },
     "execution_count": 169,
     "metadata": {},
     "output_type": "execute_result"
    }
   ],
   "source": [
    "s1"
   ]
  },
  {
   "cell_type": "code",
   "execution_count": 170,
   "id": "4ca9c8e7-98c0-4675-9deb-3d0cccef8eb1",
   "metadata": {},
   "outputs": [
    {
     "data": {
      "text/plain": [
       "2.6666666666666665"
      ]
     },
     "execution_count": 170,
     "metadata": {},
     "output_type": "execute_result"
    }
   ],
   "source": [
    "s1.mean()"
   ]
  },
  {
   "cell_type": "code",
   "execution_count": 171,
   "id": "03bc0e17-3baf-4cb9-9a25-fac0223dffd4",
   "metadata": {},
   "outputs": [
    {
     "data": {
      "text/plain": [
       "1.0    5\n",
       "2.0    4\n",
       "3.0    2\n",
       "5.0    2\n",
       "4.0    1\n",
       "7.0    1\n",
       "Name: count, dtype: int64"
      ]
     },
     "execution_count": 171,
     "metadata": {},
     "output_type": "execute_result"
    }
   ],
   "source": [
    "s1.value_counts()\n",
    "# 각 원소들에 대해 동일값의 원소끼리 그룹핑하여 개수를 세서 반환하는 함수"
   ]
  },
  {
   "cell_type": "markdown",
   "id": "f5966701-24a9-4401-b706-179f2f136939",
   "metadata": {},
   "source": [
    "날짜 자동 생성 : date_range"
   ]
  },
  {
   "cell_type": "code",
   "execution_count": 172,
   "id": "1d00f312-c4d4-4aad-a89c-c8b81ee54a88",
   "metadata": {},
   "outputs": [
    {
     "data": {
      "text/plain": [
       "2018-10-07    200.0\n",
       "2018-10-08    195.0\n",
       "2018-10-09      NaN\n",
       "2018-10-10    205.0\n",
       "dtype: float64"
      ]
     },
     "execution_count": 172,
     "metadata": {},
     "output_type": "execute_result"
    }
   ],
   "source": [
    "# 날짜 인덱스를 이용하여 시리즈 만들기\n",
    "# 날짜 표시 : '년-월-일' 형태의 문자열로 표시\n",
    "index_date = ['2018-10-07','2018-10-08','2018-10-09','2018-10-10']\n",
    "s4 = pd.Series([200,195,np.nan,205],index = index_date)\n",
    "s4"
   ]
  },
  {
   "cell_type": "code",
   "execution_count": 173,
   "id": "ae371322-7475-4619-a8d0-d6bb50959b95",
   "metadata": {},
   "outputs": [
    {
     "data": {
      "text/plain": [
       "str"
      ]
     },
     "execution_count": 173,
     "metadata": {},
     "output_type": "execute_result"
    }
   ],
   "source": [
    "type(s4.index[0]) # str"
   ]
  },
  {
   "cell_type": "markdown",
   "id": "572643bc-1089-4178-b6e7-77dac1ce62dc",
   "metadata": {},
   "source": [
    "- 판다스 패키지의 date_range 함수 (날짜생성)\n",
    "    - pd.date_range(start=None, end=None, periods=None, freq='D')\n",
    "    - start : 시작날짜/ end= 끝날짜 / periods = 날짜 생성기간/ fref = 날짜 생성 주기\n",
    "    - start는 필수 옵션/end나 periods는 둘 중 하나가 있어야 함/ freq는 기본 Day로 설정"
   ]
  },
  {
   "cell_type": "code",
   "execution_count": 174,
   "id": "2f79464f-9d03-40fd-8bff-15e7f3b82121",
   "metadata": {},
   "outputs": [
    {
     "data": {
      "text/plain": [
       "DatetimeIndex(['2018-10-01', '2018-10-02', '2018-10-03', '2018-10-04',\n",
       "               '2018-10-05', '2018-10-06', '2018-10-07', '2018-10-08',\n",
       "               '2018-10-09', '2018-10-10', '2018-10-11', '2018-10-12',\n",
       "               '2018-10-13', '2018-10-14', '2018-10-15', '2018-10-16',\n",
       "               '2018-10-17', '2018-10-18', '2018-10-19', '2018-10-20'],\n",
       "              dtype='datetime64[ns]', freq='D')"
      ]
     },
     "execution_count": 174,
     "metadata": {},
     "output_type": "execute_result"
    }
   ],
   "source": [
    "pd.date_range(start='2018-10-01', end='2018-10-20')\n",
    "# DatetimeIndex 반환\n",
    "# dtype='datetime64[ns]'"
   ]
  },
  {
   "cell_type": "code",
   "execution_count": 175,
   "id": "02e6efcd-9ec1-4f9b-83c5-a0f77224fde2",
   "metadata": {},
   "outputs": [
    {
     "data": {
      "text/plain": [
       "DatetimeIndex(['2018-10-01', '2018-10-02', '2018-10-03', '2018-10-04',\n",
       "               '2018-10-05', '2018-10-06', '2018-10-07', '2018-10-08',\n",
       "               '2018-10-09', '2018-10-10', '2018-10-11', '2018-10-12',\n",
       "               '2018-10-13', '2018-10-14', '2018-10-15', '2018-10-16',\n",
       "               '2018-10-17', '2018-10-18', '2018-10-19', '2018-10-20'],\n",
       "              dtype='datetime64[ns]', freq='D')"
      ]
     },
     "execution_count": 175,
     "metadata": {},
     "output_type": "execute_result"
    }
   ],
   "source": [
    "pd.date_range(start='2018-10-01', end='2018-10-20', freq='d')\n",
    "#freq='d' 기본 값"
   ]
  },
  {
   "cell_type": "code",
   "execution_count": 176,
   "id": "341dbc62-b813-4990-9698-dc089bd148f2",
   "metadata": {},
   "outputs": [
    {
     "data": {
      "text/plain": [
       "DatetimeIndex(['2018-10-01', '2018-10-04', '2018-10-07', '2018-10-10',\n",
       "               '2018-10-13', '2018-10-16', '2018-10-19'],\n",
       "              dtype='datetime64[ns]', freq='3D')"
      ]
     },
     "execution_count": 176,
     "metadata": {},
     "output_type": "execute_result"
    }
   ],
   "source": [
    "pd.date_range(start='2018-10-01', end='2018-10-20', freq='3D') # 3일씩 증가"
   ]
  },
  {
   "cell_type": "code",
   "execution_count": 180,
   "id": "2d41bf2e-8282-4c00-84a5-198cbb507014",
   "metadata": {},
   "outputs": [
    {
     "data": {
      "text/plain": [
       "DatetimeIndex(['2018-10-07', '2018-10-14'], dtype='datetime64[ns]', freq='W-SUN')"
      ]
     },
     "execution_count": 180,
     "metadata": {},
     "output_type": "execute_result"
    }
   ],
   "source": [
    "pd.date_range(start='2018-10-01', end='2018-10-20', freq='W')\n",
    "# 2018-10-01일을 기준으로 1주일씩 증가하는 날짜\n",
    "# 1주 시작일 일요일을 표시\n",
    "# 2018년 10월 1일 - 월요일"
   ]
  },
  {
   "cell_type": "code",
   "execution_count": 181,
   "id": "815e8050-7b39-41b0-9091-f3c76f30663d",
   "metadata": {},
   "outputs": [
    {
     "data": {
      "text/plain": [
       "DatetimeIndex(['2018-10-07', '2018-10-14', '2018-10-21', '2018-10-28'], dtype='datetime64[ns]', freq='W-SUN')"
      ]
     },
     "execution_count": 181,
     "metadata": {},
     "output_type": "execute_result"
    }
   ],
   "source": [
    "# 2018년 10월 1일 이후 일요일 날짜 4개 생성\n",
    "pd.date_range(start='2018-10-01', periods=4, freq='W')"
   ]
  },
  {
   "cell_type": "code",
   "execution_count": 182,
   "id": "e56446c7-8f7a-453e-b9e5-fe744505ac6f",
   "metadata": {},
   "outputs": [
    {
     "data": {
      "text/plain": [
       "DatetimeIndex(['2018-10-31', '2018-11-30', '2018-12-31', '2019-01-31'], dtype='datetime64[ns]', freq='ME')"
      ]
     },
     "execution_count": 182,
     "metadata": {},
     "output_type": "execute_result"
    }
   ],
   "source": [
    "# 2018-10-01일 이후 월의 마지막 날짜 4개 생성\n",
    "pd.date_range(start='2018-10-01', periods=4, freq='ME')"
   ]
  },
  {
   "cell_type": "code",
   "execution_count": 184,
   "id": "5f6ab2b4-36d1-4814-a6f4-6400ef6499a9",
   "metadata": {},
   "outputs": [
    {
     "data": {
      "text/plain": [
       "DatetimeIndex(['2018-10-01', '2018-11-01', '2018-12-01', '2019-01-01'], dtype='datetime64[ns]', freq='MS')"
      ]
     },
     "execution_count": 184,
     "metadata": {},
     "output_type": "execute_result"
    }
   ],
   "source": [
    "pd.date_range(start='2018-10-01', periods=4, freq='MS')"
   ]
  },
  {
   "cell_type": "code",
   "execution_count": 186,
   "id": "3bfdcd40-5ce0-45a8-8b2a-b11d429ca4d8",
   "metadata": {},
   "outputs": [
    {
     "data": {
      "text/plain": [
       "DatetimeIndex(['2018-10-31', '2018-11-30', '2018-12-31', '2019-01-31',\n",
       "               '2019-02-28', '2019-03-29', '2019-04-30', '2019-05-31',\n",
       "               '2019-06-28', '2019-07-31', '2019-08-30', '2019-09-30'],\n",
       "              dtype='datetime64[ns]', freq='BME')"
      ]
     },
     "execution_count": 186,
     "metadata": {},
     "output_type": "execute_result"
    }
   ],
   "source": [
    "pd.date_range(start='2018-10-01', periods=12, freq='BME')\n",
    "# '2BM' 업무일 기준 2개월 간격 월말 주기"
   ]
  },
  {
   "cell_type": "code",
   "execution_count": 187,
   "id": "0d40e309-eb84-4072-b03b-6354e83ec5c6",
   "metadata": {},
   "outputs": [
    {
     "data": {
      "text/plain": [
       "DatetimeIndex(['2018-10-01', '2019-01-01', '2019-04-01', '2019-07-01'], dtype='datetime64[ns]', freq='QS-JAN')"
      ]
     },
     "execution_count": 187,
     "metadata": {},
     "output_type": "execute_result"
    }
   ],
   "source": [
    "pd.date_range(start='2018-10-01', periods=4, freq='QS')\n",
    "# 분기 시작일 기준"
   ]
  },
  {
   "cell_type": "code",
   "execution_count": 189,
   "id": "60b8af65-73ab-4c90-b2ee-cdb45eb903a2",
   "metadata": {},
   "outputs": [
    {
     "data": {
      "text/plain": [
       "DatetimeIndex(['2019-01-01', '2020-01-01', '2021-01-01', '2022-01-01'], dtype='datetime64[ns]', freq='YS-JAN')"
      ]
     },
     "execution_count": 189,
     "metadata": {},
     "output_type": "execute_result"
    }
   ],
   "source": [
    "pd.date_range(start='2018-10-01', periods=4, freq='YS')\n",
    "# 2018년 10월 1일 이후 연도 시작일 4개 생성"
   ]
  },
  {
   "cell_type": "code",
   "execution_count": 192,
   "id": "9dfb2aa9-ef24-435a-b8b5-c13bf4cd4f3c",
   "metadata": {},
   "outputs": [
    {
     "data": {
      "text/plain": [
       "DatetimeIndex(['2018-01-20 08:00:00', '2018-01-20 09:00:00',\n",
       "               '2018-01-20 10:00:00', '2018-01-20 11:00:00',\n",
       "               '2018-01-20 12:00:00', '2018-01-20 13:00:00',\n",
       "               '2018-01-20 14:00:00', '2018-01-20 15:00:00',\n",
       "               '2018-01-20 16:00:00', '2018-01-20 17:00:00'],\n",
       "              dtype='datetime64[ns]', freq='h')"
      ]
     },
     "execution_count": 192,
     "metadata": {},
     "output_type": "execute_result"
    }
   ],
   "source": [
    "pd.date_range(start='2018-1-20 08:00', periods=10, freq='h')"
   ]
  },
  {
   "cell_type": "code",
   "execution_count": 194,
   "id": "ec933ec4-5f3a-4d4c-bd7a-deb30c7f440c",
   "metadata": {},
   "outputs": [
    {
     "data": {
      "text/plain": [
       "DatetimeIndex(['2018-01-22 09:00:00', '2018-01-22 10:00:00',\n",
       "               '2018-01-22 11:00:00', '2018-01-22 12:00:00',\n",
       "               '2018-01-22 13:00:00', '2018-01-22 14:00:00',\n",
       "               '2018-01-22 15:00:00', '2018-01-22 16:00:00',\n",
       "               '2018-01-23 09:00:00', '2018-01-23 10:00:00'],\n",
       "              dtype='datetime64[ns]', freq='bh')"
      ]
     },
     "execution_count": 194,
     "metadata": {},
     "output_type": "execute_result"
    }
   ],
   "source": [
    "pd.date_range(start='2018-1-20 08:00', periods=10, freq='bh')\n",
    "# 업무시간 기준 9 to 5로 설정"
   ]
  },
  {
   "cell_type": "code",
   "execution_count": 195,
   "id": "eb3b5ede-916e-4d15-bb16-6e3837cda4ff",
   "metadata": {},
   "outputs": [
    {
     "data": {
      "text/plain": [
       "DatetimeIndex(['2018-01-20 08:00:00', '2018-01-20 08:30:00',\n",
       "               '2018-01-20 09:00:00', '2018-01-20 09:30:00',\n",
       "               '2018-01-20 10:00:00', '2018-01-20 10:30:00',\n",
       "               '2018-01-20 11:00:00', '2018-01-20 11:30:00',\n",
       "               '2018-01-20 12:00:00', '2018-01-20 12:30:00'],\n",
       "              dtype='datetime64[ns]', freq='30min')"
      ]
     },
     "execution_count": 195,
     "metadata": {},
     "output_type": "execute_result"
    }
   ],
   "source": [
    "pd.date_range(start='2018-1-20 08:00', periods=10, freq='30min')"
   ]
  },
  {
   "cell_type": "code",
   "execution_count": 198,
   "id": "207f9b9c-192c-4589-b621-8c04b6dc8c8a",
   "metadata": {},
   "outputs": [
    {
     "data": {
      "text/plain": [
       "DatetimeIndex(['2018-01-20 08:00:00', '2018-01-20 08:00:10',\n",
       "               '2018-01-20 08:00:20', '2018-01-20 08:00:30',\n",
       "               '2018-01-20 08:00:40', '2018-01-20 08:00:50',\n",
       "               '2018-01-20 08:01:00', '2018-01-20 08:01:10',\n",
       "               '2018-01-20 08:01:20', '2018-01-20 08:01:30'],\n",
       "              dtype='datetime64[ns]', freq='10s')"
      ]
     },
     "execution_count": 198,
     "metadata": {},
     "output_type": "execute_result"
    }
   ],
   "source": [
    "pd.date_range(start='2018-1-20 08:00', periods=10, freq='10s')"
   ]
  },
  {
   "cell_type": "code",
   "execution_count": null,
   "id": "fed2d565-1cd0-45b7-9550-d3f0d5e39560",
   "metadata": {},
   "outputs": [],
   "source": []
  }
 ],
 "metadata": {
  "kernelspec": {
   "display_name": "Python 3",
   "language": "python",
   "name": "python3"
  },
  "language_info": {
   "codemirror_mode": {
    "name": "ipython",
    "version": 3
   },
   "file_extension": ".py",
   "mimetype": "text/x-python",
   "name": "python",
   "nbconvert_exporter": "python",
   "pygments_lexer": "ipython3",
   "version": "3.8.5"
  }
 },
 "nbformat": 4,
 "nbformat_minor": 5
}
