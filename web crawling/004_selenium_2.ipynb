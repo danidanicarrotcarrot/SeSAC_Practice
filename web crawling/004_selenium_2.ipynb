{
 "cells": [
  {
   "cell_type": "markdown",
   "metadata": {},
   "source": [
    "# 네이버 기사 크롤링\n",
    "- https://news.naver.com/section/105\n",
    "- thread 사용"
   ]
  },
  {
   "cell_type": "code",
   "execution_count": 1,
   "metadata": {},
   "outputs": [],
   "source": [
    "from selenium import webdriver\n",
    "from selenium.webdriver.chrome.service import Service as ChromeService\n",
    "from webdriver_manager.chrome import ChromeDriverManager\n",
    "from selenium.webdriver.common.by import By"
   ]
  },
  {
   "cell_type": "code",
   "execution_count": 2,
   "metadata": {},
   "outputs": [],
   "source": [
    "article_list = []\n",
    "\n",
    "def get_article(page):\n",
    "    driver = webdriver.Chrome(service=ChromeService(ChromeDriverManager().install()))\n",
    "    \n",
    "    driver.get(\"https://news.naver.com/section/10\"+str(page))\n",
    "    articles = driver.find_elements(By.CSS_SELECTOR, '#newsct li')\n",
    "    \n",
    "    for article in articles:\n",
    "        try:\n",
    "            tmp_elements = article.find_elements(By.CSS_SELECTOR, '.sa_text strong')\n",
    "            if tmp_elements:\n",
    "                title = tmp_elements[0].text\n",
    "            else:\n",
    "                tmp_elements2 = article.find_elements(By.CSS_SELECTOR, '.ss_text a')\n",
    "                if tmp_elements2:\n",
    "                    title = tmp_elements2[0].text\n",
    "                else:\n",
    "                    title = \"해당 정보 없음\"\n",
    "                    \n",
    "            article_list.append(title)\n",
    "        except:\n",
    "            print(\"에러 발생!\")\n",
    "    \n",
    "    print(\"end :\", page)\n",
    "    driver.quit()"
   ]
  },
  {
   "cell_type": "code",
   "execution_count": 3,
   "metadata": {},
   "outputs": [
    {
     "name": "stdout",
     "output_type": "stream",
     "text": [
      "end : 0\n",
      "end : 1\n",
      "end : 2\n",
      "end : 3\n",
      "end : 4\n",
      "end : 5\n",
      "CPU times: total: 1.31 s\n",
      "Wall time: 1min 10s\n"
     ]
    }
   ],
   "source": [
    "%%time\n",
    "for page in range(0, 6):\n",
    "    get_article(page)"
   ]
  },
  {
   "cell_type": "code",
   "execution_count": 4,
   "metadata": {},
   "outputs": [
    {
     "data": {
      "text/plain": [
       "(304,\n",
       " ['野, \\'의원 아니라 요원\\' 김용현 주장에 \"\\'바이든-날리면\\'식 기만\"',\n",
       "  '軍 공지합동 실사격훈련…“압도적 힘으로 목표물 타격”',\n",
       "  '돌아온 이진숙…\"방문진 대신 재허가부터\"',\n",
       "  '北최고인민회의 \"국방력 변화에 투자 집중\"…김정은 불참',\n",
       "  '김문수 46% vs 이재명 42%…與잠룡 중 김문수가 압도적 1위',\n",
       "  '경찰청장 대행 \"서부지법 사태, 폭동이라는 데 동의\"',\n",
       "  '혈세로 마라톤·볼링 지방의원들, 연수에 고가 등산복…25억 적발',\n",
       "  '계엄 후, 與가 野에 오차범위 밖 앞선 건 처음… 수도권·충청 우위',\n",
       "  '북한, 尹 구속 상세 보도…\"초췌…망동 정당화 횡설수설\"',\n",
       "  '文 \"헛된 망상에 헌정체제 뒤흔들고 국민 분열…정치 극단화\"',\n",
       "  \"'이재명 대세론' 없는 설 명절, 왠지 불안불안한 민주당\",\n",
       "  '이재명 발목 잡는 키워드 넷, 선거법· 비호감· 카톡검열· 박스권',\n",
       "  '잠룡 한동훈 복귀 2월 중순? 김문수·홍준표와 진검 승부',\n",
       "  '이재명 발목잡는 또 다른 이재명… 호감·비호감 모두 1위',\n",
       "  '與도 野도 ‘기승전 이재명’ [이런정치]',\n",
       "  '여론조사 못 믿겠다? 결과에 대한 집착부터 버려야 한다',\n",
       "  '“우파 된 결정적 이유가 뭐냐”…조영남 돌직구에 김흥국이 언급한 이 남자',\n",
       "  '한동훈, 등판 고민?…김경율 \"오늘 \\'잘 지내죠\\' 문자 왔다\"',\n",
       "  '폭동 후폭풍...극우유튜버·참가자 개싸움 \"후원금 돌려달라\"',\n",
       "  '권성동, 이재명 `쥐`에 빗대 맹공격…\"고양이 흉내내도 고양이 안된다\"',\n",
       "  '\\'尹 체포 방해\\' 경호차장 경찰 재출석…\"기관단총 평시에도 배치\"',\n",
       "  '[속보]권성동 \"이재명 \\'흑묘백묘론\\' 처음부터 끝까지 단 한 줄도 믿을 수 없어\"',\n",
       "  '권성동 \"李, 정책 갈아엎어…스토킹 고백처럼 끔찍\"',\n",
       "  '권성동 \"이재명, 쥐가 흉내낸다고 고양이 되나\"',\n",
       "  '한동훈 곧 재등판? 김경률 \"오늘 연락받아...시기 고민하는 듯\"',\n",
       "  '[속보] 권성동, \"이재명의 흑묘백묘론은 정치적 자아분열\"',\n",
       "  '북한, 정찰위성·ICBM 준비 계속…軍 \"미사일 기습발사 가능\"',\n",
       "  '김성태 \"제2의 장세동 꿈꾸는 김용현\" vs 최재성 \"尹 구하기\"',\n",
       "  '[속보] \"이재명, 수많은 악법부터 폐지하길…거짓 기자회견\" 권성동 일갈',\n",
       "  '김부겸 “민주당 강공 일변도 국민 피로감…탄핵 찬성 연합세력 폭 넓혀야”'])"
      ]
     },
     "execution_count": 4,
     "metadata": {},
     "output_type": "execute_result"
    }
   ],
   "source": [
    "len(article_list), article_list[:30]"
   ]
  },
  {
   "cell_type": "markdown",
   "metadata": {},
   "source": [
    "### pandas 사용"
   ]
  },
  {
   "cell_type": "code",
   "execution_count": 5,
   "metadata": {},
   "outputs": [],
   "source": [
    "import threading\n",
    "import pandas as pd\n",
    "\n",
    "df = pd.DataFrame(columns=[\"category\", \"title\"])"
   ]
  },
  {
   "cell_type": "code",
   "execution_count": 6,
   "metadata": {},
   "outputs": [],
   "source": [
    "def get_article(page):\n",
    "    driver = webdriver.Chrome(service=ChromeService(ChromeDriverManager().install()))\n",
    "    \n",
    "    driver.get(\"https://news.naver.com/section/10\"+str(page))\n",
    "    category = driver.find_element(By.CSS_SELECTOR, '.ct_snb_h2_a').get_attribute(\"innerText\")\n",
    "    articles = driver.find_elements(By.CSS_SELECTOR, '#newsct li')\n",
    "    \n",
    "    for article in articles:\n",
    "        try:\n",
    "            tmp_elements = article.find_elements(By.CSS_SELECTOR, '.sa_text strong')\n",
    "            if tmp_elements:\n",
    "                title = tmp_elements[0].text\n",
    "            else:\n",
    "                tmp_elements2 = article.find_elements(By.CSS_SELECTOR, '.ss_text a')\n",
    "                if tmp_elements2:\n",
    "                    title = tmp_elements2[0].text\n",
    "                else:\n",
    "                    title = \"해당 정보 없음\"\n",
    "                    \n",
    "            article_list.append(title)\n",
    "        except:\n",
    "            print(\"에러 발생!\")\n",
    "\n",
    "        df.loc[len(df)] = {\"category\":category, \"title\":title,}\n",
    "        \n",
    "    print(\"end :\", page+1)\n",
    "    driver.quit()"
   ]
  },
  {
   "cell_type": "code",
   "execution_count": 7,
   "metadata": {},
   "outputs": [
    {
     "name": "stdout",
     "output_type": "stream",
     "text": [
      "end : 1\n",
      "end : 2\n",
      "end : 3\n",
      "end : 4\n",
      "end : 5\n",
      "end : 6\n",
      "CPU times: total: 859 ms\n",
      "Wall time: 52.4 s\n"
     ]
    }
   ],
   "source": [
    "%%time\n",
    "for page in range(0, 6):\n",
    "    get_article(page)"
   ]
  },
  {
   "cell_type": "code",
   "execution_count": 8,
   "metadata": {},
   "outputs": [
    {
     "data": {
      "text/html": [
       "<div>\n",
       "<style scoped>\n",
       "    .dataframe tbody tr th:only-of-type {\n",
       "        vertical-align: middle;\n",
       "    }\n",
       "\n",
       "    .dataframe tbody tr th {\n",
       "        vertical-align: top;\n",
       "    }\n",
       "\n",
       "    .dataframe thead th {\n",
       "        text-align: right;\n",
       "    }\n",
       "</style>\n",
       "<table border=\"1\" class=\"dataframe\">\n",
       "  <thead>\n",
       "    <tr style=\"text-align: right;\">\n",
       "      <th></th>\n",
       "      <th>category</th>\n",
       "      <th>title</th>\n",
       "    </tr>\n",
       "  </thead>\n",
       "  <tbody>\n",
       "    <tr>\n",
       "      <th>0</th>\n",
       "      <td>정치</td>\n",
       "      <td>헌재 나온 尹, 출장 '머리손질' 받았다…법무부 \"국격 위해 허용\"</td>\n",
       "    </tr>\n",
       "    <tr>\n",
       "      <th>1</th>\n",
       "      <td>정치</td>\n",
       "      <td>국방장관 대행 “적엔 두려움, 국민엔 신뢰”…혹한기 실사격 훈련 시찰</td>\n",
       "    </tr>\n",
       "    <tr>\n",
       "      <th>2</th>\n",
       "      <td>정치</td>\n",
       "      <td>김경수 “민주당, 여론 압도 못 해…한 사람 독주 허용 않아야”</td>\n",
       "    </tr>\n",
       "    <tr>\n",
       "      <th>3</th>\n",
       "      <td>정치</td>\n",
       "      <td>경찰청장 대행 \"서부지법 난입은 폭동…소요죄와 비슷\"</td>\n",
       "    </tr>\n",
       "    <tr>\n",
       "      <th>4</th>\n",
       "      <td>정치</td>\n",
       "      <td>권영세, '부정선거론' 전한길 옹호…대변인 \"원칙적 말씀\"</td>\n",
       "    </tr>\n",
       "    <tr>\n",
       "      <th>...</th>\n",
       "      <td>...</td>\n",
       "      <td>...</td>\n",
       "    </tr>\n",
       "    <tr>\n",
       "      <th>299</th>\n",
       "      <td>IT/과학</td>\n",
       "      <td>“갤럭시S25가 AI폰 대중화 이끌 것”…삼성의 엄청난 자신감, 시장 반응은</td>\n",
       "    </tr>\n",
       "    <tr>\n",
       "      <th>300</th>\n",
       "      <td>IT/과학</td>\n",
       "      <td>이진숙 “2인체제 의결 문제없어”…지상파 재허가부터?</td>\n",
       "    </tr>\n",
       "    <tr>\n",
       "      <th>301</th>\n",
       "      <td>IT/과학</td>\n",
       "      <td>美빅테크 AI에 日손정의 자본 힘 합치는데…韓기업 돌파구 절실</td>\n",
       "    </tr>\n",
       "    <tr>\n",
       "      <th>302</th>\n",
       "      <td>IT/과학</td>\n",
       "      <td>[강민성의 헬스토리] 사라지지 않는 입냄새…제거하는 확실한 방법은?</td>\n",
       "    </tr>\n",
       "    <tr>\n",
       "      <th>303</th>\n",
       "      <td>IT/과학</td>\n",
       "      <td>“성과급 1500% 줄만 하네”…이 회사, 매출도 영업익도 사상최대 실적 축포</td>\n",
       "    </tr>\n",
       "  </tbody>\n",
       "</table>\n",
       "<p>304 rows × 2 columns</p>\n",
       "</div>"
      ],
      "text/plain": [
       "    category                                        title\n",
       "0         정치        헌재 나온 尹, 출장 '머리손질' 받았다…법무부 \"국격 위해 허용\"\n",
       "1         정치       국방장관 대행 “적엔 두려움, 국민엔 신뢰”…혹한기 실사격 훈련 시찰\n",
       "2         정치          김경수 “민주당, 여론 압도 못 해…한 사람 독주 허용 않아야”\n",
       "3         정치                경찰청장 대행 \"서부지법 난입은 폭동…소요죄와 비슷\"\n",
       "4         정치             권영세, '부정선거론' 전한길 옹호…대변인 \"원칙적 말씀\"\n",
       "..       ...                                          ...\n",
       "299    IT/과학   “갤럭시S25가 AI폰 대중화 이끌 것”…삼성의 엄청난 자신감, 시장 반응은\n",
       "300    IT/과학                이진숙 “2인체제 의결 문제없어”…지상파 재허가부터?\n",
       "301    IT/과학           美빅테크 AI에 日손정의 자본 힘 합치는데…韓기업 돌파구 절실\n",
       "302    IT/과학        [강민성의 헬스토리] 사라지지 않는 입냄새…제거하는 확실한 방법은?\n",
       "303    IT/과학  “성과급 1500% 줄만 하네”…이 회사, 매출도 영업익도 사상최대 실적 축포\n",
       "\n",
       "[304 rows x 2 columns]"
      ]
     },
     "execution_count": 8,
     "metadata": {},
     "output_type": "execute_result"
    }
   ],
   "source": [
    "df"
   ]
  },
  {
   "cell_type": "code",
   "execution_count": 9,
   "metadata": {},
   "outputs": [
    {
     "data": {
      "text/plain": [
       "category\n",
       "경제       52\n",
       "IT/과학    52\n",
       "생활/문화    51\n",
       "정치       50\n",
       "사회       50\n",
       "세계       49\n",
       "Name: count, dtype: int64"
      ]
     },
     "execution_count": 9,
     "metadata": {},
     "output_type": "execute_result"
    }
   ],
   "source": [
    "df['category'].value_counts()"
   ]
  }
 ],
 "metadata": {
  "kernelspec": {
   "display_name": "base",
   "language": "python",
   "name": "python3"
  },
  "language_info": {
   "codemirror_mode": {
    "name": "ipython",
    "version": 3
   },
   "file_extension": ".py",
   "mimetype": "text/x-python",
   "name": "python",
   "nbconvert_exporter": "python",
   "pygments_lexer": "ipython3",
   "version": "3.12.7"
  }
 },
 "nbformat": 4,
 "nbformat_minor": 2
}
