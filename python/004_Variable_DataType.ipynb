{
 "cells": [
  {
   "cell_type": "markdown",
   "id": "a41ecf6a-8607-4b3a-8266-c44efe99c6b2",
   "metadata": {},
   "source": [
    "# 4장 변수와 자료형\n",
    "## 4.1 변수\n",
    "- 자료를 넣을 수 있는 상자인 변수와 파이썬에서 지원하는 자료형(데이터 타입)"
   ]
  },
  {
   "cell_type": "code",
   "execution_count": 1,
   "id": "a221eba8-2da3-4a1a-8094-162c2c7ca3cf",
   "metadata": {},
   "outputs": [
    {
     "data": {
      "text/plain": [
       "6170.0"
      ]
     },
     "execution_count": 1,
     "metadata": {},
     "output_type": "execute_result"
    }
   ],
   "source": [
    "12340 * 1/2"
   ]
  },
  {
   "cell_type": "code",
   "execution_count": 2,
   "id": "7cb0a5b7-cf0c-4f70-b306-4d70f3779300",
   "metadata": {},
   "outputs": [
    {
     "data": {
      "text/plain": [
       "3085.0"
      ]
     },
     "execution_count": 2,
     "metadata": {},
     "output_type": "execute_result"
    }
   ],
   "source": [
    "12340 * 1/4"
   ]
  },
  {
   "cell_type": "code",
   "execution_count": 3,
   "id": "4d778b78-512e-4dce-9213-0c42bf971cc4",
   "metadata": {},
   "outputs": [
    {
     "data": {
      "text/plain": [
       "2468.0"
      ]
     },
     "execution_count": 3,
     "metadata": {},
     "output_type": "execute_result"
    }
   ],
   "source": [
    "12340 * 1/5"
   ]
  },
  {
   "cell_type": "markdown",
   "id": "cb2f8f02-3001-4095-880f-966c55cbece7",
   "metadata": {},
   "source": [
    "- 매번 연산할 때마다 12340을 반복\n",
    "- 간단한 연산에서도 숫자를 반복해서 입력해야 할 경우 숫자 12340을 어떤 상자에 넣고 이름을 붙인 후 사용"
   ]
  },
  {
   "cell_type": "markdown",
   "id": "bec3299a-c431-491e-b4bd-ebe530e242aa",
   "metadata": {},
   "source": [
    "숫자와 같은 자료(data)를 넣을 수 있는 상자를 변수(variable)라 하고 상자에 붙인 이름을 변수명(혹은 변수 이름)이라고 함\n",
    "\n",
    "- 실제로 변수는 컴퓨터의 임시 저장 공간(메모리)에 저장됨\n",
    "- 파이썬에서는 등호를 사용해서 변수에 자료를 할당함\n",
    "- 변수명 = data 와 같은 형태\n",
    "- 자료가 숫자라면 data에 숫자를 쓰면 되고 문자열이면 문자열 쓰면 됨\n",
    "- 변수명과 등호, 등호와 data 사이의 공백은 무시 \n"
   ]
  },
  {
   "cell_type": "code",
   "execution_count": 4,
   "id": "5d48cff9-af95-4201-859b-2320799a26ee",
   "metadata": {},
   "outputs": [
    {
     "name": "stdout",
     "output_type": "stream",
     "text": [
      "12340\n"
     ]
    }
   ],
   "source": [
    "abc = 12340\n",
    "print(abc)"
   ]
  },
  {
   "cell_type": "markdown",
   "id": "6809ba4c-9022-43a6-8ac4-ad64d88c70c1",
   "metadata": {},
   "source": [
    "- 변수에 자료를 할당한 경우 print(변수명)으로 변수명에 할당한 값을 출력할 수 있음\n",
    "- print(변수명)을이용하지 않더라도 변수명을 실행해 변수에 할당된 값을 출력할 수도 있음 "
   ]
  },
  {
   "cell_type": "code",
   "execution_count": 5,
   "id": "7d6ca11a-52f0-44ee-bb18-7f4eb17ecce7",
   "metadata": {},
   "outputs": [
    {
     "data": {
      "text/plain": [
       "12340"
      ]
     },
     "execution_count": 5,
     "metadata": {},
     "output_type": "execute_result"
    }
   ],
   "source": [
    "abc"
   ]
  },
  {
   "cell_type": "code",
   "execution_count": 6,
   "id": "2ebbbad7-355a-4c98-9886-de60b2346547",
   "metadata": {},
   "outputs": [
    {
     "name": "stdout",
     "output_type": "stream",
     "text": [
      "6170.0\n",
      "3085.0\n",
      "2468.0\n"
     ]
    }
   ],
   "source": [
    "print(abc*1/2)\n",
    "print(abc*1/4)\n",
    "print(abc*1/5)"
   ]
  },
  {
   "cell_type": "markdown",
   "id": "3b54ceb9-98f2-4208-93e6-a72f66d4b0f7",
   "metadata": {},
   "source": [
    "변수명 작성 규칙\n",
    "- 문자, 숫자, 밑줄 기호\n",
    "- 숫자로 시작할 수 없음\n",
    "- 대소문자 구분\n",
    "- 공백 포함 금지\n",
    "- 밑줄 이외의 기호는 사용 안 됨\n",
    "- 예약어는 변수명으로 이용할 수 없음"
   ]
  },
  {
   "cell_type": "markdown",
   "id": "21519e62-ee1a-451e-9565-4ad5f9bdb635",
   "metadata": {},
   "source": [
    "상수\n",
    "- 프로그래밍 언어에서 어떤 숫자를 변수에 할당한 후에 프로그램이 끝날 때까지 그 변수의 값을 변경하지 않고 사용하는 경우"
   ]
  },
  {
   "cell_type": "markdown",
   "id": "21705f7d-76e9-4f91-ac50-4704364d2533",
   "metadata": {},
   "source": [
    "## 4.2 문자열\n",
    "### 문자열 만들기\n",
    "- 문자열은 문자의 나열을 의미, 따옴표로 둘러싸인 문자의 집합"
   ]
  },
  {
   "cell_type": "code",
   "execution_count": 7,
   "id": "01330cfc-4e28-40c0-b29c-33c7730d4acf",
   "metadata": {},
   "outputs": [
    {
     "name": "stdout",
     "output_type": "stream",
     "text": [
      "String test\n"
     ]
    }
   ],
   "source": [
    "print('String test')"
   ]
  },
  {
   "cell_type": "code",
   "execution_count": 8,
   "id": "756fba22-bb05-47ae-a4a4-17002f64b4b0",
   "metadata": {},
   "outputs": [
    {
     "name": "stdout",
     "output_type": "stream",
     "text": [
      "String test1\n"
     ]
    }
   ],
   "source": [
    "string1 = 'String test1'\n",
    "print(string1)"
   ]
  },
  {
   "cell_type": "code",
   "execution_count": 9,
   "id": "0db1b312-a240-4d21-b9e2-09df57aa5281",
   "metadata": {},
   "outputs": [
    {
     "data": {
      "text/plain": [
       "str"
      ]
     },
     "execution_count": 9,
     "metadata": {},
     "output_type": "execute_result"
    }
   ],
   "source": [
    "type(string1)"
   ]
  },
  {
   "cell_type": "code",
   "execution_count": 12,
   "id": "f9039978-8e0f-418b-bbdc-1c4ded8cc269",
   "metadata": {},
   "outputs": [
    {
     "name": "stdout",
     "output_type": "stream",
     "text": [
      "This is a \"double\" quotation test\n",
      "This is a 'single' quotation test\n"
     ]
    }
   ],
   "source": [
    "string3 = 'This is a \"double\" quotation test'\n",
    "string4 = \"This is a 'single' quotation test\"\n",
    "print(string3)\n",
    "print(string4)"
   ]
  },
  {
   "cell_type": "code",
   "execution_count": 14,
   "id": "e1d4f39d-3057-4838-83a3-a33a08517774",
   "metadata": {},
   "outputs": [
    {
     "name": "stdout",
     "output_type": "stream",
     "text": [
      "[삼중 작은따옴표를 사용한 예]\n",
      "파이썬에는 삼중 따옴표로 여러 행의 문자열을 입력할 수 있습니다.\n",
      "큰따옴표(\")와 작은따옴표(')도 입력할 수 있습니다.\n",
      "[삼중 큰따옴표를 사용한 예]\n",
      "파이썬에는 삼중 따옴표로 여러 행의 문자열을 입력할 수 있습니다.\n",
      "큰따옴표(\")와 작은따옴표(')도 입력할 수 있습니다.\n"
     ]
    }
   ],
   "source": [
    "long_string1 = '''[삼중 작은따옴표를 사용한 예]\n",
    "파이썬에는 삼중 따옴표로 여러 행의 문자열을 입력할 수 있습니다.\n",
    "큰따옴표(\")와 작은따옴표(')도 입력할 수 있습니다.'''\n",
    "long_string2 = \"\"\"[삼중 큰따옴표를 사용한 예]\n",
    "파이썬에는 삼중 따옴표로 여러 행의 문자열을 입력할 수 있습니다.\n",
    "큰따옴표(\")와 작은따옴표(')도 입력할 수 있습니다.\"\"\"\n",
    "print(long_string1)\n",
    "print(long_string2)"
   ]
  },
  {
   "cell_type": "markdown",
   "id": "f4cb9289-4390-4f34-b658-fd89ee7207ce",
   "metadata": {},
   "source": [
    "### 문자열 다루기\n",
    "더하기 연산자랑 곱하기 연산자 사용 가능"
   ]
  },
  {
   "cell_type": "code",
   "execution_count": 15,
   "id": "71d9ae49-2c33-4d08-b34a-b8f7f709bb55",
   "metadata": {},
   "outputs": [
    {
     "name": "stdout",
     "output_type": "stream",
     "text": [
      "Enjoy python!\n"
     ]
    }
   ],
   "source": [
    "a = 'Enjoy '\n",
    "b = 'python!'\n",
    "c = a + b\n",
    "print(c)"
   ]
  },
  {
   "cell_type": "code",
   "execution_count": 17,
   "id": "08eb26a4-8fe5-4cdd-8448-c6bf7b3fb925",
   "metadata": {},
   "outputs": [
    {
     "name": "stdout",
     "output_type": "stream",
     "text": [
      "Enjoy Enjoy Enjoy \n"
     ]
    }
   ],
   "source": [
    "print(a*3)"
   ]
  },
  {
   "cell_type": "markdown",
   "id": "07c47dcc-252f-457c-8a8a-4a52c3fdcf52",
   "metadata": {},
   "source": [
    "## 4.3 리스트\n",
    "### 리스트 만들기\n",
    "- 대괄호 이용\n",
    "- 숫자, 문자열, 불, 리스트, 튜플, 세트, 딕셔너리 넣을 수 있음\n",
    "- 데이터 타입은 다 달라도 됨"
   ]
  },
  {
   "cell_type": "code",
   "execution_count": 18,
   "id": "ca04e434-b82d-4c25-bad4-2fba2385d425",
   "metadata": {},
   "outputs": [
    {
     "data": {
      "text/plain": [
       "[90, 95, 85, 80]"
      ]
     },
     "execution_count": 18,
     "metadata": {},
     "output_type": "execute_result"
    }
   ],
   "source": [
    "# 1번 학생의 국어, 영어, 수학, 과학 점수가 각각 90,95,85,80\n",
    "student1 = [90,95,85,80]\n",
    "student1"
   ]
  },
  {
   "cell_type": "code",
   "execution_count": 19,
   "id": "589c456e-dc82-4c00-ae7b-ecec12e9e7ae",
   "metadata": {},
   "outputs": [
    {
     "data": {
      "text/plain": [
       "list"
      ]
     },
     "execution_count": 19,
     "metadata": {},
     "output_type": "execute_result"
    }
   ],
   "source": [
    "type(student1)"
   ]
  },
  {
   "cell_type": "markdown",
   "id": "2e6ddd73-1417-4f57-8c1e-e079b6d8f1ea",
   "metadata": {},
   "source": [
    "- 리스트에서 각 항목은,변수명[i]로 지정 할 수 있음\n",
    "- 여기서 i를 리스트 변수의 인덱스(index)라고 함\n",
    "- 만약 N개의 항목이 있는 리스트 타입의 데이터가 있다면 인덱스 i의 범위는 0부터 'N - 1'까지 임\n",
    "- 첫 번째 요소는 '변수명[0]',두 번째 요소는 '변수명[1],세 번째 요소는 변수명[2],\n",
    "- 인덱스의 숫자가 증가하다가 마지막 요소는 '변수명[N-1]'이 됨\n",
    "- 마지막 항목은 '변수명 [-1]'로도 지정할 수도 있음"
   ]
  },
  {
   "cell_type": "code",
   "execution_count": 20,
   "id": "46622f52-45ba-468d-a245-49e9657de244",
   "metadata": {},
   "outputs": [
    {
     "data": {
      "text/plain": [
       "90"
      ]
     },
     "execution_count": 20,
     "metadata": {},
     "output_type": "execute_result"
    }
   ],
   "source": [
    "student1[0]"
   ]
  },
  {
   "cell_type": "code",
   "execution_count": 21,
   "id": "ba65ad33-21f5-4fce-a9ab-60ed1729f913",
   "metadata": {},
   "outputs": [
    {
     "data": {
      "text/plain": [
       "95"
      ]
     },
     "execution_count": 21,
     "metadata": {},
     "output_type": "execute_result"
    }
   ],
   "source": [
    "student1[1]"
   ]
  },
  {
   "cell_type": "code",
   "execution_count": 22,
   "id": "a5f72182-9315-4652-8f7a-a63966aa4bce",
   "metadata": {},
   "outputs": [
    {
     "data": {
      "text/plain": [
       "80"
      ]
     },
     "execution_count": 22,
     "metadata": {},
     "output_type": "execute_result"
    }
   ],
   "source": [
    "student1[-1]"
   ]
  },
  {
   "cell_type": "markdown",
   "id": "3b59d9a0-74dd-40dd-aad3-01e222a4cfde",
   "metadata": {},
   "source": [
    "리스트의 특정 항목을 변경하려면 '변수명[i] = new_data'를 이용해 리스트 변수에서 인덱스 i 항목을\n",
    "new_data로 변경할 수 있음\n",
    "- 리스트 변수 student1 에서 두 번째 항목을 새로운 데이터로 할당하고 리스트 변수를 출력"
   ]
  },
  {
   "cell_type": "code",
   "execution_count": 23,
   "id": "132b49e8-2f22-479f-9eee-6e484afdcc79",
   "metadata": {},
   "outputs": [
    {
     "data": {
      "text/plain": [
       "[90, 100, 85, 80]"
      ]
     },
     "execution_count": 23,
     "metadata": {},
     "output_type": "execute_result"
    }
   ],
   "source": [
    "student1[1] = 100 # 두 번째 항목에 새로운 데이터 할당\n",
    "student1"
   ]
  },
  {
   "cell_type": "markdown",
   "id": "951ae220-b22d-443a-98b0-daa973ae936c",
   "metadata": {},
   "source": [
    "리스트에 문자열 입력하기"
   ]
  },
  {
   "cell_type": "code",
   "execution_count": 24,
   "id": "a940cec2-5ec0-4ec5-8213-11005b4b349d",
   "metadata": {},
   "outputs": [
    {
     "data": {
      "text/plain": [
       "['James', 'Robert', 'Lisa', 'Mary']"
      ]
     },
     "execution_count": 24,
     "metadata": {},
     "output_type": "execute_result"
    }
   ],
   "source": [
    "myFriends = ['James', 'Robert', 'Lisa', 'Mary']\n",
    "myFriends"
   ]
  },
  {
   "cell_type": "code",
   "execution_count": 25,
   "id": "2da1723a-963b-44b5-8223-bec472d37961",
   "metadata": {},
   "outputs": [
    {
     "data": {
      "text/plain": [
       "'Lisa'"
      ]
     },
     "execution_count": 25,
     "metadata": {},
     "output_type": "execute_result"
    }
   ],
   "source": [
    "myFriends[2]"
   ]
  },
  {
   "cell_type": "code",
   "execution_count": 26,
   "id": "22738081-a78c-4c87-a7bf-e2594504788b",
   "metadata": {},
   "outputs": [
    {
     "data": {
      "text/plain": [
       "'Mary'"
      ]
     },
     "execution_count": 26,
     "metadata": {},
     "output_type": "execute_result"
    }
   ],
   "source": [
    "myFriends[3]"
   ]
  },
  {
   "cell_type": "code",
   "execution_count": 28,
   "id": "ef1b1cef-3abf-4dfa-90a9-a7656b4bc8a8",
   "metadata": {},
   "outputs": [
    {
     "data": {
      "text/plain": [
       "'Mary'"
      ]
     },
     "execution_count": 28,
     "metadata": {},
     "output_type": "execute_result"
    }
   ],
   "source": [
    "myFriends[-1]"
   ]
  },
  {
   "cell_type": "code",
   "execution_count": 30,
   "id": "ce016f5e-b8c7-4ccf-abc8-7b9c327b857d",
   "metadata": {},
   "outputs": [
    {
     "data": {
      "text/plain": [
       "[0, 2, 3.14, 'python', 'program', True, ['James', 'Robert', 'Lisa', 'Mary']]"
      ]
     },
     "execution_count": 30,
     "metadata": {},
     "output_type": "execute_result"
    }
   ],
   "source": [
    "mixedList = [0, 2, 3.14, 'python', 'program', True, myFriends]\n",
    "mixedList"
   ]
  },
  {
   "cell_type": "markdown",
   "id": "1f369b83-2526-4003-b02b-654bc48bc99c",
   "metadata": {},
   "source": [
    "### 리스트 다루기\n",
    "리스트 더하기와 곱하기\n",
    "- 문자열과 마찬가지로 리스트도 더하기와 곱하기를 할 수 있음\n",
    "- 더하기는 두 리스트를 연결하고 곱하기는 리스트를 곱한 수만큼 반복함\n"
   ]
  },
  {
   "cell_type": "code",
   "execution_count": 31,
   "id": "bf332484-ef55-4d3b-8e5f-26f951a025ab",
   "metadata": {},
   "outputs": [
    {
     "name": "stdout",
     "output_type": "stream",
     "text": [
      "[1, 2, 3, 4, 5, 6, 7, 8]\n"
     ]
    }
   ],
   "source": [
    "list_con1= [1,2,3,4]\n",
    "list_con2 = [5,6,7,8]\n",
    "list_con = list_con1 + list_con2 # 리스트 연결\n",
    "print(list_con)"
   ]
  },
  {
   "cell_type": "code",
   "execution_count": 32,
   "id": "901b02b8-97bd-4916-8448-eca321c213be",
   "metadata": {},
   "outputs": [
    {
     "name": "stdout",
     "output_type": "stream",
     "text": [
      "[1, 2, 3, 4, 1, 2, 3, 4, 1, 2, 3, 4]\n"
     ]
    }
   ],
   "source": [
    "list_con1= [1,2,3,4]\n",
    "list_con = list_con1 * 3 # 리스트 반복\n",
    "print(list_con)"
   ]
  },
  {
   "cell_type": "markdown",
   "id": "43dd32e4-b9ff-4449-a8be-e3078045b921",
   "metadata": {},
   "source": [
    "리스트 중 일부 항목 가져오기\n",
    "- 인덱스 범위 지정해 리스트 중 일부를 가져올 수 있음\n",
    "- 리스트 [ i_start : i_end ]\n",
    "- 리스트 [ i_start : i_end : i_step ]"
   ]
  },
  {
   "cell_type": "markdown",
   "id": "6ca8fa26-fe9b-41b3-9f15-76a812b16299",
   "metadata": {},
   "source": [
    "- i_start, i_end, i_step은 각각 인덱스의 시작, 끝,스템(증가 단계)\n",
    "- 인텍스의 범위를 지정하면 ’i_start'에서 ’i_end - 1'까지의 리스트를 반환\n",
    "- i_start를 생략하면 인덱스는 0 으로 간주하고 i_end를 생략하면 인덱스는 마지막이라고 간주"
   ]
  },
  {
   "cell_type": "code",
   "execution_count": 33,
   "id": "14affbe0-222a-4967-a1fc-5e788db61b20",
   "metadata": {},
   "outputs": [
    {
     "name": "stdout",
     "output_type": "stream",
     "text": [
      "[0, 1, 2, 3, 4, 5, 6, 7, 8, 9]\n",
      "[0, 1, 2]\n",
      "[4, 5, 6, 7]\n",
      "[0, 1, 2]\n",
      "[7, 8, 9]\n",
      "[0, 2, 4, 6, 8]\n"
     ]
    }
   ],
   "source": [
    "list_data = [0, 1, 2, 3, 4, 5, 6, 7, 8, 9]\n",
    "print(list_data)\n",
    "print(list_data[0:3])\n",
    "print(list_data[4:8])\n",
    "print(list_data[:3])\n",
    "print(list_data[7:])\n",
    "print(list_data[::2])"
   ]
  },
  {
   "cell_type": "markdown",
   "id": "9a135f4d-7480-4f56-9399-3719dd1e47ff",
   "metadata": {},
   "source": [
    "리스트에서 항목 삭제하기\n",
    "- 리스트에서 인덱스가 i인 항목을 삭제하려면 ‘del 리스트[i]’를 이용"
   ]
  },
  {
   "cell_type": "code",
   "execution_count": 34,
   "id": "36b85f8c-a2a8-4b06-ba27-747c2f97670b",
   "metadata": {},
   "outputs": [
    {
     "name": "stdout",
     "output_type": "stream",
     "text": [
      "[0, 1, 2, 3, 4, 5, 6, 7, 8, 9]\n",
      "[0, 1, 2, 3, 4, 5, 7, 8, 9]\n"
     ]
    }
   ],
   "source": [
    "print(list_data)\n",
    "del list_data[6]\n",
    "print(list_data)"
   ]
  },
  {
   "cell_type": "markdown",
   "id": "22bd60f5-6236-4f4c-a8ca-891531c5428b",
   "metadata": {},
   "source": [
    "리스트에서 항목의 존재 여부 확인하기"
   ]
  },
  {
   "cell_type": "code",
   "execution_count": 35,
   "id": "8bb670fb-53fb-40fb-abe1-43d1e36a75c4",
   "metadata": {},
   "outputs": [
    {
     "name": "stdout",
     "output_type": "stream",
     "text": [
      "True\n",
      "False\n"
     ]
    }
   ],
   "source": [
    "list_data1 = [1, 2, 3, 4, 5]\n",
    "print(5 in list_data1)\n",
    "print(6 in list_data1)"
   ]
  },
  {
   "cell_type": "markdown",
   "id": "3af9a771-67ff-4560-8c40-47f729756e35",
   "metadata": {},
   "source": [
    "append()는 리스트의 맨 끝에 새로운 항목을 추가\n"
   ]
  },
  {
   "cell_type": "code",
   "execution_count": 36,
   "id": "2563024a-46a8-4803-b42b-9c507509d86e",
   "metadata": {},
   "outputs": [
    {
     "name": "stdout",
     "output_type": "stream",
     "text": [
      "['James', 'Robert', 'Lisa', 'Mary']\n",
      "['James', 'Robert', 'Lisa', 'Mary', 'Thomas']\n"
     ]
    }
   ],
   "source": [
    "myFriends = ['James', 'Robert', 'Lisa', 'Mary']\n",
    "print(myFriends)\n",
    "myFriends.append('Thomas')\n",
    "print(myFriends)"
   ]
  },
  {
   "cell_type": "markdown",
   "id": "efc0fc45-b30c-45eb-9081-94794ce57a41",
   "metadata": {},
   "source": [
    "insert()\n",
    "- insert() 메서드는 리스트의 원하는 위치에 데이터를 삽입 하는데 이용\n",
    "- 자료형.insert(i,data)\n",
    "- 항목의 위치를 나타내는 인덱스 i에 data가 삽입\n",
    "- 이때 기존의 인덱스가 i 이상인 항목은 인덱스가 1씩 증가하면서 이동"
   ]
  },
  {
   "cell_type": "code",
   "execution_count": 37,
   "id": "3df68187-acc9-4eed-86e3-3a69c04f6993",
   "metadata": {},
   "outputs": [
    {
     "name": "stdout",
     "output_type": "stream",
     "text": [
      "['James', 'Robert', 'Lisa', 'Mary']\n",
      "['James', 'Paul', 'Robert', 'Lisa', 'Mary']\n"
     ]
    }
   ],
   "source": [
    "myFriends = ['James', 'Robert', 'Lisa', 'Mary']\n",
    "print(myFriends)\n",
    "myFriends.insert(1,'Paul')\n",
    "print(myFriends)"
   ]
  },
  {
   "cell_type": "markdown",
   "id": "953ea44d-c2e5-435f-8b56-fe7184b389d5",
   "metadata": {},
   "source": [
    "extend()메서드는 리스트의 맨 끝에 여러 개의 항목을 추가하는데 이용"
   ]
  },
  {
   "cell_type": "code",
   "execution_count": 38,
   "id": "6e8fa05e-0876-4c2f-869c-9cc3d398842e",
   "metadata": {},
   "outputs": [
    {
     "name": "stdout",
     "output_type": "stream",
     "text": [
      "['James', 'Robert', 'Lisa', 'Mary']\n",
      "['James', 'Robert', 'Lisa', 'Mary', 'Laura', 'Betty']\n"
     ]
    }
   ],
   "source": [
    "myFriends = ['James', 'Robert', 'Lisa', 'Mary']\n",
    "print(myFriends)\n",
    "myFriends.extend(['Laura', 'Betty'])\n",
    "print(myFriends)"
   ]
  },
  {
   "cell_type": "markdown",
   "id": "12c02dec-79f3-46c0-8c36-f68444a69a91",
   "metadata": {},
   "source": [
    "## 4.4 튜플\n",
    "- 튜플 데이터는 한 번 입력(흑은 생성)하면 그 이후에는 항목을 변경할 수가 없음"
   ]
  },
  {
   "cell_type": "code",
   "execution_count": 39,
   "id": "a52e7209-9b02-4fdd-aef3-b21027f7fd4b",
   "metadata": {},
   "outputs": [
    {
     "data": {
      "text/plain": [
       "(1, 2, 3, 4)"
      ]
     },
     "execution_count": 39,
     "metadata": {},
     "output_type": "execute_result"
    }
   ],
   "source": [
    "tuple1 = (1,2,3,4)\n",
    "tuple1"
   ]
  },
  {
   "cell_type": "code",
   "execution_count": 40,
   "id": "8e19febd-463a-4837-9397-9c746fa1a637",
   "metadata": {},
   "outputs": [
    {
     "data": {
      "text/plain": [
       "tuple"
      ]
     },
     "execution_count": 40,
     "metadata": {},
     "output_type": "execute_result"
    }
   ],
   "source": [
    "type(tuple1)"
   ]
  },
  {
   "cell_type": "code",
   "execution_count": 41,
   "id": "7ac1d77e-9c76-43b9-bafe-78ad3e1df476",
   "metadata": {},
   "outputs": [
    {
     "data": {
      "text/plain": [
       "2"
      ]
     },
     "execution_count": 41,
     "metadata": {},
     "output_type": "execute_result"
    }
   ],
   "source": [
    "tuple1[1]"
   ]
  },
  {
   "cell_type": "code",
   "execution_count": 42,
   "id": "f0fcb5ef-7885-4233-a0cc-094fc1a97e0f",
   "metadata": {},
   "outputs": [
    {
     "name": "stdout",
     "output_type": "stream",
     "text": [
      "(5, 6, 7, 8)\n"
     ]
    }
   ],
   "source": [
    "tuple2 = 5,6,7,8\n",
    "print(tuple2)"
   ]
  },
  {
   "cell_type": "markdown",
   "id": "8568e3c4-d913-44a1-98be-feef2f2c9922",
   "metadata": {},
   "source": [
    "- 소괄호 없이도 튜플 생성 가능"
   ]
  },
  {
   "cell_type": "code",
   "execution_count": 43,
   "id": "48f5ff15-6b58-4503-9ab1-362d83dba8f1",
   "metadata": {},
   "outputs": [
    {
     "data": {
      "text/plain": [
       "tuple"
      ]
     },
     "execution_count": 43,
     "metadata": {},
     "output_type": "execute_result"
    }
   ],
   "source": [
    "type(tuple2)"
   ]
  },
  {
   "cell_type": "code",
   "execution_count": 44,
   "id": "689002ac-33b5-4ecd-b069-fc22d80f9455",
   "metadata": {},
   "outputs": [
    {
     "name": "stdout",
     "output_type": "stream",
     "text": [
      "(9,)\n",
      "(10,)\n"
     ]
    }
   ],
   "source": [
    "tuple3 = (9,) # 반드시 쉼표(',') 필요\n",
    "tuple4 = 10, # 반드시 쉼표(',') 필요\n",
    "print(tuple3)\n",
    "print(tuple4)"
   ]
  },
  {
   "cell_type": "markdown",
   "id": "722f4999-29bf-4bb5-8be3-818354942a43",
   "metadata": {},
   "source": [
    "소괄호가 있거나 없거나 모두 콤마를 반드시 입력"
   ]
  },
  {
   "cell_type": "markdown",
   "id": "ee836796-9125-4ce5-af6f-721d923028e3",
   "metadata": {},
   "source": [
    "### 튜플 다루기\n",
    "- 한번 생성된 튜플은 요소를 변경하거나 삭제할 수 없음\n",
    "- 튜플의 이런 특성으로 튜플은 한 번 생성한 후에 요소를 변경할 필요가 없거나 변경할 수 없도록 하고 싶\n",
    "을 때 주로 이용"
   ]
  },
  {
   "cell_type": "code",
   "execution_count": 47,
   "id": "c9db5cff-2a52-4889-8708-1fd17aa861a1",
   "metadata": {},
   "outputs": [
    {
     "ename": "TypeError",
     "evalue": "'tuple' object does not support item assignment",
     "output_type": "error",
     "traceback": [
      "\u001b[1;31m---------------------------------------------------------------------------\u001b[0m",
      "\u001b[1;31mTypeError\u001b[0m                                 Traceback (most recent call last)",
      "Cell \u001b[1;32mIn[47], line 2\u001b[0m\n\u001b[0;32m      1\u001b[0m tuple5 \u001b[38;5;241m=\u001b[39m (\u001b[38;5;241m1\u001b[39m,\u001b[38;5;241m2\u001b[39m,\u001b[38;5;241m3\u001b[39m,\u001b[38;5;241m4\u001b[39m)\n\u001b[1;32m----> 2\u001b[0m tuple5[\u001b[38;5;241m1\u001b[39m] \u001b[38;5;241m=\u001b[39m \u001b[38;5;241m5\u001b[39m\n",
      "\u001b[1;31mTypeError\u001b[0m: 'tuple' object does not support item assignment"
     ]
    }
   ],
   "source": [
    "tuple5 = (1,2,3,4)\n",
    "tuple5[1] = 5 # 한번 생성된 튜플의 요소는 변경되지 않음"
   ]
  },
  {
   "cell_type": "code",
   "execution_count": 48,
   "id": "1dbd0356-a363-47fb-bfe1-043d96aa9fff",
   "metadata": {},
   "outputs": [
    {
     "ename": "TypeError",
     "evalue": "'tuple' object doesn't support item deletion",
     "output_type": "error",
     "traceback": [
      "\u001b[1;31m---------------------------------------------------------------------------\u001b[0m",
      "\u001b[1;31mTypeError\u001b[0m                                 Traceback (most recent call last)",
      "Cell \u001b[1;32mIn[48], line 1\u001b[0m\n\u001b[1;32m----> 1\u001b[0m \u001b[38;5;28;01mdel\u001b[39;00m tuple5[\u001b[38;5;241m1\u001b[39m]\n",
      "\u001b[1;31mTypeError\u001b[0m: 'tuple' object doesn't support item deletion"
     ]
    }
   ],
   "source": [
    "del tuple5[1] # 한번 생성된 튜플 요소는 삭제되지 않음"
   ]
  },
  {
   "cell_type": "markdown",
   "id": "11689e17-c344-432e-9786-ab86e91810ce",
   "metadata": {},
   "source": [
    "- 튜플의 요소를 변경하거나 삭제하는 메서드는 튜플에서 이용할 수 없지만\n",
    "- index() 메서드나 count() 메서드처럼 요소를 변경하지 않는 메서드는 튜플에서도 사용할 수 있음\n",
    "\n",
    "- index() 메서드는 인자와 일치하는 첫 번째 항목의 위치를 반환하고\n",
    "- count() 메서드는 인자와 일치하는 항목의 개수를 반환"
   ]
  },
  {
   "cell_type": "code",
   "execution_count": 50,
   "id": "2e199014-e22e-4a85-9695-cc842431dddf",
   "metadata": {},
   "outputs": [
    {
     "data": {
      "text/plain": [
       "2"
      ]
     },
     "execution_count": 50,
     "metadata": {},
     "output_type": "execute_result"
    }
   ],
   "source": [
    "tuple6 = ('a', 'b', 'c', 'd', 'e', 'f')\n",
    "tuple6.index('c')"
   ]
  },
  {
   "cell_type": "code",
   "execution_count": 51,
   "id": "3c8b02fe-36f7-4646-9192-be70c5360969",
   "metadata": {},
   "outputs": [
    {
     "data": {
      "text/plain": [
       "3"
      ]
     },
     "execution_count": 51,
     "metadata": {},
     "output_type": "execute_result"
    }
   ],
   "source": [
    "tuple7 = ('a', 'a', 'a', 'b', 'b', 'c', 'd')\n",
    "tuple7.count('a')"
   ]
  },
  {
   "cell_type": "markdown",
   "id": "bfaab859-e9ee-4390-bb1c-8dc558fb15ed",
   "metadata": {},
   "source": [
    "## 4.5 세트\n",
    "- 세트는 수학의 집합 개념을 파이썬에서 이용할 수 있도록 만든 데이터 타입\n",
    "- 세트가 리스트와 튜플과 다른 점은 데이터의 순서가 없고 데이터를 중복해서 쓸 수 없다는 것\n",
    "- 세트는 리스트에서 사용했던 메서드 외에 집합의 기본이 되는 교집합,합집합, 차집합을 구하는 메서드\n",
    "를 사용할 수 있음"
   ]
  },
  {
   "cell_type": "code",
   "execution_count": 52,
   "id": "405be5ae-e816-4b0a-8171-dd6fb9241fac",
   "metadata": {},
   "outputs": [
    {
     "name": "stdout",
     "output_type": "stream",
     "text": [
      "{1, 2, 3}\n",
      "{1, 2, 3}\n"
     ]
    }
   ],
   "source": [
    "set1 = {1, 2, 3}\n",
    "set1a = {1, 2, 3, 3}\n",
    "print(set1)\n",
    "print(set1a)"
   ]
  },
  {
   "cell_type": "markdown",
   "id": "c0df43ed-cc1b-4f76-ba6c-997fd23b686f",
   "metadata": {},
   "source": [
    "### 세트의 교집합, 합집합, 차집합 구하기\n",
    "- 교집합(intersection): 두 집합 A와 B가 았을 때 집합 A에도 속하고 집합 B에도 속하는 원소로 이뤄진 집합.\n",
    "- 합집합(union): 두 집합 A와 때 있을 때 집합 A에 속하거나 집합 답에 속하는 원소로 이뤄진 집합.\n",
    "- 차집합(difference): 두 집합 A와 B가 있을 때 집합 A에는 속하고 집합 B에는 속하지 않는 원소로 이뤄진\n",
    "집합\n",
    "\n",
    "- 교집합,합집합,차집합을 위한 메서드는 각각 intersection(), union(), difference()"
   ]
  },
  {
   "cell_type": "code",
   "execution_count": 53,
   "id": "a2fd54d6-29be-4802-854f-f301c214f5ad",
   "metadata": {},
   "outputs": [
    {
     "data": {
      "text/plain": [
       "{4, 5}"
      ]
     },
     "execution_count": 53,
     "metadata": {},
     "output_type": "execute_result"
    }
   ],
   "source": [
    "A = {1, 2, 3, 4, 5} # Set A\n",
    "B = {4, 5, 6, 7, 8, 9, 10} # Set B\n",
    "A.intersection(B) # 집합 A에 대한 집합 B의 교집합(A∩B)"
   ]
  },
  {
   "cell_type": "code",
   "execution_count": 54,
   "id": "072b2a81-b7a8-4850-a20b-74d004399fe5",
   "metadata": {},
   "outputs": [
    {
     "data": {
      "text/plain": [
       "{1, 2, 3, 4, 5, 6, 7, 8, 9, 10}"
      ]
     },
     "execution_count": 54,
     "metadata": {},
     "output_type": "execute_result"
    }
   ],
   "source": [
    "A.union(B) # 집합 A에 대한 집합 B의 합집합(A∪B)"
   ]
  },
  {
   "cell_type": "code",
   "execution_count": 55,
   "id": "4dad35b1-3a76-4a56-b2b4-0c711c38225f",
   "metadata": {},
   "outputs": [
    {
     "data": {
      "text/plain": [
       "{1, 2, 3}"
      ]
     },
     "execution_count": 55,
     "metadata": {},
     "output_type": "execute_result"
    }
   ],
   "source": [
    "A.difference(B) # 집합 A에 대한 집합 B의 차집합(A-B)"
   ]
  },
  {
   "cell_type": "code",
   "execution_count": 56,
   "id": "3252cd3b-638b-4924-b59c-0c42b85cadab",
   "metadata": {},
   "outputs": [
    {
     "data": {
      "text/plain": [
       "{4, 5}"
      ]
     },
     "execution_count": 56,
     "metadata": {},
     "output_type": "execute_result"
    }
   ],
   "source": [
    "A = {1, 2, 3, 4, 5} # Set A\n",
    "B = {4, 5, 6, 7, 8, 9, 10} # Set B\n",
    "A & B # 집합 A에 대한 집합 B의 교집합(A∩B)"
   ]
  },
  {
   "cell_type": "code",
   "execution_count": 57,
   "id": "f8aed54d-f8a8-4fee-976b-e8b3f3939d8b",
   "metadata": {},
   "outputs": [
    {
     "data": {
      "text/plain": [
       "{1, 2, 3, 4, 5, 6, 7, 8, 9, 10}"
      ]
     },
     "execution_count": 57,
     "metadata": {},
     "output_type": "execute_result"
    }
   ],
   "source": [
    "A | B # 집합 A에 대한 집합 B의 합집합(A∪B)"
   ]
  },
  {
   "cell_type": "code",
   "execution_count": 58,
   "id": "734dca7e-d225-428f-a1d8-cf46f8583d1b",
   "metadata": {},
   "outputs": [
    {
     "data": {
      "text/plain": [
       "{1, 2, 3}"
      ]
     },
     "execution_count": 58,
     "metadata": {},
     "output_type": "execute_result"
    }
   ],
   "source": [
    "A - B # 집합 A에 대한 집합 B의 차집합(A-B)"
   ]
  },
  {
   "cell_type": "markdown",
   "id": "d3e529a8-6b67-49e4-b4a0-c934fece1606",
   "metadata": {},
   "source": [
    "### 리스트, 튜플, 세트 간 타입 변환"
   ]
  },
  {
   "cell_type": "code",
   "execution_count": 59,
   "id": "4ae6bb1b-7e59-4cf3-a1da-942a0e563f4a",
   "metadata": {},
   "outputs": [],
   "source": [
    "a = [1,2,3,4,5]"
   ]
  },
  {
   "cell_type": "code",
   "execution_count": 60,
   "id": "87e685d0-bfa3-4aac-8f6a-5836c0773d81",
   "metadata": {},
   "outputs": [
    {
     "data": {
      "text/plain": [
       "list"
      ]
     },
     "execution_count": 60,
     "metadata": {},
     "output_type": "execute_result"
    }
   ],
   "source": [
    "type(a)"
   ]
  },
  {
   "cell_type": "code",
   "execution_count": 61,
   "id": "69f313fd-84e8-4772-a3d3-48f6248b4005",
   "metadata": {},
   "outputs": [
    {
     "data": {
      "text/plain": [
       "(1, 2, 3, 4, 5)"
      ]
     },
     "execution_count": 61,
     "metadata": {},
     "output_type": "execute_result"
    }
   ],
   "source": [
    "b = tuple(a)\n",
    "b"
   ]
  },
  {
   "cell_type": "code",
   "execution_count": 62,
   "id": "9f33044c-633b-4e3a-9238-96d0a613111b",
   "metadata": {},
   "outputs": [
    {
     "data": {
      "text/plain": [
       "tuple"
      ]
     },
     "execution_count": 62,
     "metadata": {},
     "output_type": "execute_result"
    }
   ],
   "source": [
    "type(b)"
   ]
  },
  {
   "cell_type": "code",
   "execution_count": 63,
   "id": "7023a635-89a3-4a10-814b-fefd3025d254",
   "metadata": {},
   "outputs": [
    {
     "data": {
      "text/plain": [
       "{1, 2, 3, 4, 5}"
      ]
     },
     "execution_count": 63,
     "metadata": {},
     "output_type": "execute_result"
    }
   ],
   "source": [
    "c = set(a)\n",
    "c"
   ]
  },
  {
   "cell_type": "code",
   "execution_count": 64,
   "id": "38fd48fc-a8c8-4e78-9dad-7bdf0e6b79d7",
   "metadata": {},
   "outputs": [
    {
     "data": {
      "text/plain": [
       "set"
      ]
     },
     "execution_count": 64,
     "metadata": {},
     "output_type": "execute_result"
    }
   ],
   "source": [
    "type(c)"
   ]
  },
  {
   "cell_type": "code",
   "execution_count": 65,
   "id": "43dcd20f-bec6-48bc-af8f-8802783db7a0",
   "metadata": {},
   "outputs": [
    {
     "data": {
      "text/plain": [
       "[1, 2, 3, 4, 5]"
      ]
     },
     "execution_count": 65,
     "metadata": {},
     "output_type": "execute_result"
    }
   ],
   "source": [
    "list(b)"
   ]
  },
  {
   "cell_type": "code",
   "execution_count": 66,
   "id": "210da9de-2664-458c-ba94-af251515acd5",
   "metadata": {},
   "outputs": [
    {
     "data": {
      "text/plain": [
       "[1, 2, 3, 4, 5]"
      ]
     },
     "execution_count": 66,
     "metadata": {},
     "output_type": "execute_result"
    }
   ],
   "source": [
    "list(c)"
   ]
  },
  {
   "cell_type": "markdown",
   "id": "58eee987-6bca-4893-9db6-91e327b99627",
   "metadata": {},
   "source": [
    "## 4.6 딕셔너리"
   ]
  },
  {
   "cell_type": "code",
   "execution_count": 68,
   "id": "c0610e32-fbc3-41aa-bccf-f9b9ffcf0a1c",
   "metadata": {},
   "outputs": [
    {
     "data": {
      "text/plain": [
       "{'영국': '런던', '프랑스': '파리', '스위스': '베른', '호주': '멜버른', '덴마크': '코펜하겐'}"
      ]
     },
     "execution_count": 68,
     "metadata": {},
     "output_type": "execute_result"
    }
   ],
   "source": [
    "country_capital = {\"영국\":\"런던\", \"프랑스\":\"파리\", \"스위스\": \"베른\", \"호주\":\"멜버른\", \"덴마크\": \"코펜하겐\"}\n",
    "country_capital"
   ]
  },
  {
   "cell_type": "code",
   "execution_count": 69,
   "id": "23fe7ea1-3ce0-416d-a71a-4e887a3ec819",
   "metadata": {},
   "outputs": [
    {
     "data": {
      "text/plain": [
       "dict"
      ]
     },
     "execution_count": 69,
     "metadata": {},
     "output_type": "execute_result"
    }
   ],
   "source": [
    "type(country_capital)"
   ]
  },
  {
   "cell_type": "code",
   "execution_count": 70,
   "id": "cfca1506-2c89-4d44-b366-538b878af80b",
   "metadata": {},
   "outputs": [
    {
     "data": {
      "text/plain": [
       "'런던'"
      ]
     },
     "execution_count": 70,
     "metadata": {},
     "output_type": "execute_result"
    }
   ],
   "source": [
    "country_capital[\"영국\"]"
   ]
  },
  {
   "cell_type": "code",
   "execution_count": 71,
   "id": "7362ee20-5945-41d1-97d9-b888cc7b5ae1",
   "metadata": {},
   "outputs": [
    {
     "data": {
      "text/plain": [
       "{1: '버스', 3: '비행기', 4: '택시', 5: '자전거'}"
      ]
     },
     "execution_count": 71,
     "metadata": {},
     "output_type": "execute_result"
    }
   ],
   "source": [
    "dict_data1 = {1:\"버스\", 3: \"비행기\", 4:\"택시\", 5: \"자전거\"}\n",
    "dict_data1"
   ]
  },
  {
   "cell_type": "code",
   "execution_count": 72,
   "id": "97a93fab-e2b0-48a1-a49e-07dbf569cc2f",
   "metadata": {},
   "outputs": [
    {
     "data": {
      "text/plain": [
       "'비행기'"
      ]
     },
     "execution_count": 72,
     "metadata": {},
     "output_type": "execute_result"
    }
   ],
   "source": [
    "dict_data1[3]"
   ]
  },
  {
   "cell_type": "markdown",
   "id": "cc90a551-5955-4f71-b9f9-646934ad628e",
   "metadata": {},
   "source": [
    "dict_data1[3]에서 입력된 3은 딕셔너리 키이지, 리스트의 인덱스처럼 위치를 뜻하는 3이 아님"
   ]
  },
  {
   "cell_type": "code",
   "execution_count": 73,
   "id": "bf535583-f7d9-4840-9a46-022ac364f7ca",
   "metadata": {},
   "outputs": [
    {
     "name": "stdout",
     "output_type": "stream",
     "text": [
      "{1: 10, 2: 20, 3: 30, 4: 40, 5: 50}\n",
      "40\n"
     ]
    }
   ],
   "source": [
    "# 키와 값이 모두 숫자인 딕셔너리\n",
    "dict_data2 = {1:10, 2: 20, 3:30, 4: 40, 5:50}\n",
    "print(dict_data2)\n",
    "print(dict_data2[4])"
   ]
  },
  {
   "cell_type": "code",
   "execution_count": 74,
   "id": "51c240d0-e496-4755-8e58-dde6fffee50f",
   "metadata": {},
   "outputs": [
    {
     "name": "stdout",
     "output_type": "stream",
     "text": [
      "{'list_data1': [11, 12, 13], 'list_data2': [21, 22, 23]}\n",
      "[21, 22, 23]\n"
     ]
    }
   ],
   "source": [
    "# 키가 문자열이고 값은 리스트인 딕셔너리\n",
    "dict_data3 = {\"list_data1\":[11,12,13], \"list_data2\": [21,22,23]}\n",
    "print(dict_data3)\n",
    "print(dict_data3[\"list_data2\"])"
   ]
  },
  {
   "cell_type": "code",
   "execution_count": 76,
   "id": "eda95304-e903-4c09-9633-f98a1eba6c6a",
   "metadata": {},
   "outputs": [
    {
     "data": {
      "text/plain": [
       "{1: 10,\n",
       " 'dict_num': {1: 10, 2: 20},\n",
       " 'dict_list_tuple': {'A': [11, 12, 13], 'B': (21, 22, 23)}}"
      ]
     },
     "execution_count": 76,
     "metadata": {},
     "output_type": "execute_result"
    }
   ],
   "source": [
    "# 다양한 형태의 키와 값을 갖는 딕셔너리\n",
    "mixed_dict = {1:10, 'dict_num': {1:10, 2:20}, \"dict_list_tuple\": {\"A\":[11,12,13], \"B\":(21,22,23)}}\n",
    "mixed_dict"
   ]
  },
  {
   "cell_type": "markdown",
   "id": "e192616e-6f24-4e97-8db8-a9249f281a51",
   "metadata": {},
   "source": [
    "### 딕셔너리 다루기\n",
    "생성된 딕셔너리에 새로운 키와 값을 추가하거나 기존의 값을수정하려면 ’dict_variable[key] = value' 형태\n",
    "로 입력"
   ]
  },
  {
   "cell_type": "code",
   "execution_count": 77,
   "id": "b7392473-263c-4c4d-9259-49c0fd2c3e3c",
   "metadata": {},
   "outputs": [
    {
     "data": {
      "text/plain": [
       "{'영국': '런던', '프랑스': '파리', '스위스': '베른', '호주': '멜버른', '덴마크': '코펜하겐', '독일': '베를린'}"
      ]
     },
     "execution_count": 77,
     "metadata": {},
     "output_type": "execute_result"
    }
   ],
   "source": [
    "country_capital[\"독일\"]= \"베를린\"\n",
    "country_capital"
   ]
  },
  {
   "cell_type": "code",
   "execution_count": 79,
   "id": "fad03f7a-cef8-489b-9ed1-f9bed1a685d1",
   "metadata": {},
   "outputs": [
    {
     "data": {
      "text/plain": [
       "{'영국': '런던', '프랑스': '파리', '스위스': '베른', '호주': '캔버라', '덴마크': '코펜하겐', '독일': '베를린'}"
      ]
     },
     "execution_count": 79,
     "metadata": {},
     "output_type": "execute_result"
    }
   ],
   "source": [
    "# 기존 키의 값을 다른 값으로 변경하려면 기존 키를 지정하고 새로운 값을 할당\n",
    "country_capital[\"호주\"]= \"캔버라\"\n",
    "country_capital"
   ]
  },
  {
   "cell_type": "markdown",
   "id": "dfbe2a5e-022a-4b03-8897-c2ae4bc8989b",
   "metadata": {},
   "source": [
    "딕셔너리에서 데이터 삭제하기"
   ]
  },
  {
   "cell_type": "code",
   "execution_count": 80,
   "id": "3dfd0989-bdaf-4880-ac63-520057c56bc6",
   "metadata": {},
   "outputs": [
    {
     "data": {
      "text/plain": [
       "{'영국': '런던', '프랑스': '파리', '스위스': '베른', '호주': '캔버라', '독일': '베를린'}"
      ]
     },
     "execution_count": 80,
     "metadata": {},
     "output_type": "execute_result"
    }
   ],
   "source": [
    "del country_capital[\"덴마크\"]\n",
    "country_capital"
   ]
  },
  {
   "cell_type": "markdown",
   "id": "c645e22e-c793-4460-bb93-45f63707dbf6",
   "metadata": {},
   "source": [
    "딕셔너리 메서드 활용하기\n",
    "- 딕셔너리 메서드는 '딕셔너리데이터.메서드이름()'과 같은 형태로 사용할 수 있음"
   ]
  },
  {
   "cell_type": "code",
   "execution_count": 81,
   "id": "61d7aa5e-9223-42c4-afb2-40cae653db66",
   "metadata": {},
   "outputs": [],
   "source": [
    "fruit_code = {\"사과\":101, \"배\":102, \"딸기\":103, \"포도\":104, \"바나나\":105}"
   ]
  },
  {
   "cell_type": "code",
   "execution_count": 82,
   "id": "02b4a67e-e198-4cd4-8e6a-c43244b6561e",
   "metadata": {},
   "outputs": [
    {
     "name": "stdout",
     "output_type": "stream",
     "text": [
      "dict_keys(['사과', '배', '딸기', '포도', '바나나'])\n"
     ]
    }
   ],
   "source": [
    "print(fruit_code.keys())"
   ]
  },
  {
   "cell_type": "code",
   "execution_count": 83,
   "id": "5925c38a-1ede-4979-b036-91f9a9f91888",
   "metadata": {},
   "outputs": [
    {
     "name": "stdout",
     "output_type": "stream",
     "text": [
      "dict_values([101, 102, 103, 104, 105])\n"
     ]
    }
   ],
   "source": [
    "print(fruit_code.values())"
   ]
  },
  {
   "cell_type": "code",
   "execution_count": 84,
   "id": "9833dfba-d47a-45f0-86ad-23dd90d319e7",
   "metadata": {},
   "outputs": [
    {
     "name": "stdout",
     "output_type": "stream",
     "text": [
      "dict_items([('사과', 101), ('배', 102), ('딸기', 103), ('포도', 104), ('바나나', 105)])\n"
     ]
    }
   ],
   "source": [
    "print(fruit_code.items())"
   ]
  },
  {
   "cell_type": "markdown",
   "id": "8019b22f-a13e-47cd-b825-d05a2e4b1886",
   "metadata": {},
   "source": [
    "- 딕셔너리 메서드인 keys(), values(), items()는 각각 dict_keys, dict_values, dict_iterns 라는 데이터 형태로\n",
    "값을 반환\n",
    "- 딕셔너리는 리스트로 변환해서 데이터를 처리하면 편리한 경우가 있음"
   ]
  },
  {
   "cell_type": "code",
   "execution_count": 85,
   "id": "ce90ded0-d797-4d4a-a528-2731bb05181f",
   "metadata": {},
   "outputs": [
    {
     "data": {
      "text/plain": [
       "['사과', '배', '딸기', '포도', '바나나']"
      ]
     },
     "execution_count": 85,
     "metadata": {},
     "output_type": "execute_result"
    }
   ],
   "source": [
    "list(fruit_code.keys())"
   ]
  },
  {
   "cell_type": "code",
   "execution_count": 86,
   "id": "593d58c3-06b5-4d18-bf12-891f12d70054",
   "metadata": {},
   "outputs": [
    {
     "data": {
      "text/plain": [
       "[101, 102, 103, 104, 105]"
      ]
     },
     "execution_count": 86,
     "metadata": {},
     "output_type": "execute_result"
    }
   ],
   "source": [
    "list(fruit_code.values())"
   ]
  },
  {
   "cell_type": "code",
   "execution_count": 87,
   "id": "7ab15494-2fa4-4923-b988-0aed1bb8e358",
   "metadata": {},
   "outputs": [
    {
     "data": {
      "text/plain": [
       "[('사과', 101), ('배', 102), ('딸기', 103), ('포도', 104), ('바나나', 105)]"
      ]
     },
     "execution_count": 87,
     "metadata": {},
     "output_type": "execute_result"
    }
   ],
   "source": [
    "list(fruit_code.items())"
   ]
  },
  {
   "cell_type": "code",
   "execution_count": 89,
   "id": "1dded7b0-f65e-4b90-a685-bf0e01fbd597",
   "metadata": {},
   "outputs": [
    {
     "data": {
      "text/plain": [
       "{'사과': 101, '배': 102, '딸기': 103, '포도': 104, '바나나': 105, '오렌지': 106, '수박': 107}"
      ]
     },
     "execution_count": 89,
     "metadata": {},
     "output_type": "execute_result"
    }
   ],
   "source": [
    "# update()를 이용해 기존의 딕셔너리 데이터에 새로운 딕셔너리 데이터를 추가\n",
    "fruit_code2 = {\"오렌지\":106, \"수박\":107}\n",
    "fruit_code.update(fruit_code2)\n",
    "fruit_code"
   ]
  },
  {
   "cell_type": "code",
   "execution_count": 90,
   "id": "340feec5-2cca-44c7-989f-9497d1308477",
   "metadata": {},
   "outputs": [
    {
     "name": "stdout",
     "output_type": "stream",
     "text": [
      "{}\n"
     ]
    },
    {
     "data": {
      "text/plain": [
       "dict"
      ]
     },
     "execution_count": 90,
     "metadata": {},
     "output_type": "execute_result"
    }
   ],
   "source": [
    "# clear() 메서드는 딕셔너리의 모든 항목을 삭제\n",
    "fruit_code2.clear()\n",
    "print(fruit_code2)\n",
    "type(fruit_code2)"
   ]
  }
 ],
 "metadata": {
  "kernelspec": {
   "display_name": "Python 3 (ipykernel)",
   "language": "python",
   "name": "python3"
  },
  "language_info": {
   "codemirror_mode": {
    "name": "ipython",
    "version": 3
   },
   "file_extension": ".py",
   "mimetype": "text/x-python",
   "name": "python",
   "nbconvert_exporter": "python",
   "pygments_lexer": "ipython3",
   "version": "3.12.7"
  }
 },
 "nbformat": 4,
 "nbformat_minor": 5
}
