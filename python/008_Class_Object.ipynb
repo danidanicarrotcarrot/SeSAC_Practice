{
 "cells": [
  {
   "cell_type": "markdown",
   "id": "84cc7ee8-a190-4883-b123-f6cf7cb64ab0",
   "metadata": {},
   "source": [
    "# 객체와 클래스"
   ]
  },
  {
   "cell_type": "code",
   "execution_count": 1,
   "id": "7d7bfda0-cdf2-4938-9647-d42770c0b462",
   "metadata": {},
   "outputs": [],
   "source": [
    "class Bicycle(): #클래스 선언\n",
    "    pass"
   ]
  },
  {
   "cell_type": "code",
   "execution_count": 2,
   "id": "27d9b2eb-f53e-4b24-ae63-dd3ea8a010fa",
   "metadata": {},
   "outputs": [],
   "source": [
    "my_bicycle = Bicycle()"
   ]
  },
  {
   "cell_type": "code",
   "execution_count": 3,
   "id": "ba168892-0225-4243-b9c4-06e85963658d",
   "metadata": {},
   "outputs": [
    {
     "data": {
      "text/plain": [
       "<__main__.Bicycle at 0x2ba26c76d20>"
      ]
     },
     "execution_count": 3,
     "metadata": {},
     "output_type": "execute_result"
    }
   ],
   "source": [
    "my_bicycle"
   ]
  },
  {
   "cell_type": "code",
   "execution_count": 5,
   "id": "a548c92c-97e6-4eef-8fc1-42f74519db37",
   "metadata": {},
   "outputs": [],
   "source": [
    "# 객체에 속성을 설정 > 객체명.변수명 = 속성값\n",
    "my_bicycle.wheel_size = 26\n",
    "my_bicycle.color = 'black'"
   ]
  },
  {
   "cell_type": "code",
   "execution_count": 6,
   "id": "5af9cf7b-c4af-4cd2-ba8c-8e8baf2aa829",
   "metadata": {},
   "outputs": [
    {
     "name": "stdout",
     "output_type": "stream",
     "text": [
      "바퀴 크기: 26\n",
      "색상: black\n"
     ]
    }
   ],
   "source": [
    "# 객체의 속성값을 가져와서 출력\n",
    "print(\"바퀴 크기:\", my_bicycle.wheel_size) # 객체의 속성 출력\n",
    "print(\"색상:\", my_bicycle.color)"
   ]
  },
  {
   "cell_type": "code",
   "execution_count": 13,
   "id": "98731f19-d06d-415f-ae51-72639d44163f",
   "metadata": {},
   "outputs": [],
   "source": [
    "# 선언한 클래스에 함수 추가\n",
    "class Bicycle():\n",
    "    \n",
    "    def move(self, speed): # 지정된 속도로 이동\n",
    "        print(\"자전거: 시속 {0}킬로미터로 전진\".format(speed))\n",
    "    \n",
    "    def turn(self, direction): # 좌/우 회전\n",
    "        print(\"자전거: {0}회전\".format(direction))\n",
    "    \n",
    "    def stop(self): # 정지 동\n",
    "        print(\"자전거({0}, {1}): 정지 \".format(self.wheel_size, self.color))"
   ]
  },
  {
   "cell_type": "code",
   "execution_count": 14,
   "id": "9c46fd99-4cee-4586-9607-fa3bff4b1a3f",
   "metadata": {},
   "outputs": [
    {
     "name": "stdout",
     "output_type": "stream",
     "text": [
      "자전거: 시속 30킬로미터로 전진\n",
      "자전거: 좌회전\n",
      "자전거(26, black): 정지 \n"
     ]
    }
   ],
   "source": [
    "my_bicycle = Bicycle() # Bicycle 클래스의 인스턴스인 my_bicycle 객체 생성\n",
    "\n",
    "my_bicycle.wheel_size = 26 # 객체의 속성 설정\n",
    "my_bicycle.color = 'black'\n",
    "\n",
    "my_bicycle.move(30) # 객체의 메서드 호출\n",
    "my_bicycle.turn('좌')\n",
    "my_bicycle.stop()"
   ]
  },
  {
   "cell_type": "code",
   "execution_count": 15,
   "id": "57b8ca9e-e1e7-4e99-aee6-8814d7978e8b",
   "metadata": {},
   "outputs": [
    {
     "name": "stdout",
     "output_type": "stream",
     "text": [
      "자전거: 시속 20킬로미터로 전진\n",
      "자전거: 좌회전\n",
      "자전거(27, red): 정지 \n"
     ]
    }
   ],
   "source": [
    "# 자전거 (Bicycle) 클래스를 선언한 후 두 개의 객체(bicyclel, bicycle2)를 생성하고 활용\n",
    "bicycle1 = Bicycle() # Bicycle 클래스의 인스턴스인 bicycle1 객체 생성\n",
    "\n",
    "bicycle1.wheel_size = 27 # 객체의 속성 설정\n",
    "bicycle1.color = 'red'\n",
    "\n",
    "bicycle1.move(20)\n",
    "bicycle1.turn('좌')\n",
    "bicycle1.stop()"
   ]
  },
  {
   "cell_type": "code",
   "execution_count": 16,
   "id": "6e0442f0-4b0e-48bb-8f74-cb370e887b49",
   "metadata": {},
   "outputs": [
    {
     "name": "stdout",
     "output_type": "stream",
     "text": [
      "자전거: 시속 15킬로미터로 전진\n",
      "자전거: 우회전\n",
      "자전거(24, blue): 정지 \n"
     ]
    }
   ],
   "source": [
    "bicycle2 = Bicycle() # Bicycle 클래스의 인스턴스인 bicycle2 객체 생성\n",
    "\n",
    "bicycle2.wheel_size = 24 # 객체의 속성 설정\n",
    "bicycle2.color = 'blue'\n",
    "\n",
    "bicycle2.move(15)\n",
    "bicycle2.turn('우')\n",
    "bicycle2.stop()"
   ]
  },
  {
   "cell_type": "code",
   "execution_count": 18,
   "id": "9bf735d8-2ec0-44b8-a349-fa5d3ce94166",
   "metadata": {},
   "outputs": [],
   "source": [
    "class Bicycle():\n",
    "    def __init__(self, wheel_size, color):\n",
    "        self.wheel_size = wheel_size\n",
    "        self.color = color\n",
    "    \n",
    "    def move(self, speed):\n",
    "        print(\"자전거: 시속 {0}킬로미터로 전진\".format(speed))\n",
    "    \n",
    "    def turn(self, direction):\n",
    "        print(\"자전거: {0}회전\".format(direction))\n",
    "    \n",
    "    def stop(self):\n",
    "        print(\"자전거({0}, {1}): 정지 \".format(self.wheel_size, self.color))"
   ]
  },
  {
   "cell_type": "code",
   "execution_count": 19,
   "id": "78077866-7697-45fc-9604-61fcf3a6cf21",
   "metadata": {},
   "outputs": [
    {
     "name": "stdout",
     "output_type": "stream",
     "text": [
      "자전거: 시속 30킬로미터로 전진\n",
      "자전거: 좌회전\n",
      "자전거(26, black): 정지 \n"
     ]
    }
   ],
   "source": [
    "my_bicycle = Bicycle(26, 'black') # 객체 생성과 동시에 속성값을 지정.\n",
    "\n",
    "my_bicycle.move(30) # 객체 메서드 호출\n",
    "my_bicycle.turn('좌')\n",
    "my_bicycle.stop()"
   ]
  },
  {
   "cell_type": "code",
   "execution_count": 20,
   "id": "81787528-6742-4c08-a3b8-93c3a5c7ac87",
   "metadata": {},
   "outputs": [],
   "source": [
    "class Car():\n",
    "    \n",
    "    instance_count = 0 # 클래스 변수 생성 및 초기화\n",
    "    \n",
    "    def __init__(self, size, color):\n",
    "        self.size = size # 인스턴스 변수 생성 및 초기화\n",
    "        self.color = color # 인스턴스 변수 생성 및 초기화\n",
    "        Car.instance_count = Car.instance_count + 1 # 클래스 변수 이용\n",
    "        print(\"자동차 객체의 수: {0}\".format(Car.instance_count))\n",
    "    \n",
    "    def move(self):\n",
    "        print(\"자동차({0} & {1})가 움직입니다.\".format(self.size, self.color))"
   ]
  },
  {
   "cell_type": "code",
   "execution_count": 21,
   "id": "9759d418-5794-484e-976a-55c69d2c5871",
   "metadata": {},
   "outputs": [
    {
     "name": "stdout",
     "output_type": "stream",
     "text": [
      "자동차 객체의 수: 1\n",
      "자동차 객체의 수: 2\n"
     ]
    }
   ],
   "source": [
    "car1 = Car('samll', 'white')\n",
    "car2 = Car('big', 'black')"
   ]
  },
  {
   "cell_type": "code",
   "execution_count": 22,
   "id": "4006aeba-5169-45fb-b9e4-f7bd26dea24f",
   "metadata": {},
   "outputs": [
    {
     "name": "stdout",
     "output_type": "stream",
     "text": [
      "Car 클래스의 총 인스턴스 개수:2\n"
     ]
    }
   ],
   "source": [
    "print(\"Car 클래스의 총 인스턴스 개수:{}\".format(Car.instance_count))"
   ]
  },
  {
   "cell_type": "code",
   "execution_count": 23,
   "id": "a064cf25-9429-48f8-9b05-90cdc4827579",
   "metadata": {
    "scrolled": true
   },
   "outputs": [
    {
     "name": "stdout",
     "output_type": "stream",
     "text": [
      "Car 클래스의 총 인스턴스 개수:2\n",
      "Car 클래스의 총 인스턴스 개수:2\n"
     ]
    }
   ],
   "source": [
    "print(\"Car 클래스의 총 인스턴스 개수:{}\".format(car1.instance_count))\n",
    "print(\"Car 클래스의 총 인스턴스 개수:{}\".format(car2.instance_count))"
   ]
  },
  {
   "cell_type": "code",
   "execution_count": 24,
   "id": "96f2f53b-50bb-475e-b1eb-57f68bfe924d",
   "metadata": {},
   "outputs": [
    {
     "name": "stdout",
     "output_type": "stream",
     "text": [
      "자동차(samll & white)가 움직입니다.\n",
      "자동차(big & black)가 움직입니다.\n"
     ]
    }
   ],
   "source": [
    "car1.move()\n",
    "car2.move()"
   ]
  },
  {
   "cell_type": "code",
   "execution_count": 26,
   "id": "5cd50339-c278-483c-97f9-67825dff1016",
   "metadata": {},
   "outputs": [],
   "source": [
    "class Car2():\n",
    "    count = 0; # 클래스 변수 생성 및 초기화\n",
    "    \n",
    "    def __init__(self, size, num):\n",
    "        self.size = size # 인스턴스 변수 생성 및 초기화\n",
    "        self.count = num # 인스턴스 변수 생성 및 초기화\n",
    "        Car2.count = Car2.count + 1 # 클래스 변수 이용\n",
    "        print(\"자동차 객체의 수: Car2.count = {0}\".format(Car2.count))\n",
    "        print(\"인스턴스 변수 초기화: self.count = {0}\".format(self.count))\n",
    "    \n",
    "    def move(self):\n",
    "        print(\"자동차({0} & {1})가 움직입니다.\".format(self.size, self.color))"
   ]
  },
  {
   "cell_type": "code",
   "execution_count": 27,
   "id": "8fcdb672-d5a8-4f6a-84a7-fad60203f71f",
   "metadata": {},
   "outputs": [
    {
     "name": "stdout",
     "output_type": "stream",
     "text": [
      "자동차 객체의 수: Car2.count = 1\n",
      "인스턴스 변수 초기화: self.count = 20\n",
      "자동차 객체의 수: Car2.count = 2\n",
      "인스턴스 변수 초기화: self.count = 30\n"
     ]
    }
   ],
   "source": [
    "car1 = Car2(\"big\", 20)\n",
    "car2 = Car2(\"small\", 30)"
   ]
  },
  {
   "cell_type": "code",
   "execution_count": 29,
   "id": "3937a266-13f1-49b9-9950-5161080806d8",
   "metadata": {},
   "outputs": [],
   "source": [
    "# Car 클래스 선언\n",
    "class Car():\n",
    "    \n",
    "    instance_count = 0 # 클래스 변수 생성 및 초기화\n",
    "    \n",
    "    # 초기화 함수(인스턴스 메서드)\n",
    "    def __init__(self, size, color):\n",
    "        self.size = size # 인스턴스 변수 생성 및 초기화\n",
    "        self.color = color # 인스턴스 변수 생성 및 초기화\n",
    "        Car.instance_count = Car.instance_count + 1 # 클래스 변수 이용\n",
    "        print(\"자동차 객체의 수: {0}\".format(Car.instance_count))\n",
    "    \n",
    "    # 인스턴스 메서드\n",
    "    def move(self, speed):\n",
    "        self.speed = speed # 인스턴스 변수 생성\n",
    "        print(\"자동차({0} & {1})가 \".format(self.size, self.color), end='')\n",
    "        print(\"시속 {0}킬로미터로 전진\".format(self.speed))\n",
    "        \n",
    "    # 인스턴스 메서드\n",
    "    def auto_cruise(self):\n",
    "        print(\"자율 주행 모드\")\n",
    "        self.move(self.speed) # move() 함수의 인자로 인스턴스 변수를"
   ]
  },
  {
   "cell_type": "code",
   "execution_count": 30,
   "id": "5104d9a0-573b-47a3-aec6-34cc9e9f4713",
   "metadata": {},
   "outputs": [
    {
     "name": "stdout",
     "output_type": "stream",
     "text": [
      "자동차 객체의 수: 1\n",
      "자동차 객체의 수: 2\n",
      "자동차(small & red)가 시속 80킬로미터로 전진\n",
      "자동차(big & green)가 시속 100킬로미터로 전진\n",
      "자율 주행 모드\n",
      "자동차(small & red)가 시속 80킬로미터로 전진\n",
      "자율 주행 모드\n",
      "자동차(big & green)가 시속 100킬로미터로 전진\n"
     ]
    }
   ],
   "source": [
    "car1 = Car(\"small\", \"red\") # 객체 생성 (car1)\n",
    "car2 = Car(\"big\", \"green\") # 객체 생성 (car2)\n",
    "\n",
    "car1.move(80) #객체(car1)의 move() 메서드 호출\n",
    "car2.move(100) #객체(car2)의 move() 메서드 호출\n",
    "\n",
    "car1.auto_cruise() #객체(car1)의 auto_cruise() 메서드 호출\n",
    "car2.auto_cruise() #객체(car2)의 auto_cruise() 메서드 호출"
   ]
  },
  {
   "cell_type": "code",
   "execution_count": 31,
   "id": "01fa556f-a988-457d-ab14-458c339e012f",
   "metadata": {},
   "outputs": [],
   "source": [
    "# Car 클래스 선언\n",
    "class Car():\n",
    "    # def __init__(self, size, color): => 앞의 코드 활용\n",
    "    # def move(self, speed): => 앞의 코드 활용\n",
    "    # def auto_cruise(self): => 앞의 코드 활용\n",
    "    \n",
    "    # 정적 메서드\n",
    "    @staticmethod\n",
    "    def check_type(model_code):\n",
    "        if(model_code >= 20):\n",
    "            print(\"이 자동차는 전기차입니다.\")\n",
    "        elif(10 <= model_code < 20):\n",
    "            print(\"이 자동차는 가솔린차입니다.\")\n",
    "        else:\n",
    "            print(\"이 자동차는 디젤차입니다.\")"
   ]
  },
  {
   "cell_type": "code",
   "execution_count": 32,
   "id": "39fb3d6e-b44c-4db6-a803-ab5ea932784a",
   "metadata": {},
   "outputs": [
    {
     "name": "stdout",
     "output_type": "stream",
     "text": [
      "이 자동차는 전기차입니다.\n",
      "이 자동차는 디젤차입니다.\n"
     ]
    }
   ],
   "source": [
    "Car.check_type(25)\n",
    "Car.check_type(2)"
   ]
  },
  {
   "cell_type": "code",
   "execution_count": 33,
   "id": "9ad321c1-f179-4ce4-9263-24a3c3c314db",
   "metadata": {},
   "outputs": [],
   "source": [
    "# Car 클래스 선언\n",
    "class Car():\n",
    "    instance_count = 0 # 클래스 변수\n",
    "    \n",
    "    # 초기화 함수(인스턴스 메서드)\n",
    "    def __init__(self, size, color):\n",
    "        self.size = size # 인스턴스 변수\n",
    "        self.color = color # 인스턴스 변수\n",
    "        Car.instance_count = Car.instance_count + 1\n",
    "    \n",
    "    # def move(self, speed): => 앞의 코드 활용\n",
    "    # def auto_cruise(self): => 앞의 코드 활용\n",
    "    ##@staticmethod\n",
    "    # def check_type(model_code): => 앞의 코드 활용\n",
    "    \n",
    "    # 클래스 메서드\n",
    "    @classmethod\n",
    "    def count_instance(cls):\n",
    "        print(\"자동차 객체의 개수: {0}\".format(cls.instance_count))"
   ]
  },
  {
   "cell_type": "code",
   "execution_count": 34,
   "id": "9e459b23-a1da-4e36-b010-5775fd6590db",
   "metadata": {},
   "outputs": [
    {
     "name": "stdout",
     "output_type": "stream",
     "text": [
      "자동차 객체의 개수: 0\n",
      "자동차 객체의 개수: 1\n",
      "자동차 객체의 개수: 2\n"
     ]
    }
   ],
   "source": [
    "Car.count_instance() # 객체 생성 전에 클래스 메서드 호출\n",
    "\n",
    "car1 = Car(\"small\", \"red\") # 첫 번째 객체 생성\n",
    "Car.count_instance() # 클래스 메서드 호출\n",
    "\n",
    "car2 = Car(\"big\", \"green\") # 두 번째 객체 생성\n",
    "Car.count_instance() # 클래스 메서드 호출"
   ]
  },
  {
   "cell_type": "code",
   "execution_count": 35,
   "id": "dc64f603-dfd7-440c-8295-83cde4b98ea7",
   "metadata": {},
   "outputs": [],
   "source": [
    "class Bicycle():\n",
    "    def __init__(self, wheel_size, color):\n",
    "        self.wheel_size = wheel_size\n",
    "        self.color = color\n",
    "    \n",
    "    def move(self, speed):\n",
    "        print(\"자전거: 시속 {0}킬로미터로 전진\".format(speed))\n",
    "   \n",
    "    def turn(self, direction):\n",
    "        print(\"자전거: {0}회전\".format(direction))\n",
    "    \n",
    "    def stop(self):\n",
    "        print(\"자전거({0}, {1}): 정지 \".format(self.wheel_size, self.color))"
   ]
  },
  {
   "cell_type": "code",
   "execution_count": 36,
   "id": "588a55c3-2005-4952-9f31-f54cce47de0c",
   "metadata": {},
   "outputs": [],
   "source": [
    "# 자전거 클래스를 상속하는 FoldingBicycle 클래스 생성\n",
    "class FoldingBicycle(Bicycle):\n",
    "\n",
    "    def __init__(self, wheel_size, color, state): # FoldingBicycle 초기\n",
    "        Bicycle.__init__(self, wheel_size, color) # Bicycle의 초기화 재\n",
    "        #super().__init__(wheel_size, color) # super()도 사용 가능\n",
    "        self.state = state # 자식 클래스에서 새로 추가한 변수\n",
    "    \n",
    "    def fold(self):\n",
    "        self.state = 'folding'\n",
    "        print(\"자전거: 접기, state = {0}\".format(self.state))\n",
    "    \n",
    "    def unfold(self):\n",
    "        self.state = 'unfolding'\n",
    "        print(\"자전거: 펴기, state = {0}\".format(self.state))"
   ]
  },
  {
   "cell_type": "code",
   "execution_count": 37,
   "id": "84caa4b9-966b-469c-9f6f-a63bf4860b40",
   "metadata": {},
   "outputs": [
    {
     "name": "stdout",
     "output_type": "stream",
     "text": [
      "자전거: 시속 20킬로미터로 전진\n",
      "자전거: 접기, state = folding\n",
      "자전거: 펴기, state = unfolding\n"
     ]
    }
   ],
   "source": [
    "folding_bicycle = FoldingBicycle(27, 'white', 'unfolding') # 객체 생성\n",
    "folding_bicycle.move(20) # 부모 클래스의 함수(메서드) 호출\n",
    "folding_bicycle.fold() # 자식 클래스에서 정의한 함수 호출\n",
    "folding_bicycle.unfold()"
   ]
  },
  {
   "cell_type": "code",
   "execution_count": null,
   "id": "d14b68ec-02a5-439a-9202-d52ab78971cb",
   "metadata": {},
   "outputs": [],
   "source": []
  }
 ],
 "metadata": {
  "kernelspec": {
   "display_name": "Python 3 (ipykernel)",
   "language": "python",
   "name": "python3"
  },
  "language_info": {
   "codemirror_mode": {
    "name": "ipython",
    "version": 3
   },
   "file_extension": ".py",
   "mimetype": "text/x-python",
   "name": "python",
   "nbconvert_exporter": "python",
   "pygments_lexer": "ipython3",
   "version": "3.12.7"
  }
 },
 "nbformat": 4,
 "nbformat_minor": 5
}
