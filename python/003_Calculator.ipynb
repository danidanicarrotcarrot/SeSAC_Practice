{
 "cells": [
  {
   "cell_type": "markdown",
   "id": "ed9bdc19-fccc-4d0f-aff6-180a95dcd308",
   "metadata": {},
   "source": [
    "# 3장 파이썬을 계산기처럼 이용하기\n",
    "\n",
    "## 3.1 간단한 사칙 연산\n",
    "- 파이썬에서 사칙 연산을 하려면 더하기(+), 빼기(-), 곱하기(*), 나누기(/)기호를 이용"
   ]
  },
  {
   "cell_type": "code",
   "execution_count": 1,
   "id": "ea726917-de4a-4704-a2af-35395b39d5ea",
   "metadata": {},
   "outputs": [
    {
     "data": {
      "text/plain": [
       "2"
      ]
     },
     "execution_count": 1,
     "metadata": {},
     "output_type": "execute_result"
    }
   ],
   "source": [
    "1+1"
   ]
  },
  {
   "cell_type": "code",
   "execution_count": 2,
   "id": "34b702a9-d0c8-4786-b1ed-7ef0876ea269",
   "metadata": {},
   "outputs": [
    {
     "data": {
      "text/plain": [
       "3"
      ]
     },
     "execution_count": 2,
     "metadata": {},
     "output_type": "execute_result"
    }
   ],
   "source": [
    "5-2"
   ]
  },
  {
   "cell_type": "markdown",
   "id": "8935da0e-7017-40de-9c4b-77e229eb2ffe",
   "metadata": {},
   "source": [
    "- 파이썬에서는 숫자와 연산자 사이의 공백은 무시하므로 이 공백은 있어도 되고 없어도 됨"
   ]
  },
  {
   "cell_type": "code",
   "execution_count": 3,
   "id": "1e353394-ed6c-43b0-99fb-645d65bacfd1",
   "metadata": {},
   "outputs": [
    {
     "data": {
      "text/plain": [
       "30"
      ]
     },
     "execution_count": 3,
     "metadata": {},
     "output_type": "execute_result"
    }
   ],
   "source": [
    "15*2"
   ]
  },
  {
   "cell_type": "code",
   "execution_count": 4,
   "id": "92205f09-f3ba-42eb-b095-b33d1e7dd1aa",
   "metadata": {},
   "outputs": [
    {
     "data": {
      "text/plain": [
       "5.0"
      ]
     },
     "execution_count": 4,
     "metadata": {},
     "output_type": "execute_result"
    }
   ],
   "source": [
    "10/2"
   ]
  },
  {
   "cell_type": "markdown",
   "id": "e42c570e-28a8-44c9-9055-d9d8e85f4a47",
   "metadata": {},
   "source": [
    "- 파이썬에서 나눗셈 연산은 실수로 처리하기 때문"
   ]
  },
  {
   "cell_type": "code",
   "execution_count": 5,
   "id": "625f35ed-df9f-4adc-9f23-b673adc95a6b",
   "metadata": {},
   "outputs": [
    {
     "data": {
      "text/plain": [
       "6.5"
      ]
     },
     "execution_count": 5,
     "metadata": {},
     "output_type": "execute_result"
    }
   ],
   "source": [
    "1.2 + 5.3"
   ]
  },
  {
   "cell_type": "code",
   "execution_count": 6,
   "id": "cf0dcb8a-1d96-49b2-9272-39510fc87497",
   "metadata": {},
   "outputs": [
    {
     "data": {
      "text/plain": [
       "-1.5"
      ]
     },
     "execution_count": 6,
     "metadata": {},
     "output_type": "execute_result"
    }
   ],
   "source": [
    "3.5 - 5.0"
   ]
  },
  {
   "cell_type": "code",
   "execution_count": 7,
   "id": "a01f4d66-3fc0-4b5f-b82c-9b4a0c6868b9",
   "metadata": {},
   "outputs": [
    {
     "data": {
      "text/plain": [
       "2.8"
      ]
     },
     "execution_count": 7,
     "metadata": {},
     "output_type": "execute_result"
    }
   ],
   "source": [
    "1.4 * 2"
   ]
  },
  {
   "cell_type": "code",
   "execution_count": 8,
   "id": "8bc798c5-0a5d-4107-a5dd-f9ff1e369bde",
   "metadata": {},
   "outputs": [
    {
     "data": {
      "text/plain": [
       "2.5"
      ]
     },
     "execution_count": 8,
     "metadata": {},
     "output_type": "execute_result"
    }
   ],
   "source": [
    "5/2"
   ]
  },
  {
   "cell_type": "markdown",
   "id": "1803406e-3511-4c91-948a-a69758d56eaf",
   "metadata": {},
   "source": [
    "- 연산 기호가 두 개 이상일 경우 일반적인 연산 규칙 ('괄호 안 계산 -> 지수 계산 -> 곱셈과 나눗셈 계산 -> 덧셈과 뺄셈 계산' 순서로 연산\n",
    "- 같은 순위의 연산일 경우 왼쪽에서 오른쪽 순서로 계산, 중복된 괄호가 있을 경우 안쪽 괄호부터 계산을 따름"
   ]
  },
  {
   "cell_type": "code",
   "execution_count": 9,
   "id": "17d50cd5-b1f3-4a7b-ac59-51bc457690cd",
   "metadata": {},
   "outputs": [
    {
     "data": {
      "text/plain": [
       "14"
      ]
     },
     "execution_count": 9,
     "metadata": {},
     "output_type": "execute_result"
    }
   ],
   "source": [
    "2 + 3 * 4"
   ]
  },
  {
   "cell_type": "code",
   "execution_count": 10,
   "id": "f68ac191-3508-4377-b909-93c572d5c982",
   "metadata": {},
   "outputs": [
    {
     "data": {
      "text/plain": [
       "3.5"
      ]
     },
     "execution_count": 10,
     "metadata": {},
     "output_type": "execute_result"
    }
   ],
   "source": [
    "3 / 2 * 4 - 5 / 2"
   ]
  },
  {
   "cell_type": "code",
   "execution_count": 11,
   "id": "59f757e1-596f-420d-b682-cd0858427380",
   "metadata": {},
   "outputs": [
    {
     "data": {
      "text/plain": [
       "8.0"
      ]
     },
     "execution_count": 11,
     "metadata": {},
     "output_type": "execute_result"
    }
   ],
   "source": [
    "10 / 5 + (5 - 2) * 2"
   ]
  },
  {
   "cell_type": "code",
   "execution_count": 12,
   "id": "073921ae-75a2-4be2-8493-eb2f9ed04a20",
   "metadata": {},
   "outputs": [
    {
     "data": {
      "text/plain": [
       "11"
      ]
     },
     "execution_count": 12,
     "metadata": {},
     "output_type": "execute_result"
    }
   ],
   "source": [
    "(5 * 4 - 15) + ((5 - 2) * (9 - 7))"
   ]
  },
  {
   "cell_type": "markdown",
   "id": "05c36e08-a1e5-4ac6-8b88-7e86d17d7e13",
   "metadata": {},
   "source": [
    "- 파이썬에는 자료의 형식(데이터 타입)을 알려주는 type()이라는 함수"
   ]
  },
  {
   "cell_type": "code",
   "execution_count": 13,
   "id": "dcc392c4-f1d7-4064-ab82-cab3632c7d3b",
   "metadata": {},
   "outputs": [
    {
     "data": {
      "text/plain": [
       "int"
      ]
     },
     "execution_count": 13,
     "metadata": {},
     "output_type": "execute_result"
    }
   ],
   "source": [
    "type(3)"
   ]
  },
  {
   "cell_type": "code",
   "execution_count": 14,
   "id": "f9e9f8de-91c2-4cd6-a5d9-25679bfd4f68",
   "metadata": {},
   "outputs": [
    {
     "data": {
      "text/plain": [
       "float"
      ]
     },
     "execution_count": 14,
     "metadata": {},
     "output_type": "execute_result"
    }
   ],
   "source": [
    "type(1.2)"
   ]
  },
  {
   "cell_type": "markdown",
   "id": "d6e0e34f-b7ab-4933-88a0-8effb0919b5d",
   "metadata": {},
   "source": [
    "## 3.2 거듭 제곱과 나머지\n",
    "- 숫자 A를 기번 곱하는 거듭제곱(Power)"
   ]
  },
  {
   "cell_type": "code",
   "execution_count": 15,
   "id": "a8de7694-efc5-45a1-bf4a-f426e2f99d06",
   "metadata": {},
   "outputs": [
    {
     "data": {
      "text/plain": [
       "32"
      ]
     },
     "execution_count": 15,
     "metadata": {},
     "output_type": "execute_result"
    }
   ],
   "source": [
    "2*2*2*2*2"
   ]
  },
  {
   "cell_type": "markdown",
   "id": "8e3454b1-9af4-48bf-933e-115592065cd2",
   "metadata": {},
   "source": [
    "- 파이썬에서는 거듭제곱을 위한 연산자 ** (두 별표 사이에는 공백이 없어야 함)"
   ]
  },
  {
   "cell_type": "code",
   "execution_count": 16,
   "id": "c65684c6-59f1-476a-ab47-8ca3ad851ef7",
   "metadata": {},
   "outputs": [
    {
     "data": {
      "text/plain": [
       "32"
      ]
     },
     "execution_count": 16,
     "metadata": {},
     "output_type": "execute_result"
    }
   ],
   "source": [
    "2**5"
   ]
  },
  {
   "cell_type": "markdown",
   "id": "6f8ee83b-2d3b-4754-ba9a-0a22d38e6eae",
   "metadata": {},
   "source": [
    "- 정수뿐만 아니라 실수도 거듭제곱"
   ]
  },
  {
   "cell_type": "code",
   "execution_count": 17,
   "id": "7d987803-890f-4b84-85db-5b7cb008f1a4",
   "metadata": {},
   "outputs": [
    {
     "data": {
      "text/plain": [
       "2.25"
      ]
     },
     "execution_count": 17,
     "metadata": {},
     "output_type": "execute_result"
    }
   ],
   "source": [
    "1.5**2"
   ]
  },
  {
   "cell_type": "markdown",
   "id": "66705e20-c760-4333-a2be-2448bc4a9a92",
   "metadata": {},
   "source": [
    "- 거듭제곱의 지수도 정수일 필요가 없음\n",
    "- 파이썬에서 제공하는 수학(math)라이브러리를 이용하면 거듭제곱, 거듭제곱근 외에 다양한 수학 함수 "
   ]
  },
  {
   "cell_type": "code",
   "execution_count": 18,
   "id": "b466d1cf-a284-44a0-b0ef-838dff6110c3",
   "metadata": {},
   "outputs": [
    {
     "data": {
      "text/plain": [
       "1.4142135623730951"
      ]
     },
     "execution_count": 18,
     "metadata": {},
     "output_type": "execute_result"
    }
   ],
   "source": [
    "2**(1/2)"
   ]
  },
  {
   "cell_type": "markdown",
   "id": "84dff0dc-47a3-47da-b8f1-97be7d3038da",
   "metadata": {},
   "source": [
    "- 나머지를 구하기 위해 파이썬에서는 퍼센트 기호(%)를 이용\n",
    "- 퍼센트 기호(%)를 나머지 연산자(Modulo operator)라고 함"
   ]
  },
  {
   "cell_type": "code",
   "execution_count": 19,
   "id": "bf14da74-efa3-45c3-928a-2c3b68b96842",
   "metadata": {},
   "outputs": [
    {
     "data": {
      "text/plain": [
       "3"
      ]
     },
     "execution_count": 19,
     "metadata": {},
     "output_type": "execute_result"
    }
   ],
   "source": [
    "13 % 5"
   ]
  },
  {
   "cell_type": "markdown",
   "id": "7b5a264a-b1dd-4c1e-8642-2f36490a3d5b",
   "metadata": {},
   "source": [
    "- 몫은 정수 나누기 연산자(//)로 구할 수 있음"
   ]
  },
  {
   "cell_type": "code",
   "execution_count": 20,
   "id": "84c2bb5b-0533-4033-a1a8-1c9a02d90ad9",
   "metadata": {},
   "outputs": [
    {
     "data": {
      "text/plain": [
       "2"
      ]
     },
     "execution_count": 20,
     "metadata": {},
     "output_type": "execute_result"
    }
   ],
   "source": [
    "13 // 5"
   ]
  },
  {
   "cell_type": "markdown",
   "id": "d094ef00-b749-4e76-a6df-c2ff8f30cf6e",
   "metadata": {},
   "source": [
    "## 3.3 과학적 표기법\n",
    "- 연산할 때 아주 큰 수나 작은 수를 다뤄야 할 때 특히 과학이나 공학 분야"
   ]
  },
  {
   "cell_type": "code",
   "execution_count": 21,
   "id": "c7b56745-4222-4484-91df-80ba46b2e61e",
   "metadata": {},
   "outputs": [
    {
     "data": {
      "text/plain": [
       "300000000"
      ]
     },
     "execution_count": 21,
     "metadata": {},
     "output_type": "execute_result"
    }
   ],
   "source": [
    "3 * 10 ** 8"
   ]
  },
  {
   "cell_type": "markdown",
   "id": "e6efeb54-deb6-45c2-b86d-a4ec96d8a7a9",
   "metadata": {},
   "source": [
    "- 거듭제곱 연산자로 큰 수를 입력할 수 있지만 10의 거듭제곱(즉, 10n)의 경우 en으로 편리하게 입력, 여기서 n은 정수로 양수, 음수, 0\n",
    "- 10의 거듭제곱 표시를 위한 en앞에는 항상 숫자가 있어야 함"
   ]
  },
  {
   "cell_type": "code",
   "execution_count": 22,
   "id": "fd3f63ce-3a5b-40e1-8098-0c7abf7d8a40",
   "metadata": {},
   "outputs": [
    {
     "data": {
      "text/plain": [
       "300000000.0"
      ]
     },
     "execution_count": 22,
     "metadata": {},
     "output_type": "execute_result"
    }
   ],
   "source": [
    "3e8"
   ]
  },
  {
   "cell_type": "markdown",
   "id": "8530974c-7888-40e3-beeb-cd8c675cbdc9",
   "metadata": {},
   "source": [
    "- 파이썬에서 과학적 표기법으로 출력할 때는 e 다음에는 지수가 양수냐 음수냐에 따라서 양수 기호(+)나 음수 기호(-)가 들어감"
   ]
  },
  {
   "cell_type": "code",
   "execution_count": 23,
   "id": "4ee0c943-84f3-4b8c-8d85-5d21b72dc6f3",
   "metadata": {},
   "outputs": [
    {
     "data": {
      "text/plain": [
       "1000000000000000.0"
      ]
     },
     "execution_count": 23,
     "metadata": {},
     "output_type": "execute_result"
    }
   ],
   "source": [
    "1e15"
   ]
  },
  {
   "cell_type": "code",
   "execution_count": 24,
   "id": "20de74c2-ca75-4388-8aa9-df8d0a6e2720",
   "metadata": {},
   "outputs": [
    {
     "data": {
      "text/plain": [
       "1e+16"
      ]
     },
     "execution_count": 24,
     "metadata": {},
     "output_type": "execute_result"
    }
   ],
   "source": [
    "1e16"
   ]
  },
  {
   "cell_type": "code",
   "execution_count": 25,
   "id": "cb10ea10-08f1-4fe5-9ad5-d0473e2a93a8",
   "metadata": {},
   "outputs": [
    {
     "data": {
      "text/plain": [
       "0.0001"
      ]
     },
     "execution_count": 25,
     "metadata": {},
     "output_type": "execute_result"
    }
   ],
   "source": [
    "1e-4"
   ]
  },
  {
   "cell_type": "code",
   "execution_count": 26,
   "id": "316cd673-5481-4008-b080-0e6c18619407",
   "metadata": {},
   "outputs": [
    {
     "data": {
      "text/plain": [
       "1e-05"
      ]
     },
     "execution_count": 26,
     "metadata": {},
     "output_type": "execute_result"
    }
   ],
   "source": [
    "1e-5"
   ]
  },
  {
   "cell_type": "markdown",
   "id": "45ac12f8-d5cc-421f-847c-847da9f7f1df",
   "metadata": {},
   "source": [
    "## 3.4 진수 표현과 변환\n",
    "- 파이썬은 10진법 외에 2진법, 8진법, 16진법으로 숫자를 입출력하며 변환하는 방법을 제공\n",
    "- 10진수 외에 2진수, 8진수, 16진수를 입력하기 위해서는 숫자 앞에 각각 '0b', '0o', '0x'를 붙임"
   ]
  },
  {
   "cell_type": "code",
   "execution_count": 27,
   "id": "07995bf6-3d1f-4521-b24b-98bb20b78117",
   "metadata": {},
   "outputs": [
    {
     "data": {
      "text/plain": [
       "17"
      ]
     },
     "execution_count": 27,
     "metadata": {},
     "output_type": "execute_result"
    }
   ],
   "source": [
    "17"
   ]
  },
  {
   "cell_type": "code",
   "execution_count": 28,
   "id": "344e3e45-1ec9-4aa1-b2e5-bee81f911f93",
   "metadata": {},
   "outputs": [
    {
     "data": {
      "text/plain": [
       "17"
      ]
     },
     "execution_count": 28,
     "metadata": {},
     "output_type": "execute_result"
    }
   ],
   "source": [
    "0b10001"
   ]
  },
  {
   "cell_type": "code",
   "execution_count": 29,
   "id": "3f3e0007-b944-40a5-8cd7-86fdaeae139d",
   "metadata": {},
   "outputs": [
    {
     "data": {
      "text/plain": [
       "17"
      ]
     },
     "execution_count": 29,
     "metadata": {},
     "output_type": "execute_result"
    }
   ],
   "source": [
    "0o21"
   ]
  },
  {
   "cell_type": "code",
   "execution_count": 30,
   "id": "9913806b-65ba-4d03-8b2d-e102f0a08418",
   "metadata": {},
   "outputs": [
    {
     "data": {
      "text/plain": [
       "17"
      ]
     },
     "execution_count": 30,
     "metadata": {},
     "output_type": "execute_result"
    }
   ],
   "source": [
    "0x11"
   ]
  },
  {
   "cell_type": "markdown",
   "id": "a413e678-5a42-47ec-bc03-59144a3c2ae3",
   "metadata": {},
   "source": [
    "- 파이썬에서는 2진수, 8진수, 16진수 형태로 숫자를 입력해도 기본적으로 10진수로 출력\n",
    "- 파이썬에서 10진수를 2진수, 8진수, 16진수로 변환하는 함수가 있고 각각의 함수는 bin(), oct(), hex()"
   ]
  },
  {
   "cell_type": "code",
   "execution_count": 31,
   "id": "2bd5c9a0-4cf9-41ad-a67b-61b826638e7d",
   "metadata": {},
   "outputs": [
    {
     "data": {
      "text/plain": [
       "'0b10001'"
      ]
     },
     "execution_count": 31,
     "metadata": {},
     "output_type": "execute_result"
    }
   ],
   "source": [
    "bin(17)"
   ]
  },
  {
   "cell_type": "code",
   "execution_count": 32,
   "id": "e7bcfea6-25d5-44a3-9e3e-d4a3b2a96ffd",
   "metadata": {},
   "outputs": [
    {
     "data": {
      "text/plain": [
       "'0o21'"
      ]
     },
     "execution_count": 32,
     "metadata": {},
     "output_type": "execute_result"
    }
   ],
   "source": [
    "oct(17)"
   ]
  },
  {
   "cell_type": "code",
   "execution_count": 33,
   "id": "92b60960-781a-42a9-9f19-c84d753fa5f2",
   "metadata": {},
   "outputs": [
    {
     "data": {
      "text/plain": [
       "'0x11'"
      ]
     },
     "execution_count": 33,
     "metadata": {},
     "output_type": "execute_result"
    }
   ],
   "source": [
    "hex(17)"
   ]
  },
  {
   "cell_type": "markdown",
   "id": "43c8ee76-0000-42ca-83c4-23bda0ac07f2",
   "metadata": {},
   "source": [
    "- 출력 결과는 숫자가 아니라 문자 열이라는 것임\n",
    "- 출력 결과는 작은 따옴표('')안에 있음\n",
    "- 출력 결과가 숫자가 아니라 문자열임을 나타냄"
   ]
  },
  {
   "cell_type": "markdown",
   "id": "3d1b9623-1be6-4f0d-813f-0524e50550f8",
   "metadata": {},
   "source": [
    "- bin(), oct(), hex() 함수를 이용한 출력 결과는 산술 여산에 이용할 수 없음, 진수 변환은 연산이 모두 끝난 후에 해야 함"
   ]
  },
  {
   "cell_type": "code",
   "execution_count": 35,
   "id": "1c94ebb6-54af-4fe6-93e2-221267c8332f",
   "metadata": {},
   "outputs": [
    {
     "data": {
      "text/plain": [
       "22"
      ]
     },
     "execution_count": 35,
     "metadata": {},
     "output_type": "execute_result"
    }
   ],
   "source": [
    "0b10 * 0o10 + 0x10 - 10"
   ]
  },
  {
   "cell_type": "code",
   "execution_count": 36,
   "id": "6b070a85-5261-4d34-9c63-8c86f7536944",
   "metadata": {},
   "outputs": [
    {
     "data": {
      "text/plain": [
       "'0b10110'"
      ]
     },
     "execution_count": 36,
     "metadata": {},
     "output_type": "execute_result"
    }
   ],
   "source": [
    "bin(0b10 * 0o10 + 0x10 - 10)"
   ]
  },
  {
   "cell_type": "code",
   "execution_count": 37,
   "id": "275cfce9-a847-4218-b8b3-0ad7d72df1a0",
   "metadata": {},
   "outputs": [
    {
     "data": {
      "text/plain": [
       "'0o26'"
      ]
     },
     "execution_count": 37,
     "metadata": {},
     "output_type": "execute_result"
    }
   ],
   "source": [
    "oct(0b10 * 0o10 + 0x10 - 10)"
   ]
  },
  {
   "cell_type": "code",
   "execution_count": 38,
   "id": "a8b2e414-0515-4f56-b23a-8dc2c5e60bb6",
   "metadata": {},
   "outputs": [
    {
     "data": {
      "text/plain": [
       "'0x16'"
      ]
     },
     "execution_count": 38,
     "metadata": {},
     "output_type": "execute_result"
    }
   ],
   "source": [
    "hex(0b10 * 0o10 + 0x10 - 10)"
   ]
  },
  {
   "cell_type": "markdown",
   "id": "902aad2e-af58-47d4-91fc-4a25d84ef1b5",
   "metadata": {},
   "source": [
    "## 3.5 논리 연산 및 비교 연산\n",
    "- 어떤 조건을 만족하는 참(True)과 만족하지 않는 거짓(False)을 이용해 연산하는 논리 연산(logical operation), 논리 연산은 불린 연산(Boolean operation)이라고도 함"
   ]
  },
  {
   "cell_type": "markdown",
   "id": "07e903c8-12be-4ae5-a5d8-a2ab8ea12f04",
   "metadata": {},
   "source": [
    "- 파이썬에서 논리 연산을 위한 데이터 타입은 불(bool)임\n",
    "- 불 데이터 타입에는 논리 참(True) 혹은 논리 거짓(False)이 있음\n",
    "- 참(True) 혹은 거짓(False)을 입력할 때 참은 True, 거짓은 False를 입력"
   ]
  },
  {
   "cell_type": "markdown",
   "id": "cd058b6d-db79-4fc5-b501-bcc25a91e5d1",
   "metadata": {},
   "source": [
    "- 'true'나 'false'처럼 다옴표를 사용하면 안 됨\n",
    "- 따옴표를 이용해 입력하면 불 데이터가 아니라 문자열 데이터로 인식\n",
    "- True를 ture나 TRUE로 쓰거나 False를 false나 FALSE로 쓸 수 없음"
   ]
  },
  {
   "cell_type": "code",
   "execution_count": 40,
   "id": "75918c02-63be-48e7-b84b-1dbaf4bfc3f3",
   "metadata": {},
   "outputs": [
    {
     "name": "stdout",
     "output_type": "stream",
     "text": [
      "True\n"
     ]
    }
   ],
   "source": [
    "print(True)"
   ]
  },
  {
   "cell_type": "code",
   "execution_count": 41,
   "id": "2b8795d4-c386-45b7-9410-86384adabb21",
   "metadata": {},
   "outputs": [
    {
     "name": "stdout",
     "output_type": "stream",
     "text": [
      "False\n"
     ]
    }
   ],
   "source": [
    "print(False)"
   ]
  },
  {
   "cell_type": "markdown",
   "id": "04ddb422-bfaa-4736-b732-9cf279d1257b",
   "metadata": {},
   "source": [
    "- 문자열을 출력하는 print('True')나 print('False')와 달리, 논리 연산의 결과를 출력한 것\n",
    "- 불 데이터인 True나 False의 데이터 타입은 type()함수를 이용해 확인"
   ]
  },
  {
   "cell_type": "code",
   "execution_count": 1,
   "id": "705f1886-a09f-4872-9e6a-0663f38dc6f3",
   "metadata": {},
   "outputs": [
    {
     "data": {
      "text/plain": [
       "bool"
      ]
     },
     "execution_count": 1,
     "metadata": {},
     "output_type": "execute_result"
    }
   ],
   "source": [
    "type(True)"
   ]
  },
  {
   "cell_type": "markdown",
   "id": "c57e8361-5dc5-494c-a8e7-1305664b3cc3",
   "metadata": {},
   "source": [
    "- 불 데이터의 경우 논리 연산만 할 수 있음"
   ]
  },
  {
   "cell_type": "markdown",
   "id": "d4f485a2-e94b-44c5-99af-fd15fc99bb3d",
   "metadata": {},
   "source": [
    "- 논리 연산에는 논리곱(and), 논리합(or), 논리 부정(not) 등"
   ]
  },
  {
   "cell_type": "markdown",
   "id": "e2758fd4-202b-4dce-a1bf-2a238ba92ad8",
   "metadata": {},
   "source": [
    "- 논리곱(and)은 두 개의 불 데이터가 모두 참일 때만 참이고 나머지는 거짓"
   ]
  },
  {
   "cell_type": "markdown",
   "id": "85878af1-73d4-41e7-8083-6f3bde11f295",
   "metadata": {},
   "source": [
    "- 논리합(or)은 두 개의 불 데이터 중 하나라도 참이면 참이고 둘 다 거짓이면 거짓\n",
    "- 논리부정(not)은 하나의 불 데이터가 참이면 거짓이고 거짓이면 참"
   ]
  },
  {
   "cell_type": "code",
   "execution_count": 2,
   "id": "f0cfdc73-f0ec-45e7-91cf-eed20d058089",
   "metadata": {},
   "outputs": [
    {
     "name": "stdout",
     "output_type": "stream",
     "text": [
      "False\n",
      "True\n",
      "False\n"
     ]
    }
   ],
   "source": [
    "print(True and False)\n",
    "print(True or False)\n",
    "print(not True)"
   ]
  },
  {
   "cell_type": "markdown",
   "id": "c0ac4cb9-8225-472e-8e29-93567b30e0f3",
   "metadata": {},
   "source": [
    "- 비교 연산자를 이용해 연산\n",
    "- 비교 연산의 결과는 불 데이터 형식으로 나옴"
   ]
  },
  {
   "cell_type": "code",
   "execution_count": 3,
   "id": "93eac399-5916-4611-a4bf-4922360597a0",
   "metadata": {},
   "outputs": [
    {
     "name": "stdout",
     "output_type": "stream",
     "text": [
      "False\n",
      "True\n",
      "False\n",
      "True\n",
      "False\n",
      "True\n"
     ]
    }
   ],
   "source": [
    "print(5==3)\n",
    "print(5!=3)\n",
    "print(5<3)\n",
    "print(5>3)\n",
    "print(5<=3)\n",
    "print(5>=3)"
   ]
  },
  {
   "cell_type": "markdown",
   "id": "385f8a2b-da27-455c-b279-770644a7ee50",
   "metadata": {},
   "source": [
    "- 비교 연산자의 우선순위가 논리 연산자의 우선순위보다 높음\n",
    "- 따라서 비교 연산자와 논리 연산자가 함께 있으면 비교 연산을 먼저 함"
   ]
  },
  {
   "cell_type": "code",
   "execution_count": 4,
   "id": "3a255994-3dc3-4a19-a3b3-d10df85efe02",
   "metadata": {},
   "outputs": [
    {
     "name": "stdout",
     "output_type": "stream",
     "text": [
      "True\n"
     ]
    }
   ],
   "source": [
    "print(1>0 and -2<0)"
   ]
  },
  {
   "cell_type": "markdown",
   "id": "9730a865-551d-417a-86a6-bfe3daffaa18",
   "metadata": {},
   "source": [
    "- 비교 연산인 '1>0과 -2<0'을 먼저 수행하는데 결과는 모두 True\n",
    "- 그 후 이 연산의 결과를 이용해 논리곱(and)연산을 수행하는데 결과는 True"
   ]
  },
  {
   "cell_type": "markdown",
   "id": "ee7e2b7a-f635-42e5-8b7b-46ceb6369979",
   "metadata": {},
   "source": [
    "- 괄호가 연산이 함께 있으면 괄호의 우선순위가 높음\n",
    "- 괄호가 여러 겹 있을 때는 가장 안쪽 괄호부터 먼저 계산함 "
   ]
  },
  {
   "cell_type": "code",
   "execution_count": 5,
   "id": "506e954d-e5be-4b7f-9c62-e63aec342763",
   "metadata": {},
   "outputs": [
    {
     "name": "stdout",
     "output_type": "stream",
     "text": [
      "False\n",
      "True\n",
      "False\n"
     ]
    }
   ],
   "source": [
    "print((3<0) and ((-5>0) and (1>5)))\n",
    "print((3>0) or ((-5>0) and (1>5)))\n",
    "print(((3>0) or (-5>0)) and ((4>8) or (3<0)))"
   ]
  },
  {
   "cell_type": "markdown",
   "id": "78deb4f7-f2d5-4ba9-a5c1-f78e96cb307d",
   "metadata": {},
   "source": [
    "## 3.6 정리\n",
    "- 파이썬을 이용해 계산기처럼 연산하는 방법\n",
    "- 간단한 사칙연산부터 거듭제곱과 과학적 표기법\n",
    "- 10진수, 2진수, 8진수, 16진수의 표현과 변환 방법\n",
    "- 논리 연산 및 비교 연산"
   ]
  }
 ],
 "metadata": {
  "kernelspec": {
   "display_name": "Python 3 (ipykernel)",
   "language": "python",
   "name": "python3"
  },
  "language_info": {
   "codemirror_mode": {
    "name": "ipython",
    "version": 3
   },
   "file_extension": ".py",
   "mimetype": "text/x-python",
   "name": "python",
   "nbconvert_exporter": "python",
   "pygments_lexer": "ipython3",
   "version": "3.12.7"
  }
 },
 "nbformat": 4,
 "nbformat_minor": 5
}
