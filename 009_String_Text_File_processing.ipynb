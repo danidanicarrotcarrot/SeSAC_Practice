{
 "cells": [
  {
   "cell_type": "code",
   "execution_count": 2,
   "id": "ecf03748-23e7-49db-8a2f-73bb35746fe3",
   "metadata": {},
   "outputs": [
    {
     "data": {
      "text/plain": [
       "['에스프레소', ' 아메리카노', ' 카페라테', ' 카푸치노']"
      ]
     },
     "execution_count": 2,
     "metadata": {},
     "output_type": "execute_result"
    }
   ],
   "source": [
    "coffee_menu_str = \"에스프레소, 아메리카노, 카페라테, 카푸치노\"\n",
    "coffee_menu_str.split(',')"
   ]
  },
  {
   "cell_type": "code",
   "execution_count": 3,
   "id": "3629be14-879a-4bef-9a81-245ca23eb954",
   "metadata": {},
   "outputs": [
    {
     "data": {
      "text/plain": [
       "'Python'"
      ]
     },
     "execution_count": 3,
     "metadata": {},
     "output_type": "execute_result"
    }
   ],
   "source": [
    "# 필요없는 문자열 삭제 : strip\n",
    "\"aaaaPythonaaa\".strip('a')"
   ]
  },
  {
   "cell_type": "code",
   "execution_count": 4,
   "id": "41f1c3e9-7f23-475e-8b8d-e332ca6b5b0a",
   "metadata": {},
   "outputs": [
    {
     "data": {
      "text/plain": [
       "['서울시', '서초구', '반포대로', '201(반포동)']"
      ]
     },
     "execution_count": 4,
     "metadata": {},
     "output_type": "execute_result"
    }
   ],
   "source": [
    "# 문자열 연결 : join\n",
    "address_list = ['서울시', '서초구', '반포대로', '201(반포동)']\n",
    "address_list"
   ]
  },
  {
   "cell_type": "code",
   "execution_count": 5,
   "id": "39256ab6-8e32-4fc5-9616-68b32d19d231",
   "metadata": {},
   "outputs": [
    {
     "data": {
      "text/plain": [
       "'서울시 서초구 반포대로 201(반포동)'"
      ]
     },
     "execution_count": 5,
     "metadata": {},
     "output_type": "execute_result"
    }
   ],
   "source": [
    "a = ' '\n",
    "a.join(address_list)"
   ]
  },
  {
   "cell_type": "code",
   "execution_count": 6,
   "id": "696e3898-d567-4110-912b-5b7e8e2dfa32",
   "metadata": {},
   "outputs": [
    {
     "name": "stdout",
     "output_type": "stream",
     "text": [
      "찾는 문자열의 위치: 0\n",
      "찾는 문자열의 위치: 7\n",
      "찾는 문자열의 위치: 5\n",
      "찾는 문자열의 위치: -1\n"
     ]
    }
   ],
   "source": [
    "# 문자열 찾기 find\n",
    "str_f = \"Python code.\"\n",
    "print(\"찾는 문자열의 위치:\", str_f.find(\"Python\"))\n",
    "print(\"찾는 문자열의 위치:\", str_f.find(\"code\"))\n",
    "print(\"찾는 문자열의 위치:\", str_f.find(\"n\"))\n",
    "print(\"찾는 문자열의 위치:\", str_f.find(\"easy\"))"
   ]
  },
  {
   "cell_type": "code",
   "execution_count": 8,
   "id": "372366aa-56e8-4bcf-94e9-2ef0dbaf8c88",
   "metadata": {},
   "outputs": [
    {
     "name": "stdout",
     "output_type": "stream",
     "text": [
      "20\n",
      "-1\n"
     ]
    }
   ],
   "source": [
    "str_f_se = \"Python is powerful. Python is easy to learn.\"\n",
    "print(str_f_se.find(\"Python\", 10, 30)) # 시작 위치(start)와 끝 위치(end)\n",
    "print(str_f_se.find(\"Python\", 35)) # 찾기 위한 시작 위치(start) 지정"
   ]
  },
  {
   "cell_type": "code",
   "execution_count": 9,
   "id": "78c6dcac-3fe3-4e1f-80cd-89a80d150bb9",
   "metadata": {},
   "outputs": [
    {
     "name": "stdout",
     "output_type": "stream",
     "text": [
      "Python으로 시작?: True\n",
      "is로 시작?: False\n",
      ".로 끝?: True\n",
      "learn으로 끝?: False\n"
     ]
    }
   ],
   "source": [
    "str_se = \"Python is powerful. Python is easy to learn.\"\n",
    "print(\"Python으로 시작?:\", str_se.startswith(\"Python\"))\n",
    "print(\"is로 시작?:\", str_se.startswith(\"is\"))\n",
    "print(\".로 끝?:\", str_se.endswith(\".\"))\n",
    "print(\"learn으로 끝?:\", str_se.endswith(\"learn\"))"
   ]
  },
  {
   "cell_type": "code",
   "execution_count": 10,
   "id": "22647036-a250-4488-a4d8-8b8eadcfdf55",
   "metadata": {},
   "outputs": [
    {
     "name": "stdout",
     "output_type": "stream",
     "text": [
      "[Python] [is] [fast]\n",
      "Python] is] fast]\n",
      "Python is fast\n"
     ]
    }
   ],
   "source": [
    "# 문자열 바꾸기 replace\n",
    "str_b = '[Python] [is] [fast]'\n",
    "str_b1 = str_b.replace('[', '') # 문자열에서 '['를 제거\n",
    "str_b2 = str_b1.replace(']', '') # 결과 문자열에서 다시 ']'를 제거\n",
    "print(str_b)\n",
    "print(str_b1)\n",
    "print(str_b2)"
   ]
  },
  {
   "cell_type": "code",
   "execution_count": 11,
   "id": "5c963d65-f86d-4cc2-a7fd-9b12c157dbb5",
   "metadata": {},
   "outputs": [
    {
     "name": "stdout",
     "output_type": "stream",
     "text": [
      "True\n",
      "False\n"
     ]
    }
   ],
   "source": [
    "# 문자열의 구성 확인하기\n",
    "print('Python'.isalpha()) # 문자열에 공백, 특수 문자, 숫자가 없음\n",
    "print('Ver. 3.x'.isalpha()) # 공백, 특수 문자, 숫자 중 하나가 있음"
   ]
  },
  {
   "cell_type": "code",
   "execution_count": 12,
   "id": "dd008e55-495b-4d4f-81f7-26f5134fc93f",
   "metadata": {},
   "outputs": [
    {
     "name": "stdout",
     "output_type": "stream",
     "text": [
      "True\n",
      "False\n"
     ]
    }
   ],
   "source": [
    "print('12345'.isdigit()) # 문자열이 모두 숫자로 구성됨\n",
    "print('12345abc'.isdigit())# 문자열이 숫자로만 구성되지 않음"
   ]
  },
  {
   "cell_type": "code",
   "execution_count": 14,
   "id": "04a4a97b-8d74-477b-89c8-0b6fae400b29",
   "metadata": {},
   "outputs": [
    {
     "name": "stdout",
     "output_type": "stream",
     "text": [
      "True\n",
      "False\n"
     ]
    }
   ],
   "source": [
    "# 문자열이 특수 문자나 공백을 가지지 않는지 확인\n",
    "print('abc1234'.isalnum()) # 특수 문자나 공백이 아닌 문자와 숫자로 구성\n",
    "print(' abc1234'.isalnum()) # 문자열에 공백이 있음"
   ]
  },
  {
   "cell_type": "code",
   "execution_count": 15,
   "id": "f5b3e0ef-e4f9-4735-8da0-1bc5ad2b8bbe",
   "metadata": {},
   "outputs": [
    {
     "name": "stdout",
     "output_type": "stream",
     "text": [
      "True\n",
      "False\n"
     ]
    }
   ],
   "source": [
    "# 공백으로만 구성됐는지\n",
    "print(' '.isspace()) # 문자열이 공백으로만 구성됨\n",
    "print(' 1 '.isspace()) # 문자열에 공백 외에 다른 문자가 있음"
   ]
  },
  {
   "cell_type": "code",
   "execution_count": 16,
   "id": "bcd25a7b-96ae-4c53-a0cf-c597b83478e3",
   "metadata": {},
   "outputs": [
    {
     "name": "stdout",
     "output_type": "stream",
     "text": [
      "True\n",
      "False\n",
      "True\n",
      "False\n"
     ]
    }
   ],
   "source": [
    "# 대문자, 소문자 판단\n",
    "print('PYTHON'.isupper()) # 문자열이 모두 대문자로 구성됨\n",
    "print('Python'.isupper()) # 문자열에 대문자와 소문자가 있음\n",
    "print('python'.islower()) # 문자열이 모두 소문자로 구성됨\n",
    "print('Python'.islower()) # 문자열에 대문자와 소문자가 있음"
   ]
  },
  {
   "cell_type": "code",
   "execution_count": 17,
   "id": "d8626a88-be79-4e99-a1c7-9a14edc28cab",
   "metadata": {},
   "outputs": [
    {
     "name": "stdout",
     "output_type": "stream",
     "text": [
      "python is powerful. python is easy to learn.\n",
      "PYTHON IS POWERFUL. PYTHON IS EASY TO LEARN.\n"
     ]
    }
   ],
   "source": [
    "# 대소문자로 변경\n",
    "string1 = 'Python is powerful. PYTHON IS EASY TO LEARN.'\n",
    "print(string1.lower())\n",
    "print(string1.upper())"
   ]
  },
  {
   "cell_type": "markdown",
   "id": "5a174c01-d8b4-4c5a-8bfc-3dbf7da07a90",
   "metadata": {},
   "source": [
    "# 텍스트 파일의 데이터를 읽고 처리하기"
   ]
  },
  {
   "cell_type": "code",
   "execution_count": 90,
   "id": "ad044b26-e62e-4d90-81e3-1f4e8d3ee519",
   "metadata": {},
   "outputs": [
    {
     "name": "stdout",
     "output_type": "stream",
     "text": [
      "날짜    에스프레소  아메리카노  카페라테  카푸치노\n",
      "10.15       10  \t50         45       20   \n",
      "10.16       12\t\t45         41       18\n",
      "10.17       11\t\t53         32       25\n",
      "10.18       15\t\t49         38       22"
     ]
    }
   ],
   "source": [
    "# 데이터 확인\n",
    "file_name = \"C:/Users/user/sesac/data/coffeeShopSales.txt\"\n",
    "f = open(file_name, encoding='utf8')\n",
    "\n",
    "for line in f:\n",
    "    print(line, end='')\n",
    "f.close()"
   ]
  },
  {
   "cell_type": "code",
   "execution_count": 91,
   "id": "f30aaa66-b478-4065-9866-e456cd61c899",
   "metadata": {},
   "outputs": [
    {
     "name": "stdout",
     "output_type": "stream",
     "text": [
      "['에스프레소', '아메리카노', '카페라테', '카푸치노']\n"
     ]
    }
   ],
   "source": [
    "f = open(file_name, encoding='utf8')\n",
    "\n",
    "# 커피 이름으로 리스트 생성\n",
    "header = f.readline()\n",
    "coffee= [head for head in header.split()]\n",
    "coffee= coffee[1:] # 날짜 빼고 저장\n",
    "print(coffee)"
   ]
  },
  {
   "cell_type": "code",
   "execution_count": 92,
   "id": "cde35ef5-d8ea-482d-800d-06632065ba67",
   "metadata": {},
   "outputs": [
    {
     "name": "stdout",
     "output_type": "stream",
     "text": [
      "[48, 197, 156, 85] [12.0, 49.25, 39.0, 21.25]\n"
     ]
    }
   ],
   "source": [
    "lst_sum = [0, 0, 0, 0, 0] # 일자별 커피 판매량 합계\n",
    "for line in f:\n",
    "    lst = list(line.split())\n",
    "    for i in range(1, len(lst)):\n",
    "        lst_sum[i] += int(lst[i])\n",
    "\n",
    "menu_total = lst_sum[1:] # 합계\n",
    "menu_total_avg = [m/4 for m in menu_total] # 평균\n",
    "\n",
    "print(menu_total, menu_total_avg)"
   ]
  },
  {
   "cell_type": "code",
   "execution_count": 95,
   "id": "e6aeb291-e47d-4e37-bfa1-f0e429441f8b",
   "metadata": {},
   "outputs": [
    {
     "name": "stdout",
     "output_type": "stream",
     "text": [
      "에스프레소의 전체 판매량은 48(잔), 하루 평균 판매량은 12.0(잔) 입니다.\n",
      "아메리카노의 전체 판매량은 197(잔), 하루 평균 판매량은 49.25(잔) 입니다.\n",
      "카페라테의 전체 판매량은 156(잔), 하루 평균 판매량은 39.0(잔) 입니다.\n",
      "카푸치노의 전체 판매량은 85(잔), 하루 평균 판매량은 21.25(잔) 입니다.\n"
     ]
    }
   ],
   "source": [
    "for i in range(4):\n",
    "    print(coffee[i]+'의 전체 판매량은 '+str(menu_total[i])+'(잔)'+', 하루 평균 판매량은 '+str(menu_total_avg[i])+'(잔)'+' 입니다.')\n",
    "\n",
    "f.close()"
   ]
  },
  {
   "cell_type": "code",
   "execution_count": null,
   "id": "6e32c318-23a8-461f-bb61-6cad1679f782",
   "metadata": {},
   "outputs": [],
   "source": []
  }
 ],
 "metadata": {
  "kernelspec": {
   "display_name": "Python 3 (ipykernel)",
   "language": "python",
   "name": "python3"
  },
  "language_info": {
   "codemirror_mode": {
    "name": "ipython",
    "version": 3
   },
   "file_extension": ".py",
   "mimetype": "text/x-python",
   "name": "python",
   "nbconvert_exporter": "python",
   "pygments_lexer": "ipython3",
   "version": "3.12.7"
  }
 },
 "nbformat": 4,
 "nbformat_minor": 5
}
